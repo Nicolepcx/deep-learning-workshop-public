{
 "cells": [
  {
   "cell_type": "markdown",
   "metadata": {},
   "source": [
    "# Implementing Neural Networks in Theano & Lasagne\n",
    "\n",
    "In this notebook we will implement a simple Neural Network from scratch. This tutorial combines and adapts elements from a tutorial by [WildML](http://www.wildml.com/2015/09/implementing-a-neural-network-from-scratch/) and by [Marekei](http://www.marekrei.com/blog/theano-tutorial/).\n",
    "\n"
   ]
  },
  {
   "cell_type": "code",
   "execution_count": 1,
   "metadata": {
    "ExecuteTime": {
     "end_time": "2016-07-12T07:14:37.326052",
     "start_time": "2016-07-12T07:14:24.128226"
    },
    "collapsed": false
   },
   "outputs": [
    {
     "name": "stderr",
     "output_type": "stream",
     "text": [
      "WARNING (theano.gof.compilelock): Overriding existing lock by dead process '17187' (I am process '17988')\n",
      "Using gpu device 1: Tesla K80 (CNMeM is disabled, cuDNN 4007)\n"
     ]
    }
   ],
   "source": [
    "import os\n",
    "\n",
    "os.environ['THEANO_FLAGS'] = 'device=gpu1, floatX=float32'\n",
    "os.environ['CUDA_LAUNCH_BLOCKING'] = '1'    # we need this for profiling theano functions\n",
    "\n",
    "import matplotlib.pyplot as plt\n",
    "import numpy as np\n",
    "import numpy\n",
    "import sklearn\n",
    "import sklearn.datasets\n",
    "import matplotlib\n",
    "import theano\n",
    "import theano.tensor as T\n",
    "\n",
    "import pydot\n",
    "from IPython.display import Image\n",
    "from IPython.display import SVG\n",
    "import timeit\n",
    "\n",
    "# Display plots inline and change default figure size\n",
    "%matplotlib inline\n",
    "matplotlib.rcParams['figure.figsize'] = (10.0, 8.0)"
   ]
  },
  {
   "cell_type": "markdown",
   "metadata": {
    "ExecuteTime": {
     "end_time": "2016-07-09T18:55:23.982257",
     "start_time": "2016-07-09T18:55:23.979643"
    }
   },
   "source": [
    "### Introduction to Theano Syntax"
   ]
  },
  {
   "cell_type": "markdown",
   "metadata": {},
   "source": [
    "Here is simple toy example in which we compute the dot-product between a given\n",
    "vector $w$ and a variable $x$:"
   ]
  },
  {
   "cell_type": "code",
   "execution_count": 2,
   "metadata": {
    "ExecuteTime": {
     "end_time": "2016-07-12T07:14:37.658863",
     "start_time": "2016-07-12T07:14:37.327695"
    },
    "collapsed": false
   },
   "outputs": [
    {
     "name": "stdout",
     "output_type": "stream",
     "text": [
      "0.9\n"
     ]
    }
   ],
   "source": [
    "# We first define a Theano variable x to be a vector of 32-bit floats, \n",
    "# and give it the name ‘x’\n",
    "x = theano.tensor.fvector('x')\n",
    "\n",
    "# Next, we create a Theano variable w, assign its value to be \n",
    "# vector [0.2, 0.7], and name it ‘W’:\n",
    "w = theano.shared(np.asarray([0.2, 0.7]), 'w')\n",
    "\n",
    "# We define y to be the sum of all elements in the element-wise \n",
    "# multiplication of x and W:\n",
    "y = (x * w).sum()\n",
    " \n",
    "# We define a Theano function f, which takes as input x and outputs y:\n",
    "f = theano.function([x], y)\n",
    " \n",
    "# Then call this function, giving as the argument vector [1.0, 1.0], \n",
    "# essentially setting the value of variable x:\n",
    "output = f([1.0, 1.0])\n",
    "print output"
   ]
  },
  {
   "cell_type": "markdown",
   "metadata": {
    "ExecuteTime": {
     "end_time": "2016-07-09T19:04:09.661164",
     "start_time": "2016-07-09T19:04:09.658605"
    }
   },
   "source": [
    "### Theano Variables"
   ]
  },
  {
   "cell_type": "markdown",
   "metadata": {},
   "source": [
    "We can define variables which don’t have any values yet. Normally, these would be used for inputs to our network. The variables have to be of a specific type though. For example, here we define variable x to be a vector of 32-bit floats, and give it name ‘x’:\n",
    "\n",
    "> x = theano.tensor.fvector('x')\n",
    "\n",
    "The names are generally useful for debugging and informative error messages. Theano won’t have access to your Python variable names, so you have to assign explicit Theano names for each variable if you want them to be referred to as something more useful than just “a tensor”.\n",
    "\n",
    "There are a number of different variable types available, just have a look at the list here. Some of the more popular ones include:\n",
    "\n",
    "| Constructor  | dtype   | ndim |\n",
    "|--------------|---------|------|\n",
    "| fvector      | float32 | 1    |\n",
    "| ivector      | int32   | 1    |\n",
    "| fscalar      | float32 | 0    |\n",
    "| fmatrix      | float32 | 2    |\n",
    "| ftensor3     | float32 | 3    |\n",
    "| dtensor3     | float64 | 3    |\n",
    "| ftensor4     | float32 | 4    |\n",
    "| dtensor4     | float64 | 4    |\n",
    "\n",
    "You can also define a generic vector (or tensor) and set the type with an argument:\n",
    "\n",
    "> x = theano.tensor.vector('x', dtype=float32)\n",
    "\n",
    "If you don’t set the dtype, you will create vectors of type config.floatX."
   ]
  },
  {
   "cell_type": "markdown",
   "metadata": {},
   "source": [
    "### Shared Variables"
   ]
  },
  {
   "cell_type": "markdown",
   "metadata": {},
   "source": [
    "We can also define shared variables, which are shared between different functions and different function calls. Normally, these would be used for weights in our neural network. Theano will automatically try to move shared variables to the GPU, provided one is available, in order to speed up computation.\n",
    "\n",
    "Here we define a shared variable and set its value to [0.2, 0.7].\n",
    "\n",
    "> W = theano.shared(numpy.asarray([0.2, 0.7]), 'W')\n",
    "\n",
    "The values in shared variables can be accessed and modified outside of our Theano functions using these commands:\n",
    "\n",
    "> W.get_value()\n",
    "\n",
    "> W.set_value([0.1, 0.9])"
   ]
  },
  {
   "cell_type": "markdown",
   "metadata": {},
   "source": [
    "### Functions"
   ]
  },
  {
   "cell_type": "markdown",
   "metadata": {},
   "source": [
    "Theano functions are basically hooks for interacting with the symbolic graph. Commonly, we use them for passing input into our network and collecting the resulting output.\n",
    "\n",
    "Here we define a Theano function f that takes x as input and returns y as output:\n",
    "\n",
    "> f = theano.function([x], y)\n",
    "\n",
    "The first parameter is the list of input variables, and the second parameter is the list of output variables. Although if there’s only one output variable (like now) we don’t need to make it into a list.\n",
    "\n",
    "When we construct a function, Theano takes over and performs some of its own magic. It builds the computational graph and optimises it as much as possible. It restructures mathematical operations to make them faster and more stable, compiles some parts to C, moves some tensors to the GPU, etc.\n",
    "\n",
    "Theano compilation can be controlled by setting the value of mode in the environement variable THEANO_FLAGS:\n",
    "\n",
    "* FAST_COMPILE – Fast to compile, slow to run. Python implementations only, minimal graph optimisation.\n",
    "* FAST_RUN – Slow to compile, fast to run. C implementations where available, full range of optimisations\n",
    "\n",
    "The parameter THEANO_FLAGS can be set at the beginning of the script, see the header of this notebook."
   ]
  },
  {
   "cell_type": "markdown",
   "metadata": {},
   "source": [
    "### Minimum Training Example\n",
    "\n",
    "Here’s a minimal script for actually training something in Theano. We will be training the weights in W using gradient descent, so that the result from the model would be 20 instead of the original 0.9."
   ]
  },
  {
   "cell_type": "code",
   "execution_count": 3,
   "metadata": {
    "ExecuteTime": {
     "end_time": "2016-07-12T07:14:37.831282",
     "start_time": "2016-07-12T07:14:37.661017"
    },
    "collapsed": false
   },
   "outputs": [
    {
     "name": "stdout",
     "output_type": "stream",
     "text": [
      "0.9\n",
      "8.54000011384\n",
      "13.1240001366\n",
      "15.874400123\n",
      "17.5246400984\n",
      "18.5147840738\n",
      "19.1088704531\n",
      "19.4653222772\n",
      "19.6791933695\n",
      "19.8075160236\n"
     ]
    }
   ],
   "source": [
    "x = theano.tensor.fvector('x')\n",
    "\n",
    "# We create a second input variable called target, which will act \n",
    "# as the target value we use for training:\n",
    "target = theano.tensor.fscalar('target')\n",
    " \n",
    "W = theano.shared(numpy.asarray([0.2, 0.7]), 'W')\n",
    "y = (x * W).sum()\n",
    "\n",
    "# In order to train the model, we need a cost function. Here we use a \n",
    "# simple squared distance from the target:\n",
    "cost = theano.tensor.sqr(target - y)\n",
    "\n",
    "# To calculate the partial gradients for the parameters with respect to the \n",
    "# cost function we call the grad function. First argument: the real-valued \n",
    "# cost, second argument : a list of all the variables we want gradients for\n",
    "gradients = theano.tensor.grad(cost, [W])\n",
    "\n",
    "# Now let’s define a symbolic variable for what the updated version of the \n",
    "# parameters will look like. Using gradient descent, the update rule is to \n",
    "# subtract the gradient, multiplied by the learning rate:\n",
    "W_updated = W - (0.1 * gradients[0])\n",
    "\n",
    "# And next we create a list of updates. More specifically, a list of tuples \n",
    "# where the first element is the variable we want to update, and the second \n",
    "# element is a variable containing the values that we want the first variable \n",
    "# to contain after the update. This is just a syntax that Theano requires.\n",
    "updates = [(W, W_updated)]\n",
    "\n",
    "# Theano.function now takes two input arguments – one for the input vector, \n",
    "# and another for the target value used for training. And the list of updates \n",
    "# also gets attached to the function as well. Every time this function is \n",
    "# called, we pass in values for x and target, get back the value for y as \n",
    "# output, and Theano performs all the updates in the update list.\n",
    "f = theano.function([x, target], y, updates=updates)\n",
    "\n",
    "# In order to train the parameters, we repeatedly call this function \n",
    "# (10 times in this case). Normally, we’d pass in different examples from \n",
    "# our training data, but for this example we use the same x=[1.0, 1.0] and \n",
    "# target=20 each time:\n",
    "for i in xrange(10):\n",
    "    output = f([1.0, 1.0], 20.0)\n",
    "    print output"
   ]
  },
  {
   "cell_type": "markdown",
   "metadata": {},
   "source": [
    "### Useful Operations"
   ]
  },
  {
   "cell_type": "markdown",
   "metadata": {
    "ExecuteTime": {
     "end_time": "2016-07-09T19:52:20.129461",
     "start_time": "2016-07-09T19:52:20.122314"
    }
   },
   "source": [
    "This covers the basic logic behind building models with Theano. The example was very simple, but we are free to define increasingly complicated networks, as long as we use Theano-specific functions. Now let’s look at some of these building blocks that we have available.\n",
    "\n",
    "**Evaluate the value of a Theano variable**\n",
    "\n",
    "The eval() function forces the Theano variable to calculate and return its actual (numerical) value. If we try to just print the variable a, we only print its name. But if we use eval(), we get the actual square matrix that it is initialised to."
   ]
  },
  {
   "cell_type": "code",
   "execution_count": 4,
   "metadata": {
    "ExecuteTime": {
     "end_time": "2016-07-12T07:14:37.879963",
     "start_time": "2016-07-12T07:14:37.833885"
    },
    "collapsed": false
   },
   "outputs": [
    {
     "data": {
      "text/plain": [
       "array([[ 1.,  2.],\n",
       "       [ 3.,  4.]])"
      ]
     },
     "execution_count": 4,
     "metadata": {},
     "output_type": "execute_result"
    }
   ],
   "source": [
    "a = theano.shared(numpy.asarray([[1.0,2.0],[3.0,4.0]]), 'a')\n",
    "a.eval()"
   ]
  },
  {
   "cell_type": "markdown",
   "metadata": {},
   "source": [
    "This eval() function isn’t really used for building models, but it can be useful for debugging and learning how Theano works. In the examples below, I will be using the matrix a and the eval() function to print the value of each variable and demonstrate how different operations work."
   ]
  },
  {
   "cell_type": "markdown",
   "metadata": {
    "ExecuteTime": {
     "end_time": "2016-07-09T19:53:30.186274",
     "start_time": "2016-07-09T19:53:30.182431"
    }
   },
   "source": [
    "**Basic element-wise operations: + – * /**"
   ]
  },
  {
   "cell_type": "code",
   "execution_count": 5,
   "metadata": {
    "ExecuteTime": {
     "end_time": "2016-07-12T07:14:38.057655",
     "start_time": "2016-07-12T07:14:37.882254"
    },
    "collapsed": false
   },
   "outputs": [
    {
     "data": {
      "text/plain": [
       "array([[ 0.5,  1. ],\n",
       "       [ 1.5,  2. ]])"
      ]
     },
     "execution_count": 5,
     "metadata": {},
     "output_type": "execute_result"
    }
   ],
   "source": [
    "c = ((a + a) / 4.0)\n",
    "c.eval()"
   ]
  },
  {
   "cell_type": "markdown",
   "metadata": {
    "ExecuteTime": {
     "end_time": "2016-07-09T19:54:09.045007",
     "start_time": "2016-07-09T19:54:09.041375"
    }
   },
   "source": [
    "**Dot product**"
   ]
  },
  {
   "cell_type": "code",
   "execution_count": 6,
   "metadata": {
    "ExecuteTime": {
     "end_time": "2016-07-12T07:14:38.206176",
     "start_time": "2016-07-12T07:14:38.059382"
    },
    "collapsed": false
   },
   "outputs": [
    {
     "data": {
      "text/plain": [
       "array([[  7.,  10.],\n",
       "       [ 15.,  22.]])"
      ]
     },
     "execution_count": 6,
     "metadata": {},
     "output_type": "execute_result"
    }
   ],
   "source": [
    "c = theano.tensor.dot(a, a)\n",
    "c.eval()"
   ]
  },
  {
   "cell_type": "markdown",
   "metadata": {
    "ExecuteTime": {
     "end_time": "2016-07-09T19:54:41.752075",
     "start_time": "2016-07-09T19:54:41.746576"
    }
   },
   "source": [
    "**Activation functions**"
   ]
  },
  {
   "cell_type": "code",
   "execution_count": 7,
   "metadata": {
    "ExecuteTime": {
     "end_time": "2016-07-12T07:14:38.330005",
     "start_time": "2016-07-12T07:14:38.207283"
    },
    "collapsed": false
   },
   "outputs": [
    {
     "data": {
      "text/plain": [
       "array([[ 0.73105858,  0.88079708],\n",
       "       [ 0.95257413,  0.98201379]])"
      ]
     },
     "execution_count": 7,
     "metadata": {},
     "output_type": "execute_result"
    }
   ],
   "source": [
    "c = theano.tensor.nnet.sigmoid(a)\n",
    "c.eval()"
   ]
  },
  {
   "cell_type": "code",
   "execution_count": 8,
   "metadata": {
    "ExecuteTime": {
     "end_time": "2016-07-12T07:14:38.452085",
     "start_time": "2016-07-12T07:14:38.332372"
    },
    "collapsed": false
   },
   "outputs": [
    {
     "data": {
      "text/plain": [
       "array([[ 0.76159416,  0.96402758],\n",
       "       [ 0.99505475,  0.9993293 ]])"
      ]
     },
     "execution_count": 8,
     "metadata": {},
     "output_type": "execute_result"
    }
   ],
   "source": [
    "c = theano.tensor.tanh(a)\n",
    "c.eval()"
   ]
  },
  {
   "cell_type": "code",
   "execution_count": 9,
   "metadata": {
    "ExecuteTime": {
     "end_time": "2016-07-12T07:14:38.571938",
     "start_time": "2016-07-12T07:14:38.453962"
    },
    "collapsed": false
   },
   "outputs": [
    {
     "data": {
      "text/plain": [
       "array([[ 0.26894142,  0.73105858],\n",
       "       [ 0.26894142,  0.73105858]])"
      ]
     },
     "execution_count": 9,
     "metadata": {},
     "output_type": "execute_result"
    }
   ],
   "source": [
    "c = theano.tensor.nnet.softmax(a)\n",
    "c.eval()"
   ]
  },
  {
   "cell_type": "markdown",
   "metadata": {},
   "source": [
    "**Sum**"
   ]
  },
  {
   "cell_type": "code",
   "execution_count": 10,
   "metadata": {
    "ExecuteTime": {
     "end_time": "2016-07-12T07:14:38.704918",
     "start_time": "2016-07-12T07:14:38.573427"
    },
    "collapsed": false
   },
   "outputs": [
    {
     "data": {
      "text/plain": [
       "array(10.0)"
      ]
     },
     "execution_count": 10,
     "metadata": {},
     "output_type": "execute_result"
    }
   ],
   "source": [
    "c = a.sum()\n",
    "c.eval()"
   ]
  },
  {
   "cell_type": "code",
   "execution_count": 11,
   "metadata": {
    "ExecuteTime": {
     "end_time": "2016-07-12T07:14:38.865668",
     "start_time": "2016-07-12T07:14:38.706056"
    },
    "collapsed": false
   },
   "outputs": [
    {
     "data": {
      "text/plain": [
       "array([ 3.,  7.])"
      ]
     },
     "execution_count": 11,
     "metadata": {},
     "output_type": "execute_result"
    }
   ],
   "source": [
    "c = a.sum(axis=1)\n",
    "c.eval()"
   ]
  },
  {
   "cell_type": "markdown",
   "metadata": {},
   "source": [
    "**Max**"
   ]
  },
  {
   "cell_type": "code",
   "execution_count": 12,
   "metadata": {
    "ExecuteTime": {
     "end_time": "2016-07-12T07:14:38.966929",
     "start_time": "2016-07-12T07:14:38.867579"
    },
    "collapsed": false
   },
   "outputs": [
    {
     "data": {
      "text/plain": [
       "array(4.0)"
      ]
     },
     "execution_count": 12,
     "metadata": {},
     "output_type": "execute_result"
    }
   ],
   "source": [
    "c = a.max()\n",
    "c.eval()"
   ]
  },
  {
   "cell_type": "code",
   "execution_count": 13,
   "metadata": {
    "ExecuteTime": {
     "end_time": "2016-07-12T07:14:39.111538",
     "start_time": "2016-07-12T07:14:38.968798"
    },
    "collapsed": false
   },
   "outputs": [
    {
     "data": {
      "text/plain": [
       "array([ 2.,  4.])"
      ]
     },
     "execution_count": 13,
     "metadata": {},
     "output_type": "execute_result"
    }
   ],
   "source": [
    "c = a.max(axis=1)\n",
    "c.eval()"
   ]
  },
  {
   "cell_type": "markdown",
   "metadata": {},
   "source": [
    "**Argmax**"
   ]
  },
  {
   "cell_type": "code",
   "execution_count": 14,
   "metadata": {
    "ExecuteTime": {
     "end_time": "2016-07-12T07:14:39.261690",
     "start_time": "2016-07-12T07:14:39.113508"
    },
    "collapsed": false
   },
   "outputs": [
    {
     "data": {
      "text/plain": [
       "array(3)"
      ]
     },
     "execution_count": 14,
     "metadata": {},
     "output_type": "execute_result"
    }
   ],
   "source": [
    "c = theano.tensor.argmax(a)\n",
    "c.eval()"
   ]
  },
  {
   "cell_type": "code",
   "execution_count": 15,
   "metadata": {
    "ExecuteTime": {
     "end_time": "2016-07-12T07:14:39.400443",
     "start_time": "2016-07-12T07:14:39.263839"
    },
    "collapsed": false
   },
   "outputs": [
    {
     "data": {
      "text/plain": [
       "array([1, 1])"
      ]
     },
     "execution_count": 15,
     "metadata": {},
     "output_type": "execute_result"
    }
   ],
   "source": [
    "c = theano.tensor.argmax(a, axis=1)\n",
    "c.eval()"
   ]
  },
  {
   "cell_type": "markdown",
   "metadata": {},
   "source": [
    "**Reshape**\n",
    "\n",
    "We sometimes need to change the dimensions of a tensor and reshape() allows us to do that. It takes as input a tuple containing the new shape and returns a new tensor with that shape. In the first example below, we shape a square matrix into a 1×4 matrix. In the second example, we use -1 which means “as big as the dimension needs to be”."
   ]
  },
  {
   "cell_type": "code",
   "execution_count": 16,
   "metadata": {
    "ExecuteTime": {
     "end_time": "2016-07-12T07:14:39.532015",
     "start_time": "2016-07-12T07:14:39.402336"
    },
    "collapsed": false
   },
   "outputs": [
    {
     "data": {
      "text/plain": [
       "array([[1, 2, 3, 4]])"
      ]
     },
     "execution_count": 16,
     "metadata": {},
     "output_type": "execute_result"
    }
   ],
   "source": [
    "a = theano.shared(numpy.asarray([[1,2],[3,4]]), 'a')\n",
    "c = a.reshape((1,4))\n",
    "c.eval()"
   ]
  },
  {
   "cell_type": "code",
   "execution_count": 17,
   "metadata": {
    "ExecuteTime": {
     "end_time": "2016-07-12T07:14:39.693800",
     "start_time": "2016-07-12T07:14:39.533142"
    },
    "collapsed": false
   },
   "outputs": [
    {
     "data": {
      "text/plain": [
       "array([1, 2, 3, 4])"
      ]
     },
     "execution_count": 17,
     "metadata": {},
     "output_type": "execute_result"
    }
   ],
   "source": [
    "c = a.reshape((-1,))\n",
    "c.eval()"
   ]
  },
  {
   "cell_type": "markdown",
   "metadata": {},
   "source": [
    "**Zeros-like, ones-like**\n",
    "\n",
    "These functions create new tensors with the same shape but all values set to zero or one."
   ]
  },
  {
   "cell_type": "code",
   "execution_count": 18,
   "metadata": {
    "ExecuteTime": {
     "end_time": "2016-07-12T07:14:39.847373",
     "start_time": "2016-07-12T07:14:39.695968"
    },
    "collapsed": false
   },
   "outputs": [
    {
     "data": {
      "text/plain": [
       "array([[0, 0],\n",
       "       [0, 0]])"
      ]
     },
     "execution_count": 18,
     "metadata": {},
     "output_type": "execute_result"
    }
   ],
   "source": [
    "c = theano.tensor.zeros_like(a)\n",
    "c.eval()"
   ]
  },
  {
   "cell_type": "markdown",
   "metadata": {},
   "source": [
    "**Reorder the tensor dimensions**\n",
    "\n",
    "Sometimes we need to reorder the dimensions in a tensor. In the examples below, the dimensions in a two-dimensional matrix are first swapped. Then, ‘x’ is used to create a brand new dimension."
   ]
  },
  {
   "cell_type": "code",
   "execution_count": 19,
   "metadata": {
    "ExecuteTime": {
     "end_time": "2016-07-12T07:14:39.935435",
     "start_time": "2016-07-12T07:14:39.849139"
    },
    "collapsed": false
   },
   "outputs": [
    {
     "data": {
      "text/plain": [
       "array([[1, 2],\n",
       "       [3, 4]])"
      ]
     },
     "execution_count": 19,
     "metadata": {},
     "output_type": "execute_result"
    }
   ],
   "source": [
    "a.eval()"
   ]
  },
  {
   "cell_type": "code",
   "execution_count": 20,
   "metadata": {
    "ExecuteTime": {
     "end_time": "2016-07-12T07:14:40.032777",
     "start_time": "2016-07-12T07:14:39.936573"
    },
    "collapsed": false
   },
   "outputs": [
    {
     "data": {
      "text/plain": [
       "array([[1, 3],\n",
       "       [2, 4]])"
      ]
     },
     "execution_count": 20,
     "metadata": {},
     "output_type": "execute_result"
    }
   ],
   "source": [
    "c = a.dimshuffle((1,0))\n",
    "c.eval()"
   ]
  },
  {
   "cell_type": "code",
   "execution_count": 21,
   "metadata": {
    "ExecuteTime": {
     "end_time": "2016-07-12T07:14:40.208029",
     "start_time": "2016-07-12T07:14:40.033980"
    },
    "collapsed": false
   },
   "outputs": [
    {
     "data": {
      "text/plain": [
       "array([[[1, 2],\n",
       "        [3, 4]]])"
      ]
     },
     "execution_count": 21,
     "metadata": {},
     "output_type": "execute_result"
    }
   ],
   "source": [
    "c = a.dimshuffle(('x',0,1))\n",
    "c.eval()"
   ]
  },
  {
   "cell_type": "markdown",
   "metadata": {},
   "source": [
    "**Indexing**\n",
    "\n",
    "Using Python indexing tricks can make life so much easier. In the example below, we make a separate list b containing line numbers, and use it to construct a new matrix which contains exactly the lines we want from the original matrix. This can be useful when dealing with word embeddings – we can put word ids into a list and use this to retrieve exactly the correct sequence of embeddings from the whole embedding matrix."
   ]
  },
  {
   "cell_type": "code",
   "execution_count": 22,
   "metadata": {
    "ExecuteTime": {
     "end_time": "2016-07-12T07:14:40.392008",
     "start_time": "2016-07-12T07:14:40.210250"
    },
    "collapsed": false
   },
   "outputs": [
    {
     "data": {
      "text/plain": [
       "array([[ 1.,  2.],\n",
       "       [ 3.,  4.]])"
      ]
     },
     "execution_count": 22,
     "metadata": {},
     "output_type": "execute_result"
    }
   ],
   "source": [
    "a = theano.shared(numpy.asarray([[1.0,2.0],[3.0,4.0]]), 'a')\n",
    "a.eval()"
   ]
  },
  {
   "cell_type": "code",
   "execution_count": 23,
   "metadata": {
    "ExecuteTime": {
     "end_time": "2016-07-12T07:14:40.692106",
     "start_time": "2016-07-12T07:14:40.393898"
    },
    "collapsed": false
   },
   "outputs": [
    {
     "data": {
      "text/plain": [
       "array([[ 3.,  4.],\n",
       "       [ 3.,  4.],\n",
       "       [ 1.,  2.]])"
      ]
     },
     "execution_count": 23,
     "metadata": {},
     "output_type": "execute_result"
    }
   ],
   "source": [
    "b = [1,1,0]\n",
    "c = a[b]\n",
    "c.eval()"
   ]
  },
  {
   "cell_type": "markdown",
   "metadata": {},
   "source": [
    "For assignment, we can’t do this:"
   ]
  },
  {
   "cell_type": "code",
   "execution_count": 24,
   "metadata": {
    "ExecuteTime": {
     "end_time": "2016-07-12T07:14:41.074591",
     "start_time": "2016-07-12T07:14:40.694113"
    },
    "collapsed": false
   },
   "outputs": [
    {
     "ename": "TypeError",
     "evalue": "'TensorSharedVariable' object does not support item assignment",
     "output_type": "error",
     "traceback": [
      "\u001b[1;31m\u001b[0m",
      "\u001b[1;31mTypeError\u001b[0mTraceback (most recent call last)",
      "\u001b[1;32m<ipython-input-24-80df0f77453f>\u001b[0m in \u001b[0;36m<module>\u001b[1;34m()\u001b[0m\n\u001b[1;32m----> 1\u001b[1;33m \u001b[0ma\u001b[0m\u001b[1;33m[\u001b[0m\u001b[1;36m0\u001b[0m\u001b[1;33m]\u001b[0m \u001b[1;33m=\u001b[0m \u001b[1;33m[\u001b[0m\u001b[1;36m0.0\u001b[0m\u001b[1;33m,\u001b[0m \u001b[1;36m0.0\u001b[0m\u001b[1;33m]\u001b[0m\u001b[1;33m\u001b[0m\u001b[0m\n\u001b[0m",
      "\u001b[1;31mTypeError\u001b[0m: 'TensorSharedVariable' object does not support item assignment"
     ]
    }
   ],
   "source": [
    "a[0] = [0.0, 0.0]"
   ]
  },
  {
   "cell_type": "markdown",
   "metadata": {
    "ExecuteTime": {
     "end_time": "2016-07-09T20:03:13.664871",
     "start_time": "2016-07-09T20:03:13.660772"
    }
   },
   "source": [
    "But instead, we can use set_subtensor(), which takes as arguments the selection of the original matrix that we want to reassign, and the value we want to assign it to. It returns a new tensor that has the corresponding values modified."
   ]
  },
  {
   "cell_type": "code",
   "execution_count": 25,
   "metadata": {
    "ExecuteTime": {
     "end_time": "2016-07-12T07:15:44.211659",
     "start_time": "2016-07-12T07:15:44.175943"
    },
    "collapsed": false
   },
   "outputs": [
    {
     "data": {
      "text/plain": [
       "array([[ 0.,  0.],\n",
       "       [ 3.,  4.]])"
      ]
     },
     "execution_count": 25,
     "metadata": {},
     "output_type": "execute_result"
    }
   ],
   "source": [
    "c = theano.tensor.set_subtensor(a[0],[0.0, 0.0])\n",
    "c.eval()"
   ]
  },
  {
   "cell_type": "markdown",
   "metadata": {},
   "source": [
    "### Simple binary classification problem"
   ]
  },
  {
   "cell_type": "markdown",
   "metadata": {
    "ExecuteTime": {
     "end_time": "2016-07-08T13:48:10.590201",
     "start_time": "2016-07-08T13:48:10.585256"
    }
   },
   "source": [
    "We have two classes (red and blue) and want to train a Neural Network classifier that separates the two. In the first iteration we will train a simple sigmoidal classifier."
   ]
  },
  {
   "cell_type": "code",
   "execution_count": 26,
   "metadata": {
    "ExecuteTime": {
     "end_time": "2016-07-12T07:15:46.423821",
     "start_time": "2016-07-12T07:15:45.770553"
    },
    "collapsed": false
   },
   "outputs": [
    {
     "data": {
      "text/plain": [
       "<matplotlib.collections.PathCollection at 0x7fddadbd0b10>"
      ]
     },
     "execution_count": 26,
     "metadata": {},
     "output_type": "execute_result"
    },
    {
     "data": {
      "image/png": "iVBORw0KGgoAAAANSUhEUgAAAl8AAAHVCAYAAADPfJ4+AAAABHNCSVQICAgIfAhkiAAAAAlwSFlz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\nRER2xOKLiIiIyI7+H9cmw3eMdmgLAAAAAElFTkSuQmCC\n",
      "text/plain": [
       "<matplotlib.figure.Figure at 0x7fddadb99590>"
      ]
     },
     "metadata": {},
     "output_type": "display_data"
    }
   ],
   "source": [
    "# Generate a dataset and plot it\n",
    "np.random.seed(0)\n",
    "train_X, train_y = sklearn.datasets.make_moons(200, noise=0.20)\n",
    "train_X = train_X.astype(np.float32)\n",
    "train_y = train_y.astype(np.int32)\n",
    "plt.scatter(train_X[:,0], train_X[:,1], s=40, c=train_y, cmap=plt.cm.Spectral)"
   ]
  },
  {
   "cell_type": "code",
   "execution_count": 27,
   "metadata": {
    "ExecuteTime": {
     "end_time": "2016-07-12T07:15:46.432694",
     "start_time": "2016-07-12T07:15:46.425015"
    },
    "collapsed": true
   },
   "outputs": [],
   "source": [
    "# Helper function to plot a decision boundary.\n",
    "# If you don't fully understand this function don't worry, it just generates the contour plot.\n",
    "def plot_decision_boundary(pred_func):\n",
    "    # Set min and max values and give it some padding\n",
    "    x_min, x_max = train_X[:, 0].min() - .5, train_X[:, 0].max() + .5\n",
    "    y_min, y_max = train_X[:, 1].min() - .5, train_X[:, 1].max() + .5\n",
    "    h = 0.01\n",
    "    # Generate a grid of points with distance h between them\n",
    "    xx, yy = np.meshgrid(np.arange(x_min, x_max, h), np.arange(y_min, y_max, h))\n",
    "    # Predict the function value for the whole gid\n",
    "    Z = pred_func(np.c_[xx.ravel(), yy.ravel()].astype(np.float32))\n",
    "    Z = Z.reshape(xx.shape)\n",
    "    # Plot the contour and training examples\n",
    "    plt.contourf(xx, yy, Z, cmap=plt.cm.Spectral)\n",
    "    plt.scatter(train_X[:, 0], train_X[:, 1], c=train_y, cmap=plt.cm.Spectral)"
   ]
  },
  {
   "cell_type": "code",
   "execution_count": 28,
   "metadata": {
    "ExecuteTime": {
     "end_time": "2016-07-12T07:15:46.626179",
     "start_time": "2016-07-12T07:15:46.468016"
    },
    "collapsed": false
   },
   "outputs": [],
   "source": [
    "# Size definitions\n",
    "num_examples = len(train_X) # training set size\n",
    "nn_input_dim = 2            # input layer dimensionality\n",
    "nn_output_dim = 2           # output layer dimensionality\n",
    "nn_hdim = 100               # hidden layer dimensionality\n",
    "\n",
    "# Gradient descent parameters (I picked these by hand)\n",
    "epsilon = 0.01     # learning rate for gradient descent\n",
    "reg_lambda = 0.01  # regularization strength "
   ]
  },
  {
   "cell_type": "markdown",
   "metadata": {
    "ExecuteTime": {
     "end_time": "2016-07-09T20:15:31.928450",
     "start_time": "2016-07-09T20:15:31.922801"
    }
   },
   "source": [
    "### Excercise 1: logistic regression\n",
    "\n",
    "Train a logistic classifier on the dataset above, i.e. define an expression\n",
    "that computes\n",
    "\n",
    "> p = sigmoid(W * x + b)\n",
    "\n",
    "where $W$ and $b$ are the parameters of the classifier and $x$ is the sample. If\n",
    "$p > 0.5$ the sample is classified as class 2, otherwise as class 1. As the loss you\n",
    "can use the binary crossentropy\n",
    "\n",
    "> L = −t log(p)−(1−t) log(1−p)"
   ]
  },
  {
   "cell_type": "markdown",
   "metadata": {},
   "source": [
    "#### Solution (scroll down)\n",
    "\n",
    "* \n",
    "* \n",
    "* \n",
    "* \n",
    "* \n",
    "*\n",
    "* \n",
    "* \n",
    "* \n",
    "* \n",
    "* \n",
    "* \n",
    "* \n",
    "* \n",
    "* \n",
    "* \n",
    "* \n",
    "* \n",
    "*\n",
    "* \n",
    "* \n",
    "* \n",
    "* \n",
    "* \n",
    "* \n",
    "* \n",
    "* \n",
    "* \n",
    "* \n",
    "* \n",
    "* \n",
    "*\n",
    "* \n",
    "* \n",
    "* \n",
    "* \n",
    "* \n",
    "* \n",
    "* \n",
    "* \n",
    "* \n",
    "* \n",
    "* \n",
    "* \n",
    "*\n",
    "* \n",
    "* \n",
    "* \n",
    "* \n",
    "* \n",
    "* \n",
    "* "
   ]
  },
  {
   "cell_type": "code",
   "execution_count": 52,
   "metadata": {
    "ExecuteTime": {
     "end_time": "2016-07-12T07:20:15.739883",
     "start_time": "2016-07-12T07:20:15.362516"
    },
    "collapsed": false
   },
   "outputs": [],
   "source": [
    "x      = theano.tensor.fmatrix('x')\n",
    "target = theano.tensor.ivector('target')\n",
    " \n",
    "# define parameters to be optimized\n",
    "W = theano.shared(np.random.randn(2).astype(np.float32), 'W')\n",
    "b = theano.shared(np.float32(0), 'b')\n",
    "\n",
    "# define probability\n",
    "p = theano.tensor.nnet.sigmoid(W.dot(x.T) + b)\n",
    "\n",
    "# define binary crossentropy\n",
    "cost = -target * T.log(p) - (1-target) * T.log(1 - p)\n",
    "cost = cost.mean()\n",
    "\n",
    "# compute gradients\n",
    "gradients = theano.tensor.grad(cost, [W, b])\n",
    "\n",
    "# compute updates\n",
    "W_updated = W - (np.float32(0.01) * gradients[0])\n",
    "b_updated = b - (np.float32(0.01) * gradients[1])\n",
    "updates   = [(W, W_updated), (b, b_updated)]\n",
    "\n",
    "# compile function\n",
    "f = theano.function([x, target], cost, updates=updates)\n",
    "\n",
    "# compute accuracy\n",
    "acc     = (p > 0.5) * target + (p < 0.5) * (1 - target)\n",
    "acc     = acc.mean()\n",
    "f_acc = theano.function([x, target], acc)"
   ]
  },
  {
   "cell_type": "code",
   "execution_count": 53,
   "metadata": {
    "ExecuteTime": {
     "end_time": "2016-07-12T07:20:27.060750",
     "start_time": "2016-07-12T07:20:16.112402"
    },
    "collapsed": false
   },
   "outputs": [
    {
     "name": "stdout",
     "output_type": "stream",
     "text": [
      "0.74\n",
      "0.84\n",
      "0.835\n",
      "0.835\n",
      "0.835\n",
      "0.835\n",
      "0.835\n",
      "0.84\n",
      "0.845\n",
      "0.845\n"
     ]
    }
   ],
   "source": [
    "# training\n",
    "for i in xrange(10000):\n",
    "    f(train_X, train_y)\n",
    "    if i%1000==0:\n",
    "        print f_acc(train_X, train_y)"
   ]
  },
  {
   "cell_type": "code",
   "execution_count": 54,
   "metadata": {
    "ExecuteTime": {
     "end_time": "2016-07-12T07:20:27.337031",
     "start_time": "2016-07-12T07:20:27.062666"
    },
    "collapsed": false
   },
   "outputs": [
    {
     "data": {
      "image/png": "iVBORw0KGgoAAAANSUhEUgAAAl8AAAHgCAYAAACbywggAAAABHNCSVQICAgIfAhkiAAAAAlwSFlz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\nSUVORK5CYII=\n",
      "text/plain": [
       "<matplotlib.figure.Figure at 0x7fddab14ec50>"
      ]
     },
     "metadata": {},
     "output_type": "display_data"
    }
   ],
   "source": [
    "predict = theano.function([x], p > 0.5)\n",
    "\n",
    "# Plot the decision boundary\n",
    "plot_decision_boundary(lambda x: predict(x))\n",
    "plt.title(\"Logistic Regression\")\n",
    "plt.show()"
   ]
  },
  {
   "cell_type": "markdown",
   "metadata": {},
   "source": [
    "### Debugging hints"
   ]
  },
  {
   "cell_type": "markdown",
   "metadata": {},
   "source": [
    "Now is a good time to get a sense of how Theano constructs a computational graph by visualising it."
   ]
  },
  {
   "cell_type": "code",
   "execution_count": 55,
   "metadata": {
    "ExecuteTime": {
     "end_time": "2016-07-12T07:20:27.586584",
     "start_time": "2016-07-12T07:20:27.339245"
    },
    "collapsed": false
   },
   "outputs": [
    {
     "data": {
      "image/svg+xml": [
       "<svg height=\"936pt\" viewBox=\"0.00 0.00 1170.00 936.00\" width=\"1170pt\" xmlns=\"http://www.w3.org/2000/svg\" xmlns:xlink=\"http://www.w3.org/1999/xlink\">\n",
       "<g class=\"graph\" id=\"graph0\" transform=\"scale(1 1) rotate(0) translate(4 932)\">\n",
       "<title>G</title>\n",
       "<polygon fill=\"white\" points=\"-4,4 -4,-932 1166,-932 1166,4 -4,4\" stroke=\"none\"/>\n",
       "<!-- 140590035399952 -->\n",
       "<g class=\"node\" id=\"node1\"><title>140590035399952</title>\n",
       "<ellipse cx=\"336\" cy=\"-234\" fill=\"brown\" rx=\"51.4931\" ry=\"18\" stroke=\"black\"/>\n",
       "<text font-family=\"Times,serif\" font-size=\"14.00\" text-anchor=\"middle\" x=\"336\" y=\"-230.3\">Shape_i{0}</text>\n",
       "</g>\n",
       "<!-- 140590123270224 -->\n",
       "<g class=\"node\" id=\"node23\"><title>140590123270224</title>\n",
       "<ellipse cx=\"412\" cy=\"-92\" fill=\"#ffaabb\" rx=\"208.923\" ry=\"18\" stroke=\"black\"/>\n",
       "<text font-family=\"Times,serif\" font-size=\"14.00\" text-anchor=\"middle\" x=\"412\" y=\"-88.3\">Elemwise{Composite{(i0 / Cast{float64}(i1))}}[(0, 0)]</text>\n",
       "</g>\n",
       "<!-- 140590035399952&#45;&gt;140590123270224 -->\n",
       "<g class=\"edge\" id=\"edge25\"><title>140590035399952-&gt;140590123270224</title>\n",
       "<path d=\"M335.195,-215.794C335.175,-200.858 336.813,-179.019 345,-162 353.411,-144.516 367.99,-128.689 381.404,-116.616\" fill=\"none\" stroke=\"black\"/>\n",
       "<polygon fill=\"black\" points=\"383.833,-119.143 389.113,-109.958 379.257,-113.846 383.833,-119.143\" stroke=\"black\"/>\n",
       "<text font-family=\"Times,serif\" font-size=\"14.00\" text-anchor=\"middle\" x=\"421\" y=\"-176.3\">1 TensorType(int64, scalar)</text>\n",
       "</g>\n",
       "<!-- 140590079723472 -->\n",
       "<g class=\"node\" id=\"node2\"><title>140590079723472</title>\n",
       "<polygon fill=\"green\" points=\"349,-394 295,-394 295,-358 349,-358 349,-394\" stroke=\"black\"/>\n",
       "<text font-family=\"Times,serif\" font-size=\"14.00\" text-anchor=\"middle\" x=\"322\" y=\"-372.3\">target</text>\n",
       "</g>\n",
       "<!-- 140590079723472&#45;&gt;140590035399952 -->\n",
       "<g class=\"edge\" id=\"edge1\"><title>140590079723472-&gt;140590035399952</title>\n",
       "<path d=\"M323.717,-357.833C326.099,-334.007 330.434,-290.658 333.265,-262.349\" fill=\"none\" stroke=\"black\"/>\n",
       "<polygon fill=\"black\" points=\"336.757,-262.606 334.269,-252.307 329.792,-261.909 336.757,-262.606\" stroke=\"black\"/>\n",
       "</g>\n",
       "<!-- 140590079392976 -->\n",
       "<g class=\"node\" id=\"node19\"><title>140590079392976</title>\n",
       "<ellipse cx=\"610\" cy=\"-288\" fill=\"#ffaabb\" rx=\"209.397\" ry=\"18\" stroke=\"black\"/>\n",
       "<text font-family=\"Times,serif\" font-size=\"14.00\" text-anchor=\"middle\" x=\"610\" y=\"-284.3\">Elemwise{Composite{((i0 * i1) - (i2 * (i3 - i0) * i4))}}</text>\n",
       "</g>\n",
       "<!-- 140590079723472&#45;&gt;140590079392976 -->\n",
       "<g class=\"edge\" id=\"edge18\"><title>140590079723472-&gt;140590079392976</title>\n",
       "<path d=\"M349.315,-357.965C368.446,-346.75 394.969,-332.602 420,-324 442.343,-316.322 466.775,-310.219 490.455,-305.406\" fill=\"none\" stroke=\"black\"/>\n",
       "<polygon fill=\"black\" points=\"491.412,-308.785 500.549,-303.422 490.061,-301.917 491.412,-308.785\" stroke=\"black\"/>\n",
       "<text font-family=\"Times,serif\" font-size=\"14.00\" text-anchor=\"middle\" x=\"423.5\" y=\"-328.3\">0</text>\n",
       "</g>\n",
       "<!-- 140590122611600 -->\n",
       "<g class=\"node\" id=\"node3\"><title>140590122611600</title>\n",
       "<ellipse cx=\"61\" cy=\"-728\" fill=\"red\" rx=\"61.6163\" ry=\"18\" stroke=\"black\"/>\n",
       "<text font-family=\"Times,serif\" font-size=\"14.00\" text-anchor=\"middle\" x=\"61\" y=\"-724.3\">GpuFromHost</text>\n",
       "</g>\n",
       "<!-- 140590122369360 -->\n",
       "<g class=\"node\" id=\"node8\"><title>140590122369360</title>\n",
       "<ellipse cx=\"145\" cy=\"-640\" fill=\"none\" rx=\"81.3646\" ry=\"18\" stroke=\"black\"/>\n",
       "<text font-family=\"Times,serif\" font-size=\"14.00\" text-anchor=\"middle\" x=\"145\" y=\"-636.3\">GpuDimShuffle{x}</text>\n",
       "</g>\n",
       "<!-- 140590122611600&#45;&gt;140590122369360 -->\n",
       "<g class=\"edge\" id=\"edge5\"><title>140590122611600-&gt;140590122369360</title>\n",
       "<path d=\"M56.9285,-709.984C55.38,-699.336 55.3419,-685.823 62,-676 67.0363,-668.57 73.9866,-662.712 81.7396,-658.095\" fill=\"none\" stroke=\"blue\"/>\n",
       "<polygon fill=\"blue\" points=\"83.5207,-661.114 90.7748,-653.392 80.2885,-654.904 83.5207,-661.114\" stroke=\"blue\"/>\n",
       "<text font-family=\"Times,serif\" font-size=\"14.00\" text-anchor=\"middle\" x=\"155.5\" y=\"-680.3\">CudaNdarrayType(float32, scalar)</text>\n",
       "</g>\n",
       "<!-- 140590079723024 -->\n",
       "<g class=\"node\" id=\"node4\"><title>140590079723024</title>\n",
       "<polygon fill=\"cyan\" points=\"88,-854 34,-854 34,-818 88,-818 88,-854\" stroke=\"black\"/>\n",
       "<text font-family=\"Times,serif\" font-size=\"14.00\" text-anchor=\"middle\" x=\"61\" y=\"-832.3\">b</text>\n",
       "</g>\n",
       "<!-- 140590079723024&#45;&gt;140590122611600 -->\n",
       "<g class=\"edge\" id=\"edge2\"><title>140590079723024-&gt;140590122611600</title>\n",
       "<path d=\"M61,-817.969C61,-801.378 61,-775.883 61,-756.431\" fill=\"none\" stroke=\"black\"/>\n",
       "<polygon fill=\"black\" points=\"64.5001,-756.341 61,-746.341 57.5001,-756.341 64.5001,-756.341\" stroke=\"black\"/>\n",
       "</g>\n",
       "<!-- 140590122483600 -->\n",
       "<g class=\"node\" id=\"node5\"><title>140590122483600</title>\n",
       "<ellipse cx=\"309\" cy=\"-782\" fill=\"red\" rx=\"81.3646\" ry=\"18\" stroke=\"black\"/>\n",
       "<text font-family=\"Times,serif\" font-size=\"14.00\" text-anchor=\"middle\" x=\"309\" y=\"-778.3\">GpuFromHost id=2</text>\n",
       "</g>\n",
       "<!-- 140590079392144 -->\n",
       "<g class=\"node\" id=\"node10\"><title>140590079392144</title>\n",
       "<ellipse cx=\"636\" cy=\"-640\" fill=\"none\" rx=\"81.3398\" ry=\"18\" stroke=\"black\"/>\n",
       "<text font-family=\"Times,serif\" font-size=\"14.00\" text-anchor=\"middle\" x=\"636\" y=\"-636.3\">GpuGemv{inplace}</text>\n",
       "</g>\n",
       "<!-- 140590122483600&#45;&gt;140590079392144 -->\n",
       "<g class=\"edge\" id=\"edge9\"><title>140590122483600-&gt;140590079392144</title>\n",
       "<path d=\"M285.7,-764.436C280.17,-759.226 275.007,-752.984 272,-746 265.672,-731.304 261.794,-722.322 272,-710 306.226,-668.676 450.454,-651.908 546.76,-645.241\" fill=\"none\" stroke=\"black\"/>\n",
       "<polygon fill=\"black\" points=\"547.053,-648.729 556.798,-644.571 546.587,-641.745 547.053,-648.729\" stroke=\"black\"/>\n",
       "<text font-family=\"Times,serif\" font-size=\"14.00\" text-anchor=\"middle\" x=\"373\" y=\"-724.3\">2 CudaNdarrayType(float32, matrix)</text>\n",
       "</g>\n",
       "<!-- 140590079722448 -->\n",
       "<g class=\"node\" id=\"node6\"><title>140590079722448</title>\n",
       "<polygon fill=\"green\" points=\"403,-928 349,-928 349,-892 403,-892 403,-928\" stroke=\"black\"/>\n",
       "<text font-family=\"Times,serif\" font-size=\"14.00\" text-anchor=\"middle\" x=\"376\" y=\"-906.3\">x</text>\n",
       "</g>\n",
       "<!-- 140590079722448&#45;&gt;140590122483600 -->\n",
       "<g class=\"edge\" id=\"edge3\"><title>140590079722448-&gt;140590122483600</title>\n",
       "<path d=\"M366.824,-891.744C355.447,-870.349 335.95,-833.682 322.775,-808.904\" fill=\"none\" stroke=\"black\"/>\n",
       "<polygon fill=\"black\" points=\"325.85,-807.233 318.065,-800.047 319.67,-810.52 325.85,-807.233\" stroke=\"black\"/>\n",
       "</g>\n",
       "<!-- 140590035673488 -->\n",
       "<g class=\"node\" id=\"node7\"><title>140590035673488</title>\n",
       "<ellipse cx=\"481\" cy=\"-836\" fill=\"brown\" rx=\"71.2405\" ry=\"18\" stroke=\"black\"/>\n",
       "<text font-family=\"Times,serif\" font-size=\"14.00\" text-anchor=\"middle\" x=\"481\" y=\"-832.3\">Shape_i{0} id=3</text>\n",
       "</g>\n",
       "<!-- 140590079722448&#45;&gt;140590035673488 -->\n",
       "<g class=\"edge\" id=\"edge4\"><title>140590079722448-&gt;140590035673488</title>\n",
       "<path d=\"M400.884,-891.937C415.313,-882.042 433.634,-869.48 449.112,-858.866\" fill=\"none\" stroke=\"black\"/>\n",
       "<polygon fill=\"black\" points=\"451.109,-861.741 457.377,-853.199 447.15,-855.968 451.109,-861.741\" stroke=\"black\"/>\n",
       "</g>\n",
       "<!-- 140590079762064 -->\n",
       "<g class=\"node\" id=\"node9\"><title>140590079762064</title>\n",
       "<ellipse cx=\"553\" cy=\"-728\" fill=\"#ffaa22\" rx=\"69.3156\" ry=\"18\" stroke=\"black\"/>\n",
       "<text font-family=\"Times,serif\" font-size=\"14.00\" text-anchor=\"middle\" x=\"553\" y=\"-724.3\">GpuAllocEmpty</text>\n",
       "</g>\n",
       "<!-- 140590035673488&#45;&gt;140590079762064 -->\n",
       "<g class=\"edge\" id=\"edge6\"><title>140590035673488-&gt;140590079762064</title>\n",
       "<path d=\"M492.568,-817.969C504.22,-800.816 522.336,-774.144 535.697,-754.474\" fill=\"none\" stroke=\"black\"/>\n",
       "<polygon fill=\"black\" points=\"538.737,-756.227 541.461,-745.988 532.947,-752.294 538.737,-756.227\" stroke=\"black\"/>\n",
       "<text font-family=\"Times,serif\" font-size=\"14.00\" text-anchor=\"middle\" x=\"599\" y=\"-778.3\">TensorType(int64, scalar)</text>\n",
       "</g>\n",
       "<!-- 140590123273744 -->\n",
       "<g class=\"node\" id=\"node14\"><title>140590123273744</title>\n",
       "<ellipse cx=\"493\" cy=\"-552\" fill=\"#ffaabb\" rx=\"110.235\" ry=\"18\" stroke=\"black\"/>\n",
       "<text font-family=\"Times,serif\" font-size=\"14.00\" text-anchor=\"middle\" x=\"493\" y=\"-548.3\">GpuElemwise{Add}[(0, 0)]</text>\n",
       "</g>\n",
       "<!-- 140590122369360&#45;&gt;140590123273744 -->\n",
       "<g class=\"edge\" id=\"edge13\"><title>140590122369360-&gt;140590123273744</title>\n",
       "<path d=\"M194.966,-625.793C234.952,-615.305 292.496,-600.395 343,-588 368.678,-581.698 396.897,-575.043 421.864,-569.248\" fill=\"none\" stroke=\"black\"/>\n",
       "<polygon fill=\"black\" points=\"422.668,-572.654 431.621,-566.988 421.089,-565.835 422.668,-572.654\" stroke=\"black\"/>\n",
       "<text font-family=\"Times,serif\" font-size=\"14.00\" text-anchor=\"middle\" x=\"445.5\" y=\"-592.3\">1 CudaNdarrayType(float32, (True,))</text>\n",
       "</g>\n",
       "<!-- 140590079762064&#45;&gt;140590079392144 -->\n",
       "<g class=\"edge\" id=\"edge7\"><title>140590079762064-&gt;140590079392144</title>\n",
       "<path d=\"M534.639,-710.209C525.617,-699.901 518.194,-686.675 526,-676 533.607,-665.597 544.334,-658.211 556.133,-652.985\" fill=\"none\" stroke=\"red\"/>\n",
       "<polygon fill=\"red\" points=\"557.729,-656.119 565.786,-649.239 555.197,-649.593 557.729,-656.119\" stroke=\"red\"/>\n",
       "<text font-family=\"Times,serif\" font-size=\"14.00\" text-anchor=\"middle\" x=\"626\" y=\"-680.3\">0 CudaNdarrayType(float32, vector)</text>\n",
       "</g>\n",
       "<!-- 140590079392144&#45;&gt;140590123273744 -->\n",
       "<g class=\"edge\" id=\"edge12\"><title>140590079392144-&gt;140590123273744</title>\n",
       "<path d=\"M609.103,-622.824C586.621,-609.304 554.344,-589.892 529.526,-574.967\" fill=\"none\" stroke=\"red\"/>\n",
       "<polygon fill=\"red\" points=\"531.125,-571.844 520.752,-569.69 527.518,-577.843 531.125,-571.844\" stroke=\"red\"/>\n",
       "<text font-family=\"Times,serif\" font-size=\"14.00\" text-anchor=\"middle\" x=\"678\" y=\"-592.3\">0 CudaNdarrayType(float32, vector)</text>\n",
       "</g>\n",
       "<!-- 140590122325136 -->\n",
       "<g class=\"node\" id=\"node11\"><title>140590122325136</title>\n",
       "<polygon fill=\"green\" points=\"854.5,-746 641.5,-746 641.5,-710 854.5,-710 854.5,-746\" stroke=\"black\"/>\n",
       "<text font-family=\"Times,serif\" font-size=\"14.00\" text-anchor=\"middle\" x=\"748\" y=\"-724.3\">val=1.0 TensorType(float32, scalar)</text>\n",
       "</g>\n",
       "<!-- 140590122325136&#45;&gt;140590079392144 -->\n",
       "<g class=\"edge\" id=\"edge8\"><title>140590122325136-&gt;140590079392144</title>\n",
       "<path d=\"M744.253,-709.888C741.059,-698.928 735.44,-685.103 726,-676 718.146,-668.427 708.469,-662.442 698.404,-657.728\" fill=\"none\" stroke=\"black\"/>\n",
       "<polygon fill=\"black\" points=\"699.663,-654.46 689.092,-653.746 696.911,-660.896 699.663,-654.46\" stroke=\"black\"/>\n",
       "<text font-family=\"Times,serif\" font-size=\"14.00\" text-anchor=\"middle\" x=\"741.5\" y=\"-680.3\">1</text>\n",
       "</g>\n",
       "<!-- 140590079722576 -->\n",
       "<g class=\"node\" id=\"node12\"><title>140590079722576</title>\n",
       "<polygon fill=\"cyan\" points=\"927,-746 873,-746 873,-710 927,-710 927,-746\" stroke=\"black\"/>\n",
       "<text font-family=\"Times,serif\" font-size=\"14.00\" text-anchor=\"middle\" x=\"900\" y=\"-724.3\">W</text>\n",
       "</g>\n",
       "<!-- 140590079722576&#45;&gt;140590079392144 -->\n",
       "<g class=\"edge\" id=\"edge10\"><title>140590079722576-&gt;140590079392144</title>\n",
       "<path d=\"M872.697,-713.954C869.456,-712.555 866.172,-711.205 863,-710 807.573,-688.954 742.712,-669.761 696.548,-656.991\" fill=\"none\" stroke=\"black\"/>\n",
       "<polygon fill=\"black\" points=\"697.269,-653.56 686.699,-654.286 695.415,-660.31 697.269,-653.56\" stroke=\"black\"/>\n",
       "<text font-family=\"Times,serif\" font-size=\"14.00\" text-anchor=\"middle\" x=\"811.5\" y=\"-680.3\">3</text>\n",
       "</g>\n",
       "<!-- 140590122326928 -->\n",
       "<g class=\"node\" id=\"node13\"><title>140590122326928</title>\n",
       "<polygon fill=\"green\" points=\"1158.5,-746 945.5,-746 945.5,-710 1158.5,-710 1158.5,-746\" stroke=\"black\"/>\n",
       "<text font-family=\"Times,serif\" font-size=\"14.00\" text-anchor=\"middle\" x=\"1052\" y=\"-724.3\">val=0.0 TensorType(float32, scalar)</text>\n",
       "</g>\n",
       "<!-- 140590122326928&#45;&gt;140590079392144 -->\n",
       "<g class=\"edge\" id=\"edge11\"><title>140590122326928-&gt;140590079392144</title>\n",
       "<path d=\"M976.555,-709.955C930.995,-699.795 871.735,-686.812 819,-676 781.94,-668.401 740.547,-660.441 706.515,-654.035\" fill=\"none\" stroke=\"black\"/>\n",
       "<polygon fill=\"black\" points=\"707.137,-650.59 696.663,-652.185 705.846,-657.47 707.137,-650.59\" stroke=\"black\"/>\n",
       "<text font-family=\"Times,serif\" font-size=\"14.00\" text-anchor=\"middle\" x=\"893.5\" y=\"-680.3\">4</text>\n",
       "</g>\n",
       "<!-- 140590122479888 -->\n",
       "<g class=\"node\" id=\"node15\"><title>140590122479888</title>\n",
       "<ellipse cx=\"273\" cy=\"-464\" fill=\"#ffaabb\" rx=\"232.044\" ry=\"18\" stroke=\"black\"/>\n",
       "<text font-family=\"Times,serif\" font-size=\"14.00\" text-anchor=\"middle\" x=\"273\" y=\"-460.3\">GpuElemwise{Composite{scalar_softplus((-i0))},no_inplace}</text>\n",
       "</g>\n",
       "<!-- 140590123273744&#45;&gt;140590122479888 -->\n",
       "<g class=\"edge\" id=\"edge14\"><title>140590123273744-&gt;140590122479888</title>\n",
       "<path d=\"M434.989,-536.684C414.769,-531.05 392.116,-524.003 372,-516 351.348,-507.784 329.279,-496.662 311.232,-486.902\" fill=\"none\" stroke=\"black\"/>\n",
       "<polygon fill=\"black\" points=\"312.641,-483.682 302.189,-481.944 309.275,-489.82 312.641,-483.682\" stroke=\"black\"/>\n",
       "<text font-family=\"Times,serif\" font-size=\"14.00\" text-anchor=\"middle\" x=\"467\" y=\"-504.3\">CudaNdarrayType(float32, vector)</text>\n",
       "</g>\n",
       "<!-- 140590123272720 -->\n",
       "<g class=\"node\" id=\"node16\"><title>140590123272720</title>\n",
       "<ellipse cx=\"669\" cy=\"-464\" fill=\"#ffaabb\" rx=\"146.356\" ry=\"18\" stroke=\"black\"/>\n",
       "<text font-family=\"Times,serif\" font-size=\"14.00\" text-anchor=\"middle\" x=\"669\" y=\"-460.3\">GpuElemwise{ScalarSoftplus}[(0, 0)]</text>\n",
       "</g>\n",
       "<!-- 140590123273744&#45;&gt;140590123272720 -->\n",
       "<g class=\"edge\" id=\"edge15\"><title>140590123273744-&gt;140590123272720</title>\n",
       "<path d=\"M526.104,-534.824C554.35,-521.022 595.158,-501.082 625.939,-486.041\" fill=\"none\" stroke=\"red\"/>\n",
       "<polygon fill=\"red\" points=\"627.697,-489.078 635.145,-481.543 624.624,-482.788 627.697,-489.078\" stroke=\"red\"/>\n",
       "<text font-family=\"Times,serif\" font-size=\"14.00\" text-anchor=\"middle\" x=\"692\" y=\"-504.3\">CudaNdarrayType(float32, vector)</text>\n",
       "</g>\n",
       "<!-- 140590122112208 -->\n",
       "<g class=\"node\" id=\"node17\"><title>140590122112208</title>\n",
       "<ellipse cx=\"429\" cy=\"-376\" fill=\"red\" rx=\"61.6163\" ry=\"18\" stroke=\"black\"/>\n",
       "<text font-family=\"Times,serif\" font-size=\"14.00\" text-anchor=\"middle\" x=\"429\" y=\"-372.3\">HostFromGpu</text>\n",
       "</g>\n",
       "<!-- 140590122479888&#45;&gt;140590122112208 -->\n",
       "<g class=\"edge\" id=\"edge16\"><title>140590122479888-&gt;140590122112208</title>\n",
       "<path d=\"M303.821,-446.009C329.238,-431.997 365.362,-412.082 392.277,-397.245\" fill=\"none\" stroke=\"black\"/>\n",
       "<polygon fill=\"black\" points=\"394.312,-400.119 401.38,-392.227 390.933,-393.989 394.312,-400.119\" stroke=\"black\"/>\n",
       "<text font-family=\"Times,serif\" font-size=\"14.00\" text-anchor=\"middle\" x=\"460\" y=\"-416.3\">CudaNdarrayType(float32, vector)</text>\n",
       "</g>\n",
       "<!-- 140590079657808 -->\n",
       "<g class=\"node\" id=\"node18\"><title>140590079657808</title>\n",
       "<ellipse cx=\"605\" cy=\"-376\" fill=\"red\" rx=\"85.2138\" ry=\"18\" stroke=\"black\"/>\n",
       "<text font-family=\"Times,serif\" font-size=\"14.00\" text-anchor=\"middle\" x=\"605\" y=\"-372.3\">HostFromGpu id=11</text>\n",
       "</g>\n",
       "<!-- 140590123272720&#45;&gt;140590079657808 -->\n",
       "<g class=\"edge\" id=\"edge17\"><title>140590123272720-&gt;140590079657808</title>\n",
       "<path d=\"M656.356,-446.009C647.064,-433.524 634.285,-416.352 623.799,-402.261\" fill=\"none\" stroke=\"black\"/>\n",
       "<polygon fill=\"black\" points=\"626.396,-399.888 617.618,-393.956 620.78,-404.067 626.396,-399.888\" stroke=\"black\"/>\n",
       "<text font-family=\"Times,serif\" font-size=\"14.00\" text-anchor=\"middle\" x=\"738\" y=\"-416.3\">CudaNdarrayType(float32, vector)</text>\n",
       "</g>\n",
       "<!-- 140590122112208&#45;&gt;140590079392976 -->\n",
       "<g class=\"edge\" id=\"edge19\"><title>140590122112208-&gt;140590079392976</title>\n",
       "<path d=\"M427.836,-357.631C428.077,-346.562 430.359,-332.713 439,-324 446.691,-316.245 463.609,-310.083 483.947,-305.23\" fill=\"none\" stroke=\"black\"/>\n",
       "<polygon fill=\"black\" points=\"484.846,-308.616 493.845,-303.022 483.322,-301.784 484.846,-308.616\" stroke=\"black\"/>\n",
       "<text font-family=\"Times,serif\" font-size=\"14.00\" text-anchor=\"middle\" x=\"521.5\" y=\"-328.3\">1 TensorType(float32, vector)</text>\n",
       "</g>\n",
       "<!-- 140590079657808&#45;&gt;140590079392976 -->\n",
       "<g class=\"edge\" id=\"edge22\"><title>140590079657808-&gt;140590079392976</title>\n",
       "<path d=\"M606.012,-357.597C606.701,-345.746 607.627,-329.817 608.413,-316.292\" fill=\"none\" stroke=\"black\"/>\n",
       "<polygon fill=\"black\" points=\"611.92,-316.27 609.007,-306.084 604.932,-315.864 611.92,-316.27\" stroke=\"black\"/>\n",
       "<text font-family=\"Times,serif\" font-size=\"14.00\" text-anchor=\"middle\" x=\"690.5\" y=\"-328.3\">4 TensorType(float32, vector)</text>\n",
       "</g>\n",
       "<!-- 140590035619088 -->\n",
       "<g class=\"node\" id=\"node22\"><title>140590035619088</title>\n",
       "<ellipse cx=\"608\" cy=\"-180\" fill=\"none\" rx=\"102.061\" ry=\"18\" stroke=\"black\"/>\n",
       "<text font-family=\"Times,serif\" font-size=\"14.00\" text-anchor=\"middle\" x=\"608\" y=\"-176.3\">Sum{acc_dtype=float64}</text>\n",
       "</g>\n",
       "<!-- 140590079392976&#45;&gt;140590035619088 -->\n",
       "<g class=\"edge\" id=\"edge23\"><title>140590079392976-&gt;140590035619088</title>\n",
       "<path d=\"M609.679,-269.969C609.366,-253.378 608.885,-227.883 608.518,-208.431\" fill=\"none\" stroke=\"black\"/>\n",
       "<polygon fill=\"black\" points=\"612.015,-208.273 608.327,-198.341 605.017,-208.405 612.015,-208.273\" stroke=\"black\"/>\n",
       "<text font-family=\"Times,serif\" font-size=\"14.00\" text-anchor=\"middle\" x=\"687\" y=\"-230.3\">TensorType(float64, vector)</text>\n",
       "</g>\n",
       "<!-- 140590166699600 -->\n",
       "<g class=\"node\" id=\"node20\"><title>140590166699600</title>\n",
       "<polygon fill=\"green\" points=\"935.25,-394 708.75,-394 708.75,-358 935.25,-358 935.25,-394\" stroke=\"black\"/>\n",
       "<text font-family=\"Times,serif\" font-size=\"14.00\" text-anchor=\"middle\" x=\"822\" y=\"-372.3\">val=[-1.] TensorType(float64, (True,))</text>\n",
       "</g>\n",
       "<!-- 140590166699600&#45;&gt;140590079392976 -->\n",
       "<g class=\"edge\" id=\"edge20\"><title>140590166699600-&gt;140590079392976</title>\n",
       "<path d=\"M811.107,-357.708C803.059,-346.378 791.083,-332.198 777,-324 764.085,-316.481 749.774,-310.566 735.12,-305.916\" fill=\"none\" stroke=\"black\"/>\n",
       "<polygon fill=\"black\" points=\"736.035,-302.536 725.452,-303.038 734.038,-309.245 736.035,-302.536\" stroke=\"black\"/>\n",
       "<text font-family=\"Times,serif\" font-size=\"14.00\" text-anchor=\"middle\" x=\"799.5\" y=\"-328.3\">2</text>\n",
       "</g>\n",
       "<!-- 140590122611472 -->\n",
       "<g class=\"node\" id=\"node21\"><title>140590122611472</title>\n",
       "<polygon fill=\"green\" points=\"1162.25,-394 953.75,-394 953.75,-358 1162.25,-358 1162.25,-394\" stroke=\"black\"/>\n",
       "<text font-family=\"Times,serif\" font-size=\"14.00\" text-anchor=\"middle\" x=\"1058\" y=\"-372.3\">val=[1] TensorType(int32, (True,))</text>\n",
       "</g>\n",
       "<!-- 140590122611472&#45;&gt;140590079392976 -->\n",
       "<g class=\"edge\" id=\"edge21\"><title>140590122611472-&gt;140590079392976</title>\n",
       "<path d=\"M976.711,-357.955C927.626,-347.795 863.787,-334.812 807,-324 775.131,-317.932 740.296,-311.634 708.9,-306.08\" fill=\"none\" stroke=\"black\"/>\n",
       "<polygon fill=\"black\" points=\"709.292,-302.595 698.836,-304.304 708.075,-309.489 709.292,-302.595\" stroke=\"black\"/>\n",
       "<text font-family=\"Times,serif\" font-size=\"14.00\" text-anchor=\"middle\" x=\"887.5\" y=\"-328.3\">3</text>\n",
       "</g>\n",
       "<!-- 140590035619088&#45;&gt;140590123270224 -->\n",
       "<g class=\"edge\" id=\"edge24\"><title>140590035619088-&gt;140590123270224</title>\n",
       "<path d=\"M571.593,-163.026C540.021,-149.173 494.106,-129.026 459.621,-113.895\" fill=\"none\" stroke=\"red\"/>\n",
       "<polygon fill=\"red\" points=\"460.783,-110.583 450.22,-109.77 457.971,-116.993 460.783,-110.583\" stroke=\"red\"/>\n",
       "<text font-family=\"Times,serif\" font-size=\"14.00\" text-anchor=\"middle\" x=\"609.5\" y=\"-132.3\">0 TensorType(float64, scalar)</text>\n",
       "</g>\n",
       "<!-- 140590123270352 -->\n",
       "<g class=\"node\" id=\"node24\"><title>140590123270352</title>\n",
       "<polygon fill=\"blue\" points=\"439,-36 385,-36 385,-0 439,-0 439,-36\" stroke=\"black\"/>\n",
       "<text font-family=\"Times,serif\" font-size=\"14.00\" text-anchor=\"middle\" x=\"412\" y=\"-14.3\">mean</text>\n",
       "</g>\n",
       "<!-- 140590123270224&#45;&gt;140590123270352 -->\n",
       "<g class=\"edge\" id=\"edge26\"><title>140590123270224-&gt;140590123270352</title>\n",
       "<path d=\"M412,-73.937C412,-65.8072 412,-55.8761 412,-46.7047\" fill=\"none\" stroke=\"black\"/>\n",
       "<polygon fill=\"black\" points=\"415.5,-46.4406 412,-36.4407 408.5,-46.4407 415.5,-46.4406\" stroke=\"black\"/>\n",
       "</g>\n",
       "</g>\n",
       "</svg>"
      ],
      "text/plain": [
       "<IPython.core.display.SVG object>"
      ]
     },
     "execution_count": 55,
     "metadata": {},
     "output_type": "execute_result"
    }
   ],
   "source": [
    "forward_prop = theano.function([x, target], cost)\n",
    "\n",
    "SVG(theano.printing.pydotprint(forward_prop, var_with_name_simple=True, compact=True, return_image=True, format='svg'))"
   ]
  },
  {
   "cell_type": "markdown",
   "metadata": {},
   "source": [
    "This is the *optimized* computational graph that Theano has constructed for our `forward_prop` function. We can also get a textual description:"
   ]
  },
  {
   "cell_type": "code",
   "execution_count": 56,
   "metadata": {
    "ExecuteTime": {
     "end_time": "2016-07-12T07:20:27.596240",
     "start_time": "2016-07-12T07:20:27.589266"
    },
    "collapsed": false
   },
   "outputs": [
    {
     "name": "stdout",
     "output_type": "stream",
     "text": [
      "Elemwise{Composite{(i0 / Cast{float64}(i1))}}[(0, 0)] [id A] 'mean'   14\n",
      " |Sum{acc_dtype=float64} [id B] ''   13\n",
      " | |Elemwise{Composite{((i0 * i1) - (i2 * (i3 - i0) * i4))}} [id C] ''   12\n",
      " |   |target [id D]\n",
      " |   |HostFromGpu [id E] ''   10\n",
      " |   | |GpuElemwise{Composite{scalar_softplus((-i0))},no_inplace} [id F] ''   8\n",
      " |   |   |GpuElemwise{Add}[(0, 0)] [id G] ''   7\n",
      " |   |     |GpuGemv{inplace} [id H] ''   6\n",
      " |   |     | |GpuAllocEmpty [id I] ''   5\n",
      " |   |     | | |Shape_i{0} [id J] ''   3\n",
      " |   |     | |   |x [id K]\n",
      " |   |     | |TensorConstant{1.0} [id L]\n",
      " |   |     | |GpuFromHost [id M] ''   2\n",
      " |   |     | | |x [id K]\n",
      " |   |     | |W [id N]\n",
      " |   |     | |TensorConstant{0.0} [id O]\n",
      " |   |     |GpuDimShuffle{x} [id P] ''   4\n",
      " |   |       |GpuFromHost [id Q] ''   1\n",
      " |   |         |b [id R]\n",
      " |   |TensorConstant{(1,) of -1.0} [id S]\n",
      " |   |TensorConstant{(1,) of 1} [id T]\n",
      " |   |HostFromGpu [id U] ''   11\n",
      " |     |GpuElemwise{ScalarSoftplus}[(0, 0)] [id V] ''   9\n",
      " |       |GpuElemwise{Add}[(0, 0)] [id G] ''   7\n",
      " |Shape_i{0} [id W] ''   0\n",
      "   |target [id D]\n"
     ]
    }
   ],
   "source": [
    "theano.printing.debugprint(forward_prop)"
   ]
  },
  {
   "cell_type": "markdown",
   "metadata": {},
   "source": [
    "### Checking expressions on the fly\n",
    "\n",
    "Theano allows us to define test values for each variable for which \n",
    "every expression is tested. Errors can thereby be identified immediately,\n",
    "instead of coming up only after compilation."
   ]
  },
  {
   "cell_type": "code",
   "execution_count": 57,
   "metadata": {
    "ExecuteTime": {
     "end_time": "2016-07-12T07:20:27.750726",
     "start_time": "2016-07-12T07:20:27.598479"
    },
    "collapsed": false
   },
   "outputs": [
    {
     "ename": "ValueError",
     "evalue": "shapes (2,) and (200,2) not aligned: 2 (dim 0) != 200 (dim 0)",
     "output_type": "error",
     "traceback": [
      "\u001b[1;31m\u001b[0m",
      "\u001b[1;31mValueError\u001b[0mTraceback (most recent call last)",
      "\u001b[1;32m<ipython-input-57-9ccebcdc60f3>\u001b[0m in \u001b[0;36m<module>\u001b[1;34m()\u001b[0m\n\u001b[0;32m      8\u001b[0m \u001b[1;31m# assign a test value with wrong shape to x\u001b[0m\u001b[1;33m\u001b[0m\u001b[1;33m\u001b[0m\u001b[0m\n\u001b[0;32m      9\u001b[0m \u001b[0mx\u001b[0m\u001b[1;33m.\u001b[0m\u001b[0mtag\u001b[0m\u001b[1;33m.\u001b[0m\u001b[0mtest_value\u001b[0m \u001b[1;33m=\u001b[0m \u001b[0mtrain_X\u001b[0m\u001b[1;33m.\u001b[0m\u001b[0mT\u001b[0m\u001b[1;33m\u001b[0m\u001b[0m\n\u001b[1;32m---> 10\u001b[1;33m \u001b[0mp\u001b[0m \u001b[1;33m=\u001b[0m \u001b[0mtheano\u001b[0m\u001b[1;33m.\u001b[0m\u001b[0mtensor\u001b[0m\u001b[1;33m.\u001b[0m\u001b[0mnnet\u001b[0m\u001b[1;33m.\u001b[0m\u001b[0msigmoid\u001b[0m\u001b[1;33m(\u001b[0m\u001b[0mW\u001b[0m\u001b[1;33m.\u001b[0m\u001b[0mdot\u001b[0m\u001b[1;33m(\u001b[0m\u001b[0mx\u001b[0m\u001b[1;33m.\u001b[0m\u001b[0mT\u001b[0m\u001b[1;33m)\u001b[0m \u001b[1;33m+\u001b[0m \u001b[0mb\u001b[0m\u001b[1;33m)\u001b[0m\u001b[1;33m\u001b[0m\u001b[0m\n\u001b[0m",
      "\u001b[1;32m/usr/local/lib/python2.7/dist-packages/theano/tensor/var.pyc\u001b[0m in \u001b[0;36m__dot__\u001b[1;34m(left, right)\u001b[0m\n\u001b[0;32m    587\u001b[0m     \u001b[1;31m# extra pseudo-operator symbols\u001b[0m\u001b[1;33m\u001b[0m\u001b[1;33m\u001b[0m\u001b[0m\n\u001b[0;32m    588\u001b[0m     \u001b[1;32mdef\u001b[0m \u001b[0m__dot__\u001b[0m\u001b[1;33m(\u001b[0m\u001b[0mleft\u001b[0m\u001b[1;33m,\u001b[0m \u001b[0mright\u001b[0m\u001b[1;33m)\u001b[0m\u001b[1;33m:\u001b[0m\u001b[1;33m\u001b[0m\u001b[0m\n\u001b[1;32m--> 589\u001b[1;33m         \u001b[1;32mreturn\u001b[0m \u001b[0mtheano\u001b[0m\u001b[1;33m.\u001b[0m\u001b[0mtensor\u001b[0m\u001b[1;33m.\u001b[0m\u001b[0mbasic\u001b[0m\u001b[1;33m.\u001b[0m\u001b[0mdot\u001b[0m\u001b[1;33m(\u001b[0m\u001b[0mleft\u001b[0m\u001b[1;33m,\u001b[0m \u001b[0mright\u001b[0m\u001b[1;33m)\u001b[0m\u001b[1;33m\u001b[0m\u001b[0m\n\u001b[0m\u001b[0;32m    590\u001b[0m \u001b[1;33m\u001b[0m\u001b[0m\n\u001b[0;32m    591\u001b[0m     \u001b[1;32mdef\u001b[0m \u001b[0m__rdot__\u001b[0m\u001b[1;33m(\u001b[0m\u001b[0mright\u001b[0m\u001b[1;33m,\u001b[0m \u001b[0mleft\u001b[0m\u001b[1;33m)\u001b[0m\u001b[1;33m:\u001b[0m\u001b[1;33m\u001b[0m\u001b[0m\n",
      "\u001b[1;32m/usr/local/lib/python2.7/dist-packages/theano/tensor/basic.pyc\u001b[0m in \u001b[0;36mdot\u001b[1;34m(a, b)\u001b[0m\n\u001b[0;32m   5643\u001b[0m         \u001b[1;32mreturn\u001b[0m \u001b[0mtensordot\u001b[0m\u001b[1;33m(\u001b[0m\u001b[0ma\u001b[0m\u001b[1;33m,\u001b[0m \u001b[0mb\u001b[0m\u001b[1;33m,\u001b[0m \u001b[1;33m[\u001b[0m\u001b[1;33m[\u001b[0m\u001b[0ma\u001b[0m\u001b[1;33m.\u001b[0m\u001b[0mndim\u001b[0m \u001b[1;33m-\u001b[0m \u001b[1;36m1\u001b[0m\u001b[1;33m]\u001b[0m\u001b[1;33m,\u001b[0m \u001b[1;33m[\u001b[0m\u001b[0mnumpy\u001b[0m\u001b[1;33m.\u001b[0m\u001b[0mmaximum\u001b[0m\u001b[1;33m(\u001b[0m\u001b[1;36m0\u001b[0m\u001b[1;33m,\u001b[0m \u001b[0mb\u001b[0m\u001b[1;33m.\u001b[0m\u001b[0mndim\u001b[0m \u001b[1;33m-\u001b[0m \u001b[1;36m2\u001b[0m\u001b[1;33m)\u001b[0m\u001b[1;33m]\u001b[0m\u001b[1;33m]\u001b[0m\u001b[1;33m)\u001b[0m\u001b[1;33m\u001b[0m\u001b[0m\n\u001b[0;32m   5644\u001b[0m     \u001b[1;32melse\u001b[0m\u001b[1;33m:\u001b[0m\u001b[1;33m\u001b[0m\u001b[0m\n\u001b[1;32m-> 5645\u001b[1;33m         \u001b[1;32mreturn\u001b[0m \u001b[0m_dot\u001b[0m\u001b[1;33m(\u001b[0m\u001b[0ma\u001b[0m\u001b[1;33m,\u001b[0m \u001b[0mb\u001b[0m\u001b[1;33m)\u001b[0m\u001b[1;33m\u001b[0m\u001b[0m\n\u001b[0m\u001b[0;32m   5646\u001b[0m \u001b[1;33m\u001b[0m\u001b[0m\n\u001b[0;32m   5647\u001b[0m \u001b[1;33m\u001b[0m\u001b[0m\n",
      "\u001b[1;32m/usr/local/lib/python2.7/dist-packages/theano/gof/op.pyc\u001b[0m in \u001b[0;36m__call__\u001b[1;34m(self, *inputs, **kwargs)\u001b[0m\n\u001b[0;32m    659\u001b[0m                 \u001b[0mthunk\u001b[0m\u001b[1;33m.\u001b[0m\u001b[0moutputs\u001b[0m \u001b[1;33m=\u001b[0m \u001b[1;33m[\u001b[0m\u001b[0mstorage_map\u001b[0m\u001b[1;33m[\u001b[0m\u001b[0mv\u001b[0m\u001b[1;33m]\u001b[0m \u001b[1;32mfor\u001b[0m \u001b[0mv\u001b[0m \u001b[1;32min\u001b[0m \u001b[0mnode\u001b[0m\u001b[1;33m.\u001b[0m\u001b[0moutputs\u001b[0m\u001b[1;33m]\u001b[0m\u001b[1;33m\u001b[0m\u001b[0m\n\u001b[0;32m    660\u001b[0m \u001b[1;33m\u001b[0m\u001b[0m\n\u001b[1;32m--> 661\u001b[1;33m                 \u001b[0mrequired\u001b[0m \u001b[1;33m=\u001b[0m \u001b[0mthunk\u001b[0m\u001b[1;33m(\u001b[0m\u001b[1;33m)\u001b[0m\u001b[1;33m\u001b[0m\u001b[0m\n\u001b[0m\u001b[0;32m    662\u001b[0m                 \u001b[1;32massert\u001b[0m \u001b[1;32mnot\u001b[0m \u001b[0mrequired\u001b[0m  \u001b[1;31m# We provided all inputs\u001b[0m\u001b[1;33m\u001b[0m\u001b[0m\n\u001b[0;32m    663\u001b[0m \u001b[1;33m\u001b[0m\u001b[0m\n",
      "\u001b[1;32m/usr/local/lib/python2.7/dist-packages/theano/gof/op.pyc\u001b[0m in \u001b[0;36mrval\u001b[1;34m(p, i, o, n)\u001b[0m\n\u001b[0;32m    906\u001b[0m             \u001b[1;31m# default arguments are stored in the closure of `rval`\u001b[0m\u001b[1;33m\u001b[0m\u001b[1;33m\u001b[0m\u001b[0m\n\u001b[0;32m    907\u001b[0m             \u001b[1;32mdef\u001b[0m \u001b[0mrval\u001b[0m\u001b[1;33m(\u001b[0m\u001b[0mp\u001b[0m\u001b[1;33m=\u001b[0m\u001b[0mp\u001b[0m\u001b[1;33m,\u001b[0m \u001b[0mi\u001b[0m\u001b[1;33m=\u001b[0m\u001b[0mnode_input_storage\u001b[0m\u001b[1;33m,\u001b[0m \u001b[0mo\u001b[0m\u001b[1;33m=\u001b[0m\u001b[0mnode_output_storage\u001b[0m\u001b[1;33m,\u001b[0m \u001b[0mn\u001b[0m\u001b[1;33m=\u001b[0m\u001b[0mnode\u001b[0m\u001b[1;33m)\u001b[0m\u001b[1;33m:\u001b[0m\u001b[1;33m\u001b[0m\u001b[0m\n\u001b[1;32m--> 908\u001b[1;33m                 \u001b[0mr\u001b[0m \u001b[1;33m=\u001b[0m \u001b[0mp\u001b[0m\u001b[1;33m(\u001b[0m\u001b[0mn\u001b[0m\u001b[1;33m,\u001b[0m \u001b[1;33m[\u001b[0m\u001b[0mx\u001b[0m\u001b[1;33m[\u001b[0m\u001b[1;36m0\u001b[0m\u001b[1;33m]\u001b[0m \u001b[1;32mfor\u001b[0m \u001b[0mx\u001b[0m \u001b[1;32min\u001b[0m \u001b[0mi\u001b[0m\u001b[1;33m]\u001b[0m\u001b[1;33m,\u001b[0m \u001b[0mo\u001b[0m\u001b[1;33m)\u001b[0m\u001b[1;33m\u001b[0m\u001b[0m\n\u001b[0m\u001b[0;32m    909\u001b[0m                 \u001b[1;32mfor\u001b[0m \u001b[0mo\u001b[0m \u001b[1;32min\u001b[0m \u001b[0mnode\u001b[0m\u001b[1;33m.\u001b[0m\u001b[0moutputs\u001b[0m\u001b[1;33m:\u001b[0m\u001b[1;33m\u001b[0m\u001b[0m\n\u001b[0;32m    910\u001b[0m                     \u001b[0mcompute_map\u001b[0m\u001b[1;33m[\u001b[0m\u001b[0mo\u001b[0m\u001b[1;33m]\u001b[0m\u001b[1;33m[\u001b[0m\u001b[1;36m0\u001b[0m\u001b[1;33m]\u001b[0m \u001b[1;33m=\u001b[0m \u001b[0mTrue\u001b[0m\u001b[1;33m\u001b[0m\u001b[0m\n",
      "\u001b[1;32m/usr/local/lib/python2.7/dist-packages/theano/tensor/basic.pyc\u001b[0m in \u001b[0;36mperform\u001b[1;34m(self, node, inp, out)\u001b[0m\n\u001b[0;32m   5461\u001b[0m         \u001b[1;31m# gives a numpy float object but we need to return a 0d\u001b[0m\u001b[1;33m\u001b[0m\u001b[1;33m\u001b[0m\u001b[0m\n\u001b[0;32m   5462\u001b[0m         \u001b[1;31m# ndarray\u001b[0m\u001b[1;33m\u001b[0m\u001b[1;33m\u001b[0m\u001b[0m\n\u001b[1;32m-> 5463\u001b[1;33m         \u001b[0mz\u001b[0m\u001b[1;33m[\u001b[0m\u001b[1;36m0\u001b[0m\u001b[1;33m]\u001b[0m \u001b[1;33m=\u001b[0m \u001b[0mnumpy\u001b[0m\u001b[1;33m.\u001b[0m\u001b[0masarray\u001b[0m\u001b[1;33m(\u001b[0m\u001b[0mnumpy\u001b[0m\u001b[1;33m.\u001b[0m\u001b[0mdot\u001b[0m\u001b[1;33m(\u001b[0m\u001b[0mx\u001b[0m\u001b[1;33m,\u001b[0m \u001b[0my\u001b[0m\u001b[1;33m)\u001b[0m\u001b[1;33m)\u001b[0m\u001b[1;33m\u001b[0m\u001b[0m\n\u001b[0m\u001b[0;32m   5464\u001b[0m \u001b[1;33m\u001b[0m\u001b[0m\n\u001b[0;32m   5465\u001b[0m     \u001b[1;32mdef\u001b[0m \u001b[0mgrad\u001b[0m\u001b[1;33m(\u001b[0m\u001b[0mself\u001b[0m\u001b[1;33m,\u001b[0m \u001b[0minp\u001b[0m\u001b[1;33m,\u001b[0m \u001b[0mgrads\u001b[0m\u001b[1;33m)\u001b[0m\u001b[1;33m:\u001b[0m\u001b[1;33m\u001b[0m\u001b[0m\n",
      "\u001b[1;31mValueError\u001b[0m: shapes (2,) and (200,2) not aligned: 2 (dim 0) != 200 (dim 0)"
     ]
    }
   ],
   "source": [
    "# assign a test value to x (in this case the correct one)\n",
    "x.tag.test_value = train_X\n",
    "p = theano.tensor.nnet.sigmoid(W.dot(x.T) + b)\n",
    "\n",
    "# enable on-the-fly graph computations\n",
    "theano.config.compute_test_value = 'warn'\n",
    "\n",
    "# assign a test value with wrong shape to x\n",
    "x.tag.test_value = train_X.T\n",
    "p = theano.tensor.nnet.sigmoid(W.dot(x.T) + b)"
   ]
  },
  {
   "cell_type": "code",
   "execution_count": 63,
   "metadata": {
    "ExecuteTime": {
     "end_time": "2016-07-12T07:20:51.588283",
     "start_time": "2016-07-12T07:20:51.585086"
    },
    "collapsed": true
   },
   "outputs": [],
   "source": [
    "# turn warnings off again for the rest of this notebook\n",
    "theano.config.compute_test_value = 'off'"
   ]
  },
  {
   "cell_type": "markdown",
   "metadata": {},
   "source": [
    "### Print intermediate values\n",
    "\n",
    "Theano has the ability to print intermediate values to stdout during execution\n",
    "of a function."
   ]
  },
  {
   "cell_type": "code",
   "execution_count": 64,
   "metadata": {
    "ExecuteTime": {
     "end_time": "2016-07-12T07:20:53.430592",
     "start_time": "2016-07-12T07:20:53.183667"
    },
    "collapsed": false
   },
   "outputs": [
    {
     "data": {
      "text/plain": [
       "array(0.3723951578140259, dtype=float32)"
      ]
     },
     "execution_count": 64,
     "metadata": {},
     "output_type": "execute_result"
    }
   ],
   "source": [
    "x_mean         = T.mean(x)\n",
    "x_mean_printed = theano.printing.Print('This is the mean of x')(x_mean)\n",
    "\n",
    "# add print to symbolic graph (without it doing anyting)\n",
    "x_print        = x + 0 * x_mean_printed\n",
    "\n",
    "# evaluate\n",
    "T.mean(x_print).eval({x : train_X})"
   ]
  },
  {
   "cell_type": "markdown",
   "metadata": {
    "ExecuteTime": {
     "end_time": "2016-07-10T08:12:09.256210",
     "start_time": "2016-07-10T08:12:09.251974"
    }
   },
   "source": [
    "### Profile your function\n",
    "\n",
    "In order to profile the runtime of your function, use profile=True during\n",
    "compilation."
   ]
  },
  {
   "cell_type": "code",
   "execution_count": 65,
   "metadata": {
    "ExecuteTime": {
     "end_time": "2016-07-12T07:20:54.858280",
     "start_time": "2016-07-12T07:20:54.407340"
    },
    "collapsed": false
   },
   "outputs": [],
   "source": [
    "# compile the function\n",
    "f = theano.function([x, target], cost, updates=updates, profile=True)\n",
    "\n",
    "# run the function multiple times\n",
    "for _ in range(10):\n",
    "    f(train_X, train_y)"
   ]
  },
  {
   "cell_type": "code",
   "execution_count": 66,
   "metadata": {
    "ExecuteTime": {
     "end_time": "2016-07-12T07:20:55.415835",
     "start_time": "2016-07-12T07:20:55.406930"
    },
    "collapsed": false
   },
   "outputs": [
    {
     "name": "stderr",
     "output_type": "stream",
     "text": [
      "Function profiling\n",
      "==================\n",
      "  Message: <ipython-input-65-cc7719d603b5>:2\n",
      "  Time in 10 calls to Function.__call__: 1.227045e-02s\n",
      "  Time in Function.fn.__call__: 1.190996e-02s (97.062%)\n",
      "  Time in thunks: 7.454634e-03s (60.753%)\n",
      "  Total compile time: 4.295568e-01s\n",
      "    Number of Apply nodes: 28\n",
      "    Theano Optimizer time: 2.507410e-01s\n",
      "       Theano validate time: 6.445646e-03s\n",
      "    Theano Linker time (includes C, CUDA code generation/compiling): 4.157209e-02s\n",
      "       Import time 0.000000e+00s\n",
      "\n",
      "Time in all call to theano.grad() 4.544401e-02s\n",
      "Time since theano import 390.519s\n",
      "Class\n",
      "---\n",
      "<% time> <sum %> <apply time> <time per call> <type> <#call> <#apply> <Class name>\n",
      "  51.0%    51.0%       0.004s       9.51e-05s     C       40       4   theano.sandbox.cuda.basic_ops.GpuFromHost\n",
      "  18.6%    69.6%       0.001s       2.77e-05s     C       50       5   theano.sandbox.cuda.basic_ops.GpuElemwise\n",
      "   9.4%    79.0%       0.001s       2.33e-05s     C       30       3   theano.sandbox.cuda.basic_ops.HostFromGpu\n",
      "   9.2%    88.2%       0.001s       3.43e-05s     C       20       2   theano.sandbox.cuda.blas.GpuGemv\n",
      "   6.6%    94.8%       0.000s       4.93e-05s     C       10       1   theano.sandbox.cuda.basic_ops.GpuCAReduce\n",
      "   2.7%    97.5%       0.000s       2.01e-05s     C       10       1   theano.sandbox.cuda.basic_ops.GpuAllocEmpty\n",
      "   1.4%    98.9%       0.000s       1.73e-06s     C       60       6   theano.tensor.elemwise.Elemwise\n",
      "   0.5%    99.4%       0.000s       1.90e-06s     C       20       2   theano.compile.ops.Shape_i\n",
      "   0.3%    99.7%       0.000s       1.17e-06s     C       20       2   theano.sandbox.cuda.basic_ops.GpuDimShuffle\n",
      "   0.2%    99.9%       0.000s       1.12e-06s     C       10       1   theano.tensor.elemwise.Sum\n",
      "   0.1%   100.0%       0.000s       9.30e-07s     C       10       1   theano.tensor.elemwise.DimShuffle\n",
      "   ... (remaining 0 Classes account for   0.00%(0.00s) of the runtime)\n",
      "\n",
      "Ops\n",
      "---\n",
      "<% time> <sum %> <apply time> <time per call> <type> <#call> <#apply> <Op name>\n",
      "  51.0%    51.0%       0.004s       9.51e-05s     C       40        4   GpuFromHost\n",
      "   9.4%    60.4%       0.001s       2.33e-05s     C       30        3   HostFromGpu\n",
      "   9.2%    69.6%       0.001s       3.43e-05s     C       20        2   GpuGemv{inplace}\n",
      "   6.6%    76.2%       0.000s       4.93e-05s     C       10        1   GpuCAReduce{add}{1}\n",
      "   5.2%    81.4%       0.000s       3.84e-05s     C       10        1   GpuElemwise{Composite{scalar_softplus((-i0))},no_inplace}\n",
      "   3.5%    84.9%       0.000s       2.63e-05s     C       10        1   GpuElemwise{Add}[(0, 0)]\n",
      "   3.5%    88.4%       0.000s       2.63e-05s     C       10        1   GpuElemwise{Composite{((i0 * (i1 - scalar_sigmoid(i2))) - (i3 * scalar_sigmoid(i2)))}}[(0, 0)]\n",
      "   3.3%    91.7%       0.000s       2.48e-05s     C       10        1   GpuElemwise{ScalarSoftplus}[(0, 0)]\n",
      "   3.1%    94.8%       0.000s       2.29e-05s     C       10        1   GpuElemwise{Composite{(i0 - (i1 * i2))}}[(0, 0)]\n",
      "   2.7%    97.5%       0.000s       2.01e-05s     C       10        1   GpuAllocEmpty\n",
      "   0.7%    98.2%       0.000s       4.98e-06s     C       10        1   Elemwise{Composite{((i0 * i1) - (i2 * i3 * i4))}}\n",
      "   0.5%    98.7%       0.000s       1.90e-06s     C       20        2   Shape_i{0}\n",
      "   0.4%    99.1%       0.000s       1.39e-06s     C       20        2   Elemwise{Composite{Cast{float32}((Cast{float64}((-i0)) / i1))}}\n",
      "   0.2%    99.3%       0.000s       1.53e-06s     C       10        1   Elemwise{sub,no_inplace}\n",
      "   0.2%    99.4%       0.000s       1.24e-06s     C       10        1   GpuDimShuffle{1,0}\n",
      "   0.2%    99.6%       0.000s       1.12e-06s     C       10        1   Sum{acc_dtype=float64}\n",
      "   0.1%    99.7%       0.000s       1.10e-06s     C       10        1   GpuDimShuffle{x}\n",
      "   0.1%    99.9%       0.000s       9.30e-07s     C       10        1   InplaceDimShuffle{x}\n",
      "   0.1%   100.0%       0.000s       7.87e-07s     C       10        1   Elemwise{Cast{float64}}\n",
      "   0.0%   100.0%       0.000s       2.86e-07s     C       10        1   Elemwise{TrueDiv}[(0, 0)]\n",
      "   ... (remaining 0 Ops account for   0.00%(0.00s) of the runtime)\n",
      "\n",
      "Apply\n",
      "------\n",
      "<% time> <sum %> <apply time> <time per call> <#call> <id> <Apply name>\n",
      "  41.1%    41.1%       0.003s       3.06e-04s     10     1   GpuFromHost(x)\n",
      "   6.6%    47.7%       0.000s       4.93e-05s     10    20   GpuCAReduce{add}{1}(GpuElemwise{Composite{((i0 * (i1 - scalar_sigmoid(i2))) - (i3 * scalar_sigmoid(i2)))}}[(0, 0)].0)\n",
      "   5.2%    52.8%       0.000s       3.84e-05s     10    14   GpuElemwise{Composite{scalar_softplus((-i0))},no_inplace}(GpuElemwise{Add}[(0, 0)].0)\n",
      "   4.6%    57.4%       0.000s       3.43e-05s     10    21   GpuGemv{inplace}(W, TensorConstant{-0.00999999977648}, GpuDimShuffle{1,0}.0, GpuElemwise{Composite{((i0 * (i1 - scalar_sigmoid(i2))) - (i3 * scalar_sigmoid(i2)))}}[(0, 0)].0, TensorConstant{1.0})\n",
      "   4.6%    62.0%       0.000s       3.42e-05s     10     9   GpuGemv{inplace}(GpuAllocEmpty.0, TensorConstant{1.0}, GpuFromHost.0, W, TensorConstant{0.0})\n",
      "   3.7%    65.7%       0.000s       2.73e-05s     10    16   GpuFromHost(Elemwise{Composite{Cast{float32}((Cast{float64}((-i0)) / i1))}}.0)\n",
      "   3.6%    69.3%       0.000s       2.69e-05s     10     0   GpuFromHost(b)\n",
      "   3.5%    72.8%       0.000s       2.63e-05s     10    18   GpuElemwise{Composite{((i0 * (i1 - scalar_sigmoid(i2))) - (i3 * scalar_sigmoid(i2)))}}[(0, 0)](GpuFromHost.0, CudaNdarrayConstant{[ 1.]}, GpuElemwise{Add}[(0, 0)].0, GpuFromHost.0)\n",
      "   3.5%    76.4%       0.000s       2.63e-05s     10    11   GpuElemwise{Add}[(0, 0)](GpuGemv{inplace}.0, GpuDimShuffle{x}.0)\n",
      "   3.3%    79.7%       0.000s       2.48e-05s     10    19   GpuElemwise{ScalarSoftplus}[(0, 0)](GpuElemwise{Add}[(0, 0)].0)\n",
      "   3.2%    82.9%       0.000s       2.40e-05s     10    25   HostFromGpu(GpuElemwise{Composite{(i0 - (i1 * i2))}}[(0, 0)].0)\n",
      "   3.2%    86.1%       0.000s       2.39e-05s     10    17   HostFromGpu(GpuElemwise{Composite{scalar_softplus((-i0))},no_inplace}.0)\n",
      "   3.1%    89.2%       0.000s       2.29e-05s     10    23   GpuElemwise{Composite{(i0 - (i1 * i2))}}[(0, 0)](GpuFromHost.0, CudaNdarrayConstant{0.00999999977648}, GpuCAReduce{add}{1}.0)\n",
      "   3.0%    92.1%       0.000s       2.21e-05s     10    22   HostFromGpu(GpuElemwise{ScalarSoftplus}[(0, 0)].0)\n",
      "   2.7%    94.8%       0.000s       2.01e-05s     10     7   GpuAllocEmpty(Shape_i{0}.0)\n",
      "   2.7%    97.5%       0.000s       1.99e-05s     10    15   GpuFromHost(Elemwise{Composite{Cast{float32}((Cast{float64}((-i0)) / i1))}}.0)\n",
      "   0.7%    98.2%       0.000s       4.98e-06s     10    24   Elemwise{Composite{((i0 * i1) - (i2 * i3 * i4))}}(target, HostFromGpu.0, TensorConstant{(1,) of -1.0}, Elemwise{sub,no_inplace}.0, HostFromGpu.0)\n",
      "   0.4%    98.6%       0.000s       3.05e-06s     10     2   Shape_i{0}(x)\n",
      "   0.2%    98.8%       0.000s       1.72e-06s     10    13   Elemwise{Composite{Cast{float32}((Cast{float64}((-i0)) / i1))}}(target, InplaceDimShuffle{x}.0)\n",
      "   0.2%    99.0%       0.000s       1.53e-06s     10     4   Elemwise{sub,no_inplace}(TensorConstant{(1,) of 1}, target)\n",
      "   ... (remaining 8 Apply instances account for 0.98%(0.00s) of the runtime)\n",
      "\n",
      "Here are tips to potentially make your code run faster\n",
      "                 (if you think of new ones, suggest them on the mailing list).\n",
      "                 Test them first, as they are not guaranteed to always provide a speedup.\n",
      "  Sorry, no tip for today.\n"
     ]
    }
   ],
   "source": [
    "f.profile.summary()"
   ]
  },
  {
   "cell_type": "markdown",
   "metadata": {},
   "source": [
    "### Using Lasagne\n",
    "\n",
    "Lasagne helps with building neural networks capsulating the repetetive parts that occur when coding deeper architectures in Theano. E.g. the simple sigmoidal network above (for logistic regression) could be written in two lines:"
   ]
  },
  {
   "cell_type": "code",
   "execution_count": 67,
   "metadata": {
    "ExecuteTime": {
     "end_time": "2016-07-12T07:20:56.931579",
     "start_time": "2016-07-12T07:20:56.925602"
    },
    "collapsed": false
   },
   "outputs": [],
   "source": [
    "import lasagne\n",
    "import lasagne.layers as ll\n",
    "\n",
    "# define the input of the network, i.e. its shape (where None stands for a \n",
    "# variable number, in this case the number of samples per batch is not fixed)\n",
    "# and the theano variable that represents the input (optional)\n",
    "net = ll.InputLayer(shape=(None,2), input_var=x)\n",
    "\n",
    "# define a dense layer that takes the output x of the input layer and performs\n",
    "# a dense affine transformation W*x + b together with a sigmoid nonlinearity\n",
    "# num_units specifies the number of output units of that layer, which in turn\n",
    "# (together with the input dimension) specifies the shape of W and b\n",
    "net = ll.DenseLayer(net, num_units=1, nonlinearity=lasagne.nonlinearities.sigmoid)"
   ]
  },
  {
   "cell_type": "markdown",
   "metadata": {},
   "source": [
    "The layers provide a high-level way of building your network architecture in Theano. The layers themselves are **not** Theano variables or expressions. Instead, they are used to build Theano expressions. To get the prediction of the network (i.e. the output after the dense layer) we need to call the helper function ll.get_output:"
   ]
  },
  {
   "cell_type": "code",
   "execution_count": 68,
   "metadata": {
    "ExecuteTime": {
     "end_time": "2016-07-12T07:20:57.839847",
     "start_time": "2016-07-12T07:20:57.833695"
    },
    "collapsed": false
   },
   "outputs": [
    {
     "name": "stdout",
     "output_type": "stream",
     "text": [
      "<class 'lasagne.layers.dense.DenseLayer'>\n",
      "<class 'theano.tensor.var.TensorVariable'>\n"
     ]
    }
   ],
   "source": [
    "# prediction\n",
    "p = ll.get_output(net)\n",
    "\n",
    "# look at the types:\n",
    "print type(net)\n",
    "print type(p)"
   ]
  },
  {
   "cell_type": "markdown",
   "metadata": {},
   "source": [
    "Lasagne implements different cost terms (see the - very readable! - [documentation](http://lasagne.readthedocs.io/en/latest/modules/objectives.html)), among them a binary cross_entropy cost:"
   ]
  },
  {
   "cell_type": "code",
   "execution_count": 69,
   "metadata": {
    "ExecuteTime": {
     "end_time": "2016-07-12T07:20:59.329708",
     "start_time": "2016-07-12T07:20:59.319464"
    },
    "collapsed": false
   },
   "outputs": [],
   "source": [
    "cost = lasagne.objectives.binary_crossentropy(p.flatten(), target).mean()\n",
    "\n",
    "# there is also a very simple way to compute the accuracy of the prediction\n",
    "acc  = lasagne.objectives.binary_accuracy(p.flatten(), target).mean()"
   ]
  },
  {
   "cell_type": "markdown",
   "metadata": {},
   "source": [
    "In order to compute the gradients we need the list of the parameters of the network:"
   ]
  },
  {
   "cell_type": "code",
   "execution_count": 70,
   "metadata": {
    "ExecuteTime": {
     "end_time": "2016-07-12T07:21:00.575221",
     "start_time": "2016-07-12T07:21:00.570561"
    },
    "collapsed": false
   },
   "outputs": [
    {
     "name": "stdout",
     "output_type": "stream",
     "text": [
      "[W, b]\n"
     ]
    }
   ],
   "source": [
    "params = ll.get_all_params(net)\n",
    "print params"
   ]
  },
  {
   "cell_type": "markdown",
   "metadata": {},
   "source": [
    "Finally, Lasagne also provides some convenience functions to compute the update expressions of the parameters for different update rules (e.g. plain stochastic gradient descent (SGD), Nesterov Momentum, Adagrad, Adam, etc.):"
   ]
  },
  {
   "cell_type": "code",
   "execution_count": 71,
   "metadata": {
    "ExecuteTime": {
     "end_time": "2016-07-12T07:21:18.564646",
     "start_time": "2016-07-12T07:21:01.539234"
    },
    "collapsed": false
   },
   "outputs": [],
   "source": [
    "updates = lasagne.updates.momentum(cost, params, learning_rate=0.01)\n",
    "\n",
    "# compile training function in the standard way\n",
    "train_fn = theano.function([x, target], [cost, acc], updates=updates)"
   ]
  },
  {
   "cell_type": "code",
   "execution_count": 72,
   "metadata": {
    "ExecuteTime": {
     "end_time": "2016-07-12T07:21:32.283678",
     "start_time": "2016-07-12T07:21:18.566937"
    },
    "collapsed": false
   },
   "outputs": [
    {
     "name": "stdout",
     "output_type": "stream",
     "text": [
      "0.79\n",
      "0.845\n",
      "0.855\n",
      "0.85\n",
      "0.845\n",
      "0.845\n",
      "0.845\n",
      "0.845\n",
      "0.845\n",
      "0.845\n"
     ]
    }
   ],
   "source": [
    "# training\n",
    "for i in xrange(10000):\n",
    "    vCost, vAcc = train_fn(train_X, train_y)\n",
    "    if i%1000==0:\n",
    "        print vAcc"
   ]
  },
  {
   "cell_type": "code",
   "execution_count": 73,
   "metadata": {
    "ExecuteTime": {
     "end_time": "2016-07-12T07:21:33.411365",
     "start_time": "2016-07-12T07:21:32.285038"
    },
    "collapsed": false
   },
   "outputs": [
    {
     "data": {
      "image/png": "iVBORw0KGgoAAAANSUhEUgAAAl8AAAHgCAYAAACbywggAAAABHNCSVQICAgIfAhkiAAAAAlwSFlz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
