{
 "cells": [
  {
   "cell_type": "markdown",
   "metadata": {},
   "source": [
    "# Implementing Neural Networks in Theano & Lasagne\n",
    "\n",
    "In this notebook we will implement a simple Neural Network from scratch. This tutorial combines and adapts elements from a tutorial by [WildML](http://www.wildml.com/2015/09/implementing-a-neural-network-from-scratch/) and by [Marekei](http://www.marekrei.com/blog/theano-tutorial/).\n",
    "\n"
   ]
  },
  {
   "cell_type": "code",
   "execution_count": 1,
   "metadata": {
    "ExecuteTime": {
     "end_time": "2016-07-12T07:14:37.326052",
     "start_time": "2016-07-12T07:14:24.128226"
    },
    "collapsed": false
   },
   "outputs": [
    {
     "name": "stderr",
     "output_type": "stream",
     "text": [
      "WARNING (theano.gof.compilelock): Overriding existing lock by dead process '17187' (I am process '17988')\n",
      "Using gpu device 1: Tesla K80 (CNMeM is disabled, cuDNN 4007)\n"
     ]
    }
   ],
   "source": [
    "import os\n",
    "\n",
    "os.environ['THEANO_FLAGS'] = 'device=gpu1, floatX=float32'\n",
    "os.environ['CUDA_LAUNCH_BLOCKING'] = '1'    # we need this for profiling theano functions\n",
    "\n",
    "import matplotlib.pyplot as plt\n",
    "import numpy as np\n",
    "import numpy\n",
    "import sklearn\n",
    "import sklearn.datasets\n",
    "import matplotlib\n",
    "import theano\n",
    "import theano.tensor as T\n",
    "\n",
    "import pydot\n",
    "from IPython.display import Image\n",
    "from IPython.display import SVG\n",
    "import timeit\n",
    "\n",
    "# Display plots inline and change default figure size\n",
    "%matplotlib inline\n",
    "matplotlib.rcParams['figure.figsize'] = (10.0, 8.0)"
   ]
  },
  {
   "cell_type": "markdown",
   "metadata": {
    "ExecuteTime": {
     "end_time": "2016-07-09T18:55:23.982257",
     "start_time": "2016-07-09T18:55:23.979643"
    }
   },
   "source": [
    "### Introduction to Theano Syntax"
   ]
  },
  {
   "cell_type": "markdown",
   "metadata": {},
   "source": [
    "Here is simple toy example in which we compute the dot-product between a given\n",
    "vector $w$ and a variable $x$:"
   ]
  },
  {
   "cell_type": "code",
   "execution_count": 2,
   "metadata": {
    "ExecuteTime": {
     "end_time": "2016-07-12T07:14:37.658863",
     "start_time": "2016-07-12T07:14:37.327695"
    },
    "collapsed": false
   },
   "outputs": [
    {
     "name": "stdout",
     "output_type": "stream",
     "text": [
      "0.9\n"
     ]
    }
   ],
   "source": [
    "# We first define a Theano variable x to be a vector of 32-bit floats, \n",
    "# and give it the name ‘x’\n",
    "x = theano.tensor.fvector('x')\n",
    "\n",
    "# Next, we create a Theano variable w, assign its value to be \n",
    "# vector [0.2, 0.7], and name it ‘W’:\n",
    "w = theano.shared(np.asarray([0.2, 0.7]), 'w')\n",
    "\n",
    "# We define y to be the sum of all elements in the element-wise \n",
    "# multiplication of x and W:\n",
    "y = (x * w).sum()\n",
    " \n",
    "# We define a Theano function f, which takes as input x and outputs y:\n",
    "f = theano.function([x], y)\n",
    " \n",
    "# Then call this function, giving as the argument vector [1.0, 1.0], \n",
    "# essentially setting the value of variable x:\n",
    "output = f([1.0, 1.0])\n",
    "print output"
   ]
  },
  {
   "cell_type": "markdown",
   "metadata": {
    "ExecuteTime": {
     "end_time": "2016-07-09T19:04:09.661164",
     "start_time": "2016-07-09T19:04:09.658605"
    }
   },
   "source": [
    "### Theano Variables"
   ]
  },
  {
   "cell_type": "markdown",
   "metadata": {},
   "source": [
    "We can define variables which don’t have any values yet. Normally, these would be used for inputs to our network. The variables have to be of a specific type though. For example, here we define variable x to be a vector of 32-bit floats, and give it name ‘x’:\n",
    "\n",
    "> x = theano.tensor.fvector('x')\n",
    "\n",
    "The names are generally useful for debugging and informative error messages. Theano won’t have access to your Python variable names, so you have to assign explicit Theano names for each variable if you want them to be referred to as something more useful than just “a tensor”.\n",
    "\n",
    "There are a number of different variable types available, just have a look at the list here. Some of the more popular ones include:\n",
    "\n",
    "| Constructor  | dtype   | ndim |\n",
    "|--------------|---------|------|\n",
    "| fvector      | float32 | 1    |\n",
    "| ivector      | int32   | 1    |\n",
    "| fscalar      | float32 | 0    |\n",
    "| fmatrix      | float32 | 2    |\n",
    "| ftensor3     | float32 | 3    |\n",
    "| dtensor3     | float64 | 3    |\n",
    "| ftensor4     | float32 | 4    |\n",
    "| dtensor4     | float64 | 4    |\n",
    "\n",
    "You can also define a generic vector (or tensor) and set the type with an argument:\n",
    "\n",
    "> x = theano.tensor.vector('x', dtype=float32)\n",
    "\n",
    "If you don’t set the dtype, you will create vectors of type config.floatX."
   ]
  },
  {
   "cell_type": "markdown",
   "metadata": {},
   "source": [
    "### Shared Variables"
   ]
  },
  {
   "cell_type": "markdown",
   "metadata": {},
   "source": [
    "We can also define shared variables, which are shared between different functions and different function calls. Normally, these would be used for weights in our neural network. Theano will automatically try to move shared variables to the GPU, provided one is available, in order to speed up computation.\n",
    "\n",
    "Here we define a shared variable and set its value to [0.2, 0.7].\n",
    "\n",
    "> W = theano.shared(numpy.asarray([0.2, 0.7]), 'W')\n",
    "\n",
    "The values in shared variables can be accessed and modified outside of our Theano functions using these commands:\n",
    "\n",
    "> W.get_value()\n",
    "\n",
    "> W.set_value([0.1, 0.9])"
   ]
  },
  {
   "cell_type": "markdown",
   "metadata": {},
   "source": [
    "### Functions"
   ]
  },
  {
   "cell_type": "markdown",
   "metadata": {},
   "source": [
    "Theano functions are basically hooks for interacting with the symbolic graph. Commonly, we use them for passing input into our network and collecting the resulting output.\n",
    "\n",
    "Here we define a Theano function f that takes x as input and returns y as output:\n",
    "\n",
    "> f = theano.function([x], y)\n",
    "\n",
    "The first parameter is the list of input variables, and the second parameter is the list of output variables. Although if there’s only one output variable (like now) we don’t need to make it into a list.\n",
    "\n",
    "When we construct a function, Theano takes over and performs some of its own magic. It builds the computational graph and optimises it as much as possible. It restructures mathematical operations to make them faster and more stable, compiles some parts to C, moves some tensors to the GPU, etc.\n",
    "\n",
    "Theano compilation can be controlled by setting the value of mode in the environement variable THEANO_FLAGS:\n",
    "\n",
    "* FAST_COMPILE – Fast to compile, slow to run. Python implementations only, minimal graph optimisation.\n",
    "* FAST_RUN – Slow to compile, fast to run. C implementations where available, full range of optimisations\n",
    "\n",
    "The parameter THEANO_FLAGS can be set at the beginning of the script, see the header of this notebook."
   ]
  },
  {
   "cell_type": "markdown",
   "metadata": {},
   "source": [
    "### Minimum Training Example\n",
    "\n",
    "Here’s a minimal script for actually training something in Theano. We will be training the weights in W using gradient descent, so that the result from the model would be 20 instead of the original 0.9."
   ]
  },
  {
   "cell_type": "code",
   "execution_count": 3,
   "metadata": {
    "ExecuteTime": {
     "end_time": "2016-07-12T07:14:37.831282",
     "start_time": "2016-07-12T07:14:37.661017"
    },
    "collapsed": false
   },
   "outputs": [
    {
     "name": "stdout",
     "output_type": "stream",
     "text": [
      "0.9\n",
      "8.54000011384\n",
      "13.1240001366\n",
      "15.874400123\n",
      "17.5246400984\n",
      "18.5147840738\n",
      "19.1088704531\n",
      "19.4653222772\n",
      "19.6791933695\n",
      "19.8075160236\n"
     ]
    }
   ],
   "source": [
    "x = theano.tensor.fvector('x')\n",
    "\n",
    "# We create a second input variable called target, which will act \n",
    "# as the target value we use for training:\n",
    "target = theano.tensor.fscalar('target')\n",
    " \n",
    "W = theano.shared(numpy.asarray([0.2, 0.7]), 'W')\n",
    "y = (x * W).sum()\n",
    "\n",
    "# In order to train the model, we need a cost function. Here we use a \n",
    "# simple squared distance from the target:\n",
    "cost = theano.tensor.sqr(target - y)\n",
    "\n",
    "# To calculate the partial gradients for the parameters with respect to the \n",
    "# cost function we call the grad function. First argument: the real-valued \n",
    "# cost, second argument : a list of all the variables we want gradients for\n",
    "gradients = theano.tensor.grad(cost, [W])\n",
    "\n",
    "# Now let’s define a symbolic variable for what the updated version of the \n",
    "# parameters will look like. Using gradient descent, the update rule is to \n",
    "# subtract the gradient, multiplied by the learning rate:\n",
    "W_updated = W - (0.1 * gradients[0])\n",
    "\n",
    "# And next we create a list of updates. More specifically, a list of tuples \n",
    "# where the first element is the variable we want to update, and the second \n",
    "# element is a variable containing the values that we want the first variable \n",
    "# to contain after the update. This is just a syntax that Theano requires.\n",
    "updates = [(W, W_updated)]\n",
    "\n",
    "# Theano.function now takes two input arguments – one for the input vector, \n",
    "# and another for the target value used for training. And the list of updates \n",
    "# also gets attached to the function as well. Every time this function is \n",
    "# called, we pass in values for x and target, get back the value for y as \n",
    "# output, and Theano performs all the updates in the update list.\n",
    "f = theano.function([x, target], y, updates=updates)\n",
    "\n",
    "# In order to train the parameters, we repeatedly call this function \n",
    "# (10 times in this case). Normally, we’d pass in different examples from \n",
    "# our training data, but for this example we use the same x=[1.0, 1.0] and \n",
    "# target=20 each time:\n",
    "for i in xrange(10):\n",
    "    output = f([1.0, 1.0], 20.0)\n",
    "    print output"
   ]
  },
  {
   "cell_type": "markdown",
   "metadata": {},
   "source": [
    "### Useful Operations"
   ]
  },
  {
   "cell_type": "markdown",
   "metadata": {
    "ExecuteTime": {
     "end_time": "2016-07-09T19:52:20.129461",
     "start_time": "2016-07-09T19:52:20.122314"
    }
   },
   "source": [
    "This covers the basic logic behind building models with Theano. The example was very simple, but we are free to define increasingly complicated networks, as long as we use Theano-specific functions. Now let’s look at some of these building blocks that we have available.\n",
    "\n",
    "**Evaluate the value of a Theano variable**\n",
    "\n",
    "The eval() function forces the Theano variable to calculate and return its actual (numerical) value. If we try to just print the variable a, we only print its name. But if we use eval(), we get the actual square matrix that it is initialised to."
   ]
  },
  {
   "cell_type": "code",
   "execution_count": 4,
   "metadata": {
    "ExecuteTime": {
     "end_time": "2016-07-12T07:14:37.879963",
     "start_time": "2016-07-12T07:14:37.833885"
    },
    "collapsed": false
   },
   "outputs": [
    {
     "data": {
      "text/plain": [
       "array([[ 1.,  2.],\n",
       "       [ 3.,  4.]])"
      ]
     },
     "execution_count": 4,
     "metadata": {},
     "output_type": "execute_result"
    }
   ],
   "source": [
    "a = theano.shared(numpy.asarray([[1.0,2.0],[3.0,4.0]]), 'a')\n",
    "a.eval()"
   ]
  },
  {
   "cell_type": "markdown",
   "metadata": {},
   "source": [
    "This eval() function isn’t really used for building models, but it can be useful for debugging and learning how Theano works. In the examples below, I will be using the matrix a and the eval() function to print the value of each variable and demonstrate how different operations work."
   ]
  },
  {
   "cell_type": "markdown",
   "metadata": {
    "ExecuteTime": {
     "end_time": "2016-07-09T19:53:30.186274",
     "start_time": "2016-07-09T19:53:30.182431"
    }
   },
   "source": [
    "**Basic element-wise operations: + – * /**"
   ]
  },
  {
   "cell_type": "code",
   "execution_count": 5,
   "metadata": {
    "ExecuteTime": {
     "end_time": "2016-07-12T07:14:38.057655",
     "start_time": "2016-07-12T07:14:37.882254"
    },
    "collapsed": false
   },
   "outputs": [
    {
     "data": {
      "text/plain": [
       "array([[ 0.5,  1. ],\n",
       "       [ 1.5,  2. ]])"
      ]
     },
     "execution_count": 5,
     "metadata": {},
     "output_type": "execute_result"
    }
   ],
   "source": [
    "c = ((a + a) / 4.0)\n",
    "c.eval()"
   ]
  },
  {
   "cell_type": "markdown",
   "metadata": {
    "ExecuteTime": {
     "end_time": "2016-07-09T19:54:09.045007",
     "start_time": "2016-07-09T19:54:09.041375"
    }
   },
   "source": [
    "**Dot product**"
   ]
  },
  {
   "cell_type": "code",
   "execution_count": 6,
   "metadata": {
    "ExecuteTime": {
     "end_time": "2016-07-12T07:14:38.206176",
     "start_time": "2016-07-12T07:14:38.059382"
    },
    "collapsed": false
   },
   "outputs": [
    {
     "data": {
      "text/plain": [
       "array([[  7.,  10.],\n",
       "       [ 15.,  22.]])"
      ]
     },
     "execution_count": 6,
     "metadata": {},
     "output_type": "execute_result"
    }
   ],
   "source": [
    "c = theano.tensor.dot(a, a)\n",
    "c.eval()"
   ]
  },
  {
   "cell_type": "markdown",
   "metadata": {
    "ExecuteTime": {
     "end_time": "2016-07-09T19:54:41.752075",
     "start_time": "2016-07-09T19:54:41.746576"
    }
   },
   "source": [
    "**Activation functions**"
   ]
  },
  {
   "cell_type": "code",
   "execution_count": 7,
   "metadata": {
    "ExecuteTime": {
     "end_time": "2016-07-12T07:14:38.330005",
     "start_time": "2016-07-12T07:14:38.207283"
    },
    "collapsed": false
   },
   "outputs": [
    {
     "data": {
      "text/plain": [
       "array([[ 0.73105858,  0.88079708],\n",
       "       [ 0.95257413,  0.98201379]])"
      ]
     },
     "execution_count": 7,
     "metadata": {},
     "output_type": "execute_result"
    }
   ],
   "source": [
    "c = theano.tensor.nnet.sigmoid(a)\n",
    "c.eval()"
   ]
  },
  {
   "cell_type": "code",
   "execution_count": 8,
   "metadata": {
    "ExecuteTime": {
     "end_time": "2016-07-12T07:14:38.452085",
     "start_time": "2016-07-12T07:14:38.332372"
    },
    "collapsed": false
   },
   "outputs": [
    {
     "data": {
      "text/plain": [
       "array([[ 0.76159416,  0.96402758],\n",
       "       [ 0.99505475,  0.9993293 ]])"
      ]
     },
     "execution_count": 8,
     "metadata": {},
     "output_type": "execute_result"
    }
   ],
   "source": [
    "c = theano.tensor.tanh(a)\n",
    "c.eval()"
   ]
  },
  {
   "cell_type": "code",
   "execution_count": 9,
   "metadata": {
    "ExecuteTime": {
     "end_time": "2016-07-12T07:14:38.571938",
     "start_time": "2016-07-12T07:14:38.453962"
    },
    "collapsed": false
   },
   "outputs": [
    {
     "data": {
      "text/plain": [
       "array([[ 0.26894142,  0.73105858],\n",
       "       [ 0.26894142,  0.73105858]])"
      ]
     },
     "execution_count": 9,
     "metadata": {},
     "output_type": "execute_result"
    }
   ],
   "source": [
    "c = theano.tensor.nnet.softmax(a)\n",
    "c.eval()"
   ]
  },
  {
   "cell_type": "markdown",
   "metadata": {},
   "source": [
    "**Sum**"
   ]
  },
  {
   "cell_type": "code",
   "execution_count": 10,
   "metadata": {
    "ExecuteTime": {
     "end_time": "2016-07-12T07:14:38.704918",
     "start_time": "2016-07-12T07:14:38.573427"
    },
    "collapsed": false
   },
   "outputs": [
    {
     "data": {
      "text/plain": [
       "array(10.0)"
      ]
     },
     "execution_count": 10,
     "metadata": {},
     "output_type": "execute_result"
    }
   ],
   "source": [
    "c = a.sum()\n",
    "c.eval()"
   ]
  },
  {
   "cell_type": "code",
   "execution_count": 11,
   "metadata": {
    "ExecuteTime": {
     "end_time": "2016-07-12T07:14:38.865668",
     "start_time": "2016-07-12T07:14:38.706056"
    },
    "collapsed": false
   },
   "outputs": [
    {
     "data": {
      "text/plain": [
       "array([ 3.,  7.])"
      ]
     },
     "execution_count": 11,
     "metadata": {},
     "output_type": "execute_result"
    }
   ],
   "source": [
    "c = a.sum(axis=1)\n",
    "c.eval()"
   ]
  },
  {
   "cell_type": "markdown",
   "metadata": {},
   "source": [
    "**Max**"
   ]
  },
  {
   "cell_type": "code",
   "execution_count": 12,
   "metadata": {
    "ExecuteTime": {
     "end_time": "2016-07-12T07:14:38.966929",
     "start_time": "2016-07-12T07:14:38.867579"
    },
    "collapsed": false
   },
   "outputs": [
    {
     "data": {
      "text/plain": [
       "array(4.0)"
      ]
     },
     "execution_count": 12,
     "metadata": {},
     "output_type": "execute_result"
    }
   ],
   "source": [
    "c = a.max()\n",
    "c.eval()"
   ]
  },
  {
   "cell_type": "code",
   "execution_count": 13,
   "metadata": {
    "ExecuteTime": {
     "end_time": "2016-07-12T07:14:39.111538",
     "start_time": "2016-07-12T07:14:38.968798"
    },
    "collapsed": false
   },
   "outputs": [
    {
     "data": {
      "text/plain": [
       "array([ 2.,  4.])"
      ]
     },
     "execution_count": 13,
     "metadata": {},
     "output_type": "execute_result"
    }
   ],
   "source": [
    "c = a.max(axis=1)\n",
    "c.eval()"
   ]
  },
  {
   "cell_type": "markdown",
   "metadata": {},
   "source": [
    "**Argmax**"
   ]
  },
  {
   "cell_type": "code",
   "execution_count": 14,
   "metadata": {
    "ExecuteTime": {
     "end_time": "2016-07-12T07:14:39.261690",
     "start_time": "2016-07-12T07:14:39.113508"
    },
    "collapsed": false
   },
   "outputs": [
    {
     "data": {
      "text/plain": [
       "array(3)"
      ]
     },
     "execution_count": 14,
     "metadata": {},
     "output_type": "execute_result"
    }
   ],
   "source": [
    "c = theano.tensor.argmax(a)\n",
    "c.eval()"
   ]
  },
  {
   "cell_type": "code",
   "execution_count": 15,
   "metadata": {
    "ExecuteTime": {
     "end_time": "2016-07-12T07:14:39.400443",
     "start_time": "2016-07-12T07:14:39.263839"
    },
    "collapsed": false
   },
   "outputs": [
    {
     "data": {
      "text/plain": [
       "array([1, 1])"
      ]
     },
     "execution_count": 15,
     "metadata": {},
     "output_type": "execute_result"
    }
   ],
   "source": [
    "c = theano.tensor.argmax(a, axis=1)\n",
    "c.eval()"
   ]
  },
  {
   "cell_type": "markdown",
   "metadata": {},
   "source": [
    "**Reshape**\n",
    "\n",
    "We sometimes need to change the dimensions of a tensor and reshape() allows us to do that. It takes as input a tuple containing the new shape and returns a new tensor with that shape. In the first example below, we shape a square matrix into a 1×4 matrix. In the second example, we use -1 which means “as big as the dimension needs to be”."
   ]
  },
  {
   "cell_type": "code",
   "execution_count": 16,
   "metadata": {
    "ExecuteTime": {
     "end_time": "2016-07-12T07:14:39.532015",
     "start_time": "2016-07-12T07:14:39.402336"
    },
    "collapsed": false
   },
   "outputs": [
    {
     "data": {
      "text/plain": [
       "array([[1, 2, 3, 4]])"
      ]
     },
     "execution_count": 16,
     "metadata": {},
     "output_type": "execute_result"
    }
   ],
   "source": [
    "a = theano.shared(numpy.asarray([[1,2],[3,4]]), 'a')\n",
    "c = a.reshape((1,4))\n",
    "c.eval()"
   ]
  },
  {
   "cell_type": "code",
   "execution_count": 17,
   "metadata": {
    "ExecuteTime": {
     "end_time": "2016-07-12T07:14:39.693800",
     "start_time": "2016-07-12T07:14:39.533142"
    },
    "collapsed": false
   },
   "outputs": [
    {
     "data": {
      "text/plain": [
       "array([1, 2, 3, 4])"
      ]
     },
     "execution_count": 17,
     "metadata": {},
     "output_type": "execute_result"
    }
   ],
   "source": [
    "c = a.reshape((-1,))\n",
    "c.eval()"
   ]
  },
  {
   "cell_type": "markdown",
   "metadata": {},
   "source": [
    "**Zeros-like, ones-like**\n",
    "\n",
    "These functions create new tensors with the same shape but all values set to zero or one."
   ]
  },
  {
   "cell_type": "code",
   "execution_count": 18,
   "metadata": {
    "ExecuteTime": {
     "end_time": "2016-07-12T07:14:39.847373",
     "start_time": "2016-07-12T07:14:39.695968"
    },
    "collapsed": false
   },
   "outputs": [
    {
     "data": {
      "text/plain": [
       "array([[0, 0],\n",
       "       [0, 0]])"
      ]
     },
     "execution_count": 18,
     "metadata": {},
     "output_type": "execute_result"
    }
   ],
   "source": [
    "c = theano.tensor.zeros_like(a)\n",
    "c.eval()"
   ]
  },
  {
   "cell_type": "markdown",
   "metadata": {},
   "source": [
    "**Reorder the tensor dimensions**\n",
    "\n",
    "Sometimes we need to reorder the dimensions in a tensor. In the examples below, the dimensions in a two-dimensional matrix are first swapped. Then, ‘x’ is used to create a brand new dimension."
   ]
  },
  {
   "cell_type": "code",
   "execution_count": 19,
   "metadata": {
    "ExecuteTime": {
     "end_time": "2016-07-12T07:14:39.935435",
     "start_time": "2016-07-12T07:14:39.849139"
    },
    "collapsed": false
   },
   "outputs": [
    {
     "data": {
      "text/plain": [
       "array([[1, 2],\n",
       "       [3, 4]])"
      ]
     },
     "execution_count": 19,
     "metadata": {},
     "output_type": "execute_result"
    }
   ],
   "source": [
    "a.eval()"
   ]
  },
  {
   "cell_type": "code",
   "execution_count": 20,
   "metadata": {
    "ExecuteTime": {
     "end_time": "2016-07-12T07:14:40.032777",
     "start_time": "2016-07-12T07:14:39.936573"
    },
    "collapsed": false
   },
   "outputs": [
    {
     "data": {
      "text/plain": [
       "array([[1, 3],\n",
       "       [2, 4]])"
      ]
     },
     "execution_count": 20,
     "metadata": {},
     "output_type": "execute_result"
    }
   ],
   "source": [
    "c = a.dimshuffle((1,0))\n",
    "c.eval()"
   ]
  },
  {
   "cell_type": "code",
   "execution_count": 21,
   "metadata": {
    "ExecuteTime": {
     "end_time": "2016-07-12T07:14:40.208029",
     "start_time": "2016-07-12T07:14:40.033980"
    },
    "collapsed": false
   },
   "outputs": [
    {
     "data": {
      "text/plain": [
       "array([[[1, 2],\n",
       "        [3, 4]]])"
      ]
     },
     "execution_count": 21,
     "metadata": {},
     "output_type": "execute_result"
    }
   ],
   "source": [
    "c = a.dimshuffle(('x',0,1))\n",
    "c.eval()"
   ]
  },
  {
   "cell_type": "markdown",
   "metadata": {},
   "source": [
    "**Indexing**\n",
    "\n",
    "Using Python indexing tricks can make life so much easier. In the example below, we make a separate list b containing line numbers, and use it to construct a new matrix which contains exactly the lines we want from the original matrix. This can be useful when dealing with word embeddings – we can put word ids into a list and use this to retrieve exactly the correct sequence of embeddings from the whole embedding matrix."
   ]
  },
  {
   "cell_type": "code",
   "execution_count": 22,
   "metadata": {
    "ExecuteTime": {
     "end_time": "2016-07-12T07:14:40.392008",
     "start_time": "2016-07-12T07:14:40.210250"
    },
    "collapsed": false
   },
   "outputs": [
    {
     "data": {
      "text/plain": [
       "array([[ 1.,  2.],\n",
       "       [ 3.,  4.]])"
      ]
     },
     "execution_count": 22,
     "metadata": {},
     "output_type": "execute_result"
    }
   ],
   "source": [
    "a = theano.shared(numpy.asarray([[1.0,2.0],[3.0,4.0]]), 'a')\n",
    "a.eval()"
   ]
  },
  {
   "cell_type": "code",
   "execution_count": 23,
   "metadata": {
    "ExecuteTime": {
     "end_time": "2016-07-12T07:14:40.692106",
     "start_time": "2016-07-12T07:14:40.393898"
    },
    "collapsed": false
   },
   "outputs": [
    {
     "data": {
      "text/plain": [
       "array([[ 3.,  4.],\n",
       "       [ 3.,  4.],\n",
       "       [ 1.,  2.]])"
      ]
     },
     "execution_count": 23,
     "metadata": {},
     "output_type": "execute_result"
    }
   ],
   "source": [
    "b = [1,1,0]\n",
    "c = a[b]\n",
    "c.eval()"
   ]
  },
  {
   "cell_type": "markdown",
   "metadata": {},
   "source": [
    "For assignment, we can’t do this:"
   ]
  },
  {
   "cell_type": "code",
   "execution_count": 24,
   "metadata": {
    "ExecuteTime": {
     "end_time": "2016-07-12T07:14:41.074591",
     "start_time": "2016-07-12T07:14:40.694113"
    },
    "collapsed": false
   },
   "outputs": [
    {
     "ename": "TypeError",
     "evalue": "'TensorSharedVariable' object does not support item assignment",
     "output_type": "error",
     "traceback": [
      "\u001b[1;31m\u001b[0m",
      "\u001b[1;31mTypeError\u001b[0mTraceback (most recent call last)",
      "\u001b[1;32m<ipython-input-24-80df0f77453f>\u001b[0m in \u001b[0;36m<module>\u001b[1;34m()\u001b[0m\n\u001b[1;32m----> 1\u001b[1;33m \u001b[0ma\u001b[0m\u001b[1;33m[\u001b[0m\u001b[1;36m0\u001b[0m\u001b[1;33m]\u001b[0m \u001b[1;33m=\u001b[0m \u001b[1;33m[\u001b[0m\u001b[1;36m0.0\u001b[0m\u001b[1;33m,\u001b[0m \u001b[1;36m0.0\u001b[0m\u001b[1;33m]\u001b[0m\u001b[1;33m\u001b[0m\u001b[0m\n\u001b[0m",
      "\u001b[1;31mTypeError\u001b[0m: 'TensorSharedVariable' object does not support item assignment"
     ]
    }
   ],
   "source": [
    "a[0] = [0.0, 0.0]"
   ]
  },
  {
   "cell_type": "markdown",
   "metadata": {
    "ExecuteTime": {
     "end_time": "2016-07-09T20:03:13.664871",
     "start_time": "2016-07-09T20:03:13.660772"
    }
   },
   "source": [
    "But instead, we can use set_subtensor(), which takes as arguments the selection of the original matrix that we want to reassign, and the value we want to assign it to. It returns a new tensor that has the corresponding values modified."
   ]
  },
  {
   "cell_type": "code",
   "execution_count": 25,
   "metadata": {
    "ExecuteTime": {
     "end_time": "2016-07-12T07:15:44.211659",
     "start_time": "2016-07-12T07:15:44.175943"
    },
    "collapsed": false
   },
   "outputs": [
    {
     "data": {
      "text/plain": [
       "array([[ 0.,  0.],\n",
       "       [ 3.,  4.]])"
      ]
     },
     "execution_count": 25,
     "metadata": {},
     "output_type": "execute_result"
    }
   ],
   "source": [
    "c = theano.tensor.set_subtensor(a[0],[0.0, 0.0])\n",
    "c.eval()"
   ]
  },
  {
   "cell_type": "markdown",
   "metadata": {},
   "source": [
    "### Simple binary classification problem"
   ]
  },
  {
   "cell_type": "markdown",
   "metadata": {
    "ExecuteTime": {
     "end_time": "2016-07-08T13:48:10.590201",
     "start_time": "2016-07-08T13:48:10.585256"
    }
   },
   "source": [
    "We have two classes (red and blue) and want to train a Neural Network classifier that separates the two. In the first iteration we will train a simple sigmoidal classifier."
   ]
  },
  {
   "cell_type": "code",
   "execution_count": 26,
   "metadata": {
    "ExecuteTime": {
     "end_time": "2016-07-12T07:15:46.423821",
     "start_time": "2016-07-12T07:15:45.770553"
    },
    "collapsed": false
   },
   "outputs": [
    {
     "data": {
      "text/plain": [
       "<matplotlib.collections.PathCollection at 0x7fddadbd0b10>"
      ]
     },
     "execution_count": 26,
     "metadata": {},
     "output_type": "execute_result"
    },
    {
     "data": {
      "image/png": "[encoded data removed]",
      "text/plain": [
       "<matplotlib.figure.Figure at 0x7fddadb99590>"
      ]
     },
     "metadata": {},
     "output_type": "display_data"
    }
   ],
   "source": [
    "# Generate a dataset and plot it\n",
    "np.random.seed(0)\n",
    "train_X, train_y = sklearn.datasets.make_moons(200, noise=0.20)\n",
    "train_X = train_X.astype(np.float32)\n",
    "train_y = train_y.astype(np.int32)\n",
    "plt.scatter(train_X[:,0], train_X[:,1], s=40, c=train_y, cmap=plt.cm.Spectral)"
   ]
  },
  {
   "cell_type": "code",
   "execution_count": 27,
   "metadata": {
    "ExecuteTime": {
     "end_time": "2016-07-12T07:15:46.432694",
     "start_time": "2016-07-12T07:15:46.425015"
    },
    "collapsed": true
   },
   "outputs": [],
   "source": [
    "# Helper function to plot a decision boundary.\n",
    "# If you don't fully understand this function don't worry, it just generates the contour plot.\n",
    "def plot_decision_boundary(pred_func):\n",
    "    # Set min and max values and give it some padding\n",
    "    x_min, x_max = train_X[:, 0].min() - .5, train_X[:, 0].max() + .5\n",
    "    y_min, y_max = train_X[:, 1].min() - .5, train_X[:, 1].max() + .5\n",
    "    h = 0.01\n",
    "    # Generate a grid of points with distance h between them\n",
    "    xx, yy = np.meshgrid(np.arange(x_min, x_max, h), np.arange(y_min, y_max, h))\n",
    "    # Predict the function value for the whole gid\n",
    "    Z = pred_func(np.c_[xx.ravel(), yy.ravel()].astype(np.float32))\n",
    "    Z = Z.reshape(xx.shape)\n",
    "    # Plot the contour and training examples\n",
    "    plt.contourf(xx, yy, Z, cmap=plt.cm.Spectral)\n",
    "    plt.scatter(train_X[:, 0], train_X[:, 1], c=train_y, cmap=plt.cm.Spectral)"
   ]
  },
  {
   "cell_type": "code",
   "execution_count": 28,
   "metadata": {
    "ExecuteTime": {
     "end_time": "2016-07-12T07:15:46.626179",
     "start_time": "2016-07-12T07:15:46.468016"
    },
    "collapsed": false
   },
   "outputs": [],
   "source": [
    "# Size definitions\n",
    "num_examples = len(train_X) # training set size\n",
    "nn_input_dim = 2            # input layer dimensionality\n",
    "nn_output_dim = 2           # output layer dimensionality\n",
    "nn_hdim = 100               # hidden layer dimensionality\n",
    "\n",
    "# Gradient descent parameters (I picked these by hand)\n",
    "epsilon = 0.01     # learning rate for gradient descent\n",
    "reg_lambda = 0.01  # regularization strength "
   ]
  },
  {
   "cell_type": "markdown",
   "metadata": {
    "ExecuteTime": {
     "end_time": "2016-07-09T20:15:31.928450",
     "start_time": "2016-07-09T20:15:31.922801"
    }
   },
   "source": [
    "### Excercise 1: logistic regression\n",
    "\n",
    "Train a logistic classifier on the dataset above, i.e. define an expression\n",
    "that computes\n",
    "\n",
    "> p = sigmoid(W * x + b)\n",
    "\n",
    "where $W$ and $b$ are the parameters of the classifier and $x$ is the sample. If\n",
    "$p > 0.5$ the sample is classified as class 2, otherwise as class 1. As the loss you\n",
    "can use the binary crossentropy\n",
    "\n",
    "> L = −t log(p)−(1−t) log(1−p)"
   ]
  },
  {
   "cell_type": "markdown",
   "metadata": {},
   "source": [
    "#### Solution (scroll down)\n",
    "\n",
    "* \n",
    "* \n",
    "* \n",
    "* \n",
    "* \n",
    "*\n",
    "* \n",
    "* \n",
    "* \n",
    "* \n",
    "* \n",
    "* \n",
    "* \n",
    "* \n",
    "* \n",
    "* \n",
    "* \n",
    "* \n",
    "*\n",
    "* \n",
    "* \n",
    "* \n",
    "* \n",
    "* \n",
    "* \n",
    "* \n",
    "* \n",
    "* \n",
    "* \n",
    "* \n",
    "* \n",
    "*\n",
    "* \n",
    "* \n",
    "* \n",
    "* \n",
    "* \n",
    "* \n",
    "* \n",
    "* \n",
    "* \n",
    "* \n",
    "* \n",
    "* \n",
    "*\n",
    "* \n",
    "* \n",
    "* \n",
    "* \n",
    "* \n",
    "* \n",
    "* "
   ]
  },
  {
   "cell_type": "code",
   "execution_count": 52,
   "metadata": {
    "ExecuteTime": {
     "end_time": "2016-07-12T07:20:15.739883",
     "start_time": "2016-07-12T07:20:15.362516"
    },
    "collapsed": false
   },
   "outputs": [],
   "source": [
    "x      = theano.tensor.fmatrix('x')\n",
    "target = theano.tensor.ivector('target')\n",
    " \n",
    "# define parameters to be optimized\n",
    "W = theano.shared(np.random.randn(2).astype(np.float32), 'W')\n",
    "b = theano.shared(np.float32(0), 'b')\n",
    "\n",
    "# define probability\n",
    "p = theano.tensor.nnet.sigmoid(W.dot(x.T) + b)\n",
    "\n",
    "# define binary crossentropy\n",
    "cost = -target * T.log(p) - (1-target) * T.log(1 - p)\n",
    "cost = cost.mean()\n",
    "\n",
    "# compute gradients\n",
    "gradients = theano.tensor.grad(cost, [W, b])\n",
    "\n",
    "# compute updates\n",
    "W_updated = W - (np.float32(0.01) * gradients[0])\n",
    "b_updated = b - (np.float32(0.01) * gradients[1])\n",
    "updates   = [(W, W_updated), (b, b_updated)]\n",
    "\n",
    "# compile function\n",
    "f = theano.function([x, target], cost, updates=updates)\n",
    "\n",
    "# compute accuracy\n",
    "acc     = (p > 0.5) * target + (p < 0.5) * (1 - target)\n",
    "acc     = acc.mean()\n",
    "f_acc = theano.function([x, target], acc)"
   ]
  },
  {
   "cell_type": "code",
   "execution_count": 53,
   "metadata": {
    "ExecuteTime": {
     "end_time": "2016-07-12T07:20:27.060750",
     "start_time": "2016-07-12T07:20:16.112402"
    },
    "collapsed": false
   },
   "outputs": [
    {
     "name": "stdout",
     "output_type": "stream",
     "text": [
      "0.74\n",
      "0.84\n",
      "0.835\n",
      "0.835\n",
      "0.835\n",
      "0.835\n",
      "0.835\n",
      "0.84\n",
      "0.845\n",
      "0.845\n"
     ]
    }
   ],
   "source": [
    "# training\n",
    "for i in xrange(10000):\n",
    "    f(train_X, train_y)\n",
    "    if i%1000==0:\n",
    "        print f_acc(train_X, train_y)"
   ]
  },
  {
   "cell_type": "code",
   "execution_count": 54,
   "metadata": {
    "ExecuteTime": {
     "end_time": "2016-07-12T07:20:27.337031",
     "start_time": "2016-07-12T07:20:27.062666"
    },
    "collapsed": false
   },
   "outputs": [
    {
     "data": {
      "image/png": "[encoded data removed]",
      "text/plain": [
       "<matplotlib.figure.Figure at 0x7fddab14ec50>"
      ]
     },
     "metadata": {},
     "output_type": "display_data"
    }
   ],
   "source": [
    "predict = theano.function([x], p > 0.5)\n",
    "\n",
    "# Plot the decision boundary\n",
    "plot_decision_boundary(lambda x: predict(x))\n",
    "plt.title(\"Logistic Regression\")\n",
    "plt.show()"
   ]
  },
  {
   "cell_type": "markdown",
   "metadata": {},
   "source": [
    "### Debugging hints"
   ]
  },
  {
   "cell_type": "markdown",
   "metadata": {},
   "source": [
    "Now is a good time to get a sense of how Theano constructs a computational graph by visualising it."
   ]
  },
  {
   "cell_type": "code",
   "execution_count": 55,
   "metadata": {
    "ExecuteTime": {
     "end_time": "2016-07-12T07:20:27.586584",
     "start_time": "2016-07-12T07:20:27.339245"
    },
    "collapsed": false
   },
   "outputs": [
    {
     "data": {
      "image/svg+xml": [
       "<svg height=\"936pt\" viewBox=\"0.00 0.00 1170.00 936.00\" width=\"1170pt\" xmlns=\"http://www.w3.org/2000/svg\" xmlns:xlink=\"http://www.w3.org/1999/xlink\">\n",
       "<g class=\"graph\" id=\"graph0\" transform=\"scale(1 1) rotate(0) translate(4 932)\">\n",
       "<title>G</title>\n",
       "<polygon fill=\"white\" points=\"-4,4 -4,-932 1166,-932 1166,4 -4,4\" stroke=\"none\"/>\n",
       "<!-- 140590035399952 -->\n",
       "<g class=\"node\" id=\"node1\"><title>140590035399952</title>\n",
       "<ellipse cx=\"336\" cy=\"-234\" fill=\"brown\" rx=\"51.4931\" ry=\"18\" stroke=\"black\"/>\n",
       "<text font-family=\"Times,serif\" font-size=\"14.00\" text-anchor=\"middle\" x=\"336\" y=\"-230.3\">Shape_i{0}</text>\n",
       "</g>\n",
       "<!-- 140590123270224 -->\n",
       "<g class=\"node\" id=\"node23\"><title>140590123270224</title>\n",
       "<ellipse cx=\"412\" cy=\"-92\" fill=\"#ffaabb\" rx=\"208.923\" ry=\"18\" stroke=\"black\"/>\n",
       "<text font-family=\"Times,serif\" font-size=\"14.00\" text-anchor=\"middle\" x=\"412\" y=\"-88.3\">Elemwise{Composite{(i0 / Cast{float64}(i1))}}[(0, 0)]</text>\n",
       "</g>\n",
       "<!-- 140590035399952&#45;&gt;140590123270224 -->\n",
       "<g class=\"edge\" id=\"edge25\"><title>140590035399952-&gt;140590123270224</title>\n",
       "<path d=\"M335.195,-215.794C335.175,-200.858 336.813,-179.019 345,-162 353.411,-144.516 367.99,-128.689 381.404,-116.616\" fill=\"none\" stroke=\"black\"/>\n",
       "<polygon fill=\"black\" points=\"383.833,-119.143 389.113,-109.958 379.257,-113.846 383.833,-119.143\" stroke=\"black\"/>\n",
       "<text font-family=\"Times,serif\" font-size=\"14.00\" text-anchor=\"middle\" x=\"421\" y=\"-176.3\">1 TensorType(int64, scalar)</text>\n",
       "</g>\n",
       "<!-- 140590079723472 -->\n",
       "<g class=\"node\" id=\"node2\"><title>140590079723472</title>\n",
       "<polygon fill=\"green\" points=\"349,-394 295,-394 295,-358 349,-358 349,-394\" stroke=\"black\"/>\n",
       "<text font-family=\"Times,serif\" font-size=\"14.00\" text-anchor=\"middle\" x=\"322\" y=\"-372.3\">target</text>\n",
       "</g>\n",
       "<!-- 140590079723472&#45;&gt;140590035399952 -->\n",
       "<g class=\"edge\" id=\"edge1\"><title>140590079723472-&gt;140590035399952</title>\n",
       "<path d=\"M323.717,-357.833C326.099,-334.007 330.434,-290.658 333.265,-262.349\" fill=\"none\" stroke=\"black\"/>\n",
       "<polygon fill=\"black\" points=\"336.757,-262.606 334.269,-252.307 329.792,-261.909 336.757,-262.606\" stroke=\"black\"/>\n",
       "</g>\n",
       "<!-- 140590079392976 -->\n",
       "<g class=\"node\" id=\"node19\"><title>140590079392976</title>\n",
       "<ellipse cx=\"610\" cy=\"-288\" fill=\"#ffaabb\" rx=\"209.397\" ry=\"18\" stroke=\"black\"/>\n",
       "<text font-family=\"Times,serif\" font-size=\"14.00\" text-anchor=\"middle\" x=\"610\" y=\"-284.3\">Elemwise{Composite{((i0 * i1) - (i2 * (i3 - i0) * i4))}}</text>\n",
       "</g>\n",
       "<!-- 140590079723472&#45;&gt;140590079392976 -->\n",
       "<g class=\"edge\" id=\"edge18\"><title>140590079723472-&gt;140590079392976</title>\n",
       "<path d=\"M349.315,-357.965C368.446,-346.75 394.969,-332.602 420,-324 442.343,-316.322 466.775,-310.219 490.455,-305.406\" fill=\"none\" stroke=\"black\"/>\n",
       "<polygon fill=\"black\" points=\"491.412,-308.785 500.549,-303.422 490.061,-301.917 491.412,-308.785\" stroke=\"black\"/>\n",
       "<text font-family=\"Times,serif\" font-size=\"14.00\" text-anchor=\"middle\" x=\"423.5\" y=\"-328.3\">0</text>\n",
       "</g>\n",
       "<!-- 140590122611600 -->\n",
       "<g class=\"node\" id=\"node3\"><title>140590122611600</title>\n",
       "<ellipse cx=\"61\" cy=\"-728\" fill=\"red\" rx=\"61.6163\" ry=\"18\" stroke=\"black\"/>\n",
       "<text font-family=\"Times,serif\" font-size=\"14.00\" text-anchor=\"middle\" x=\"61\" y=\"-724.3\">GpuFromHost</text>\n",
       "</g>\n",
       "<!-- 140590122369360 -->\n",
       "<g class=\"node\" id=\"node8\"><title>140590122369360</title>\n",
       "<ellipse cx=\"145\" cy=\"-640\" fill=\"none\" rx=\"81.3646\" ry=\"18\" stroke=\"black\"/>\n",
       "<text font-family=\"Times,serif\" font-size=\"14.00\" text-anchor=\"middle\" x=\"145\" y=\"-636.3\">GpuDimShuffle{x}</text>\n",
       "</g>\n",
       "<!-- 140590122611600&#45;&gt;140590122369360 -->\n",
       "<g class=\"edge\" id=\"edge5\"><title>140590122611600-&gt;140590122369360</title>\n",
       "<path d=\"M56.9285,-709.984C55.38,-699.336 55.3419,-685.823 62,-676 67.0363,-668.57 73.9866,-662.712 81.7396,-658.095\" fill=\"none\" stroke=\"blue\"/>\n",
       "<polygon fill=\"blue\" points=\"83.5207,-661.114 90.7748,-653.392 80.2885,-654.904 83.5207,-661.114\" stroke=\"blue\"/>\n",
       "<text font-family=\"Times,serif\" font-size=\"14.00\" text-anchor=\"middle\" x=\"155.5\" y=\"-680.3\">CudaNdarrayType(float32, scalar)</text>\n",
       "</g>\n",
       "<!-- 140590079723024 -->\n",
       "<g class=\"node\" id=\"node4\"><title>140590079723024</title>\n",
       "<polygon fill=\"cyan\" points=\"88,-854 34,-854 34,-818 88,-818 88,-854\" stroke=\"black\"/>\n",
       "<text font-family=\"Times,serif\" font-size=\"14.00\" text-anchor=\"middle\" x=\"61\" y=\"-832.3\">b</text>\n",
       "</g>\n",
       "<!-- 140590079723024&#45;&gt;140590122611600 -->\n",
       "<g class=\"edge\" id=\"edge2\"><title>140590079723024-&gt;140590122611600</title>\n",
       "<path d=\"M61,-817.969C61,-801.378 61,-775.883 61,-756.431\" fill=\"none\" stroke=\"black\"/>\n",
       "<polygon fill=\"black\" points=\"64.5001,-756.341 61,-746.341 57.5001,-756.341 64.5001,-756.341\" stroke=\"black\"/>\n",
       "</g>\n",
       "<!-- 140590122483600 -->\n",
       "<g class=\"node\" id=\"node5\"><title>140590122483600</title>\n",
       "<ellipse cx=\"309\" cy=\"-782\" fill=\"red\" rx=\"81.3646\" ry=\"18\" stroke=\"black\"/>\n",
       "<text font-family=\"Times,serif\" font-size=\"14.00\" text-anchor=\"middle\" x=\"309\" y=\"-778.3\">GpuFromHost id=2</text>\n",
       "</g>\n",
       "<!-- 140590079392144 -->\n",
       "<g class=\"node\" id=\"node10\"><title>140590079392144</title>\n",
       "<ellipse cx=\"636\" cy=\"-640\" fill=\"none\" rx=\"81.3398\" ry=\"18\" stroke=\"black\"/>\n",
       "<text font-family=\"Times,serif\" font-size=\"14.00\" text-anchor=\"middle\" x=\"636\" y=\"-636.3\">GpuGemv{inplace}</text>\n",
       "</g>\n",
       "<!-- 140590122483600&#45;&gt;140590079392144 -->\n",
       "<g class=\"edge\" id=\"edge9\"><title>140590122483600-&gt;140590079392144</title>\n",
       "<path d=\"M285.7,-764.436C280.17,-759.226 275.007,-752.984 272,-746 265.672,-731.304 261.794,-722.322 272,-710 306.226,-668.676 450.454,-651.908 546.76,-645.241\" fill=\"none\" stroke=\"black\"/>\n",
       "<polygon fill=\"black\" points=\"547.053,-648.729 556.798,-644.571 546.587,-641.745 547.053,-648.729\" stroke=\"black\"/>\n",
       "<text font-family=\"Times,serif\" font-size=\"14.00\" text-anchor=\"middle\" x=\"373\" y=\"-724.3\">2 CudaNdarrayType(float32, matrix)</text>\n",
       "</g>\n",
       "<!-- 140590079722448 -->\n",
       "<g class=\"node\" id=\"node6\"><title>140590079722448</title>\n",
       "<polygon fill=\"green\" points=\"403,-928 349,-928 349,-892 403,-892 403,-928\" stroke=\"black\"/>\n",
       "<text font-family=\"Times,serif\" font-size=\"14.00\" text-anchor=\"middle\" x=\"376\" y=\"-906.3\">x</text>\n",
       "</g>\n",
       "<!-- 140590079722448&#45;&gt;140590122483600 -->\n",
       "<g class=\"edge\" id=\"edge3\"><title>140590079722448-&gt;140590122483600</title>\n",
       "<path d=\"M366.824,-891.744C355.447,-870.349 335.95,-833.682 322.775,-808.904\" fill=\"none\" stroke=\"black\"/>\n",
       "<polygon fill=\"black\" points=\"325.85,-807.233 318.065,-800.047 319.67,-810.52 325.85,-807.233\" stroke=\"black\"/>\n",
       "</g>\n",
       "<!-- 140590035673488 -->\n",
       "<g class=\"node\" id=\"node7\"><title>140590035673488</title>\n",
       "<ellipse cx=\"481\" cy=\"-836\" fill=\"brown\" rx=\"71.2405\" ry=\"18\" stroke=\"black\"/>\n",
       "<text font-family=\"Times,serif\" font-size=\"14.00\" text-anchor=\"middle\" x=\"481\" y=\"-832.3\">Shape_i{0} id=3</text>\n",
       "</g>\n",
       "<!-- 140590079722448&#45;&gt;140590035673488 -->\n",
       "<g class=\"edge\" id=\"edge4\"><title>140590079722448-&gt;140590035673488</title>\n",
       "<path d=\"M400.884,-891.937C415.313,-882.042 433.634,-869.48 449.112,-858.866\" fill=\"none\" stroke=\"black\"/>\n",
       "<polygon fill=\"black\" points=\"451.109,-861.741 457.377,-853.199 447.15,-855.968 451.109,-861.741\" stroke=\"black\"/>\n",
       "</g>\n",
       "<!-- 140590079762064 -->\n",
       "<g class=\"node\" id=\"node9\"><title>140590079762064</title>\n",
       "<ellipse cx=\"553\" cy=\"-728\" fill=\"#ffaa22\" rx=\"69.3156\" ry=\"18\" stroke=\"black\"/>\n",
       "<text font-family=\"Times,serif\" font-size=\"14.00\" text-anchor=\"middle\" x=\"553\" y=\"-724.3\">GpuAllocEmpty</text>\n",
       "</g>\n",
       "<!-- 140590035673488&#45;&gt;140590079762064 -->\n",
       "<g class=\"edge\" id=\"edge6\"><title>140590035673488-&gt;140590079762064</title>\n",
       "<path d=\"M492.568,-817.969C504.22,-800.816 522.336,-774.144 535.697,-754.474\" fill=\"none\" stroke=\"black\"/>\n",
       "<polygon fill=\"black\" points=\"538.737,-756.227 541.461,-745.988 532.947,-752.294 538.737,-756.227\" stroke=\"black\"/>\n",
       "<text font-family=\"Times,serif\" font-size=\"14.00\" text-anchor=\"middle\" x=\"599\" y=\"-778.3\">TensorType(int64, scalar)</text>\n",
       "</g>\n",
       "<!-- 140590123273744 -->\n",
       "<g class=\"node\" id=\"node14\"><title>140590123273744</title>\n",
       "<ellipse cx=\"493\" cy=\"-552\" fill=\"#ffaabb\" rx=\"110.235\" ry=\"18\" stroke=\"black\"/>\n",
       "<text font-family=\"Times,serif\" font-size=\"14.00\" text-anchor=\"middle\" x=\"493\" y=\"-548.3\">GpuElemwise{Add}[(0, 0)]</text>\n",
       "</g>\n",
       "<!-- 140590122369360&#45;&gt;140590123273744 -->\n",
       "<g class=\"edge\" id=\"edge13\"><title>140590122369360-&gt;140590123273744</title>\n",
       "<path d=\"M194.966,-625.793C234.952,-615.305 292.496,-600.395 343,-588 368.678,-581.698 396.897,-575.043 421.864,-569.248\" fill=\"none\" stroke=\"black\"/>\n",
       "<polygon fill=\"black\" points=\"422.668,-572.654 431.621,-566.988 421.089,-565.835 422.668,-572.654\" stroke=\"black\"/>\n",
       "<text font-family=\"Times,serif\" font-size=\"14.00\" text-anchor=\"middle\" x=\"445.5\" y=\"-592.3\">1 CudaNdarrayType(float32, (True,))</text>\n",
       "</g>\n",
       "<!-- 140590079762064&#45;&gt;140590079392144 -->\n",
       "<g class=\"edge\" id=\"edge7\"><title>140590079762064-&gt;140590079392144</title>\n",
       "<path d=\"M534.639,-710.209C525.617,-699.901 518.194,-686.675 526,-676 533.607,-665.597 544.334,-658.211 556.133,-652.985\" fill=\"none\" stroke=\"red\"/>\n",
       "<polygon fill=\"red\" points=\"557.729,-656.119 565.786,-649.239 555.197,-649.593 557.729,-656.119\" stroke=\"red\"/>\n",
       "<text font-family=\"Times,serif\" font-size=\"14.00\" text-anchor=\"middle\" x=\"626\" y=\"-680.3\">0 CudaNdarrayType(float32, vector)</text>\n",
       "</g>\n",
       "<!-- 140590079392144&#45;&gt;140590123273744 -->\n",
       "<g class=\"edge\" id=\"edge12\"><title>140590079392144-&gt;140590123273744</title>\n",
       "<path d=\"M609.103,-622.824C586.621,-609.304 554.344,-589.892 529.526,-574.967\" fill=\"none\" stroke=\"red\"/>\n",
       "<polygon fill=\"red\" points=\"531.125,-571.844 520.752,-569.69 527.518,-577.843 531.125,-571.844\" stroke=\"red\"/>\n",
       "<text font-family=\"Times,serif\" font-size=\"14.00\" text-anchor=\"middle\" x=\"678\" y=\"-592.3\">0 CudaNdarrayType(float32, vector)</text>\n",
       "</g>\n",
       "<!-- 140590122325136 -->\n",
       "<g class=\"node\" id=\"node11\"><title>140590122325136</title>\n",
       "<polygon fill=\"green\" points=\"854.5,-746 641.5,-746 641.5,-710 854.5,-710 854.5,-746\" stroke=\"black\"/>\n",
       "<text font-family=\"Times,serif\" font-size=\"14.00\" text-anchor=\"middle\" x=\"748\" y=\"-724.3\">val=1.0 TensorType(float32, scalar)</text>\n",
       "</g>\n",
       "<!-- 140590122325136&#45;&gt;140590079392144 -->\n",
       "<g class=\"edge\" id=\"edge8\"><title>140590122325136-&gt;140590079392144</title>\n",
       "<path d=\"M744.253,-709.888C741.059,-698.928 735.44,-685.103 726,-676 718.146,-668.427 708.469,-662.442 698.404,-657.728\" fill=\"none\" stroke=\"black\"/>\n",
       "<polygon fill=\"black\" points=\"699.663,-654.46 689.092,-653.746 696.911,-660.896 699.663,-654.46\" stroke=\"black\"/>\n",
       "<text font-family=\"Times,serif\" font-size=\"14.00\" text-anchor=\"middle\" x=\"741.5\" y=\"-680.3\">1</text>\n",
       "</g>\n",
       "<!-- 140590079722576 -->\n",
       "<g class=\"node\" id=\"node12\"><title>140590079722576</title>\n",
       "<polygon fill=\"cyan\" points=\"927,-746 873,-746 873,-710 927,-710 927,-746\" stroke=\"black\"/>\n",
       "<text font-family=\"Times,serif\" font-size=\"14.00\" text-anchor=\"middle\" x=\"900\" y=\"-724.3\">W</text>\n",
       "</g>\n",
       "<!-- 140590079722576&#45;&gt;140590079392144 -->\n",
       "<g class=\"edge\" id=\"edge10\"><title>140590079722576-&gt;140590079392144</title>\n",
       "<path d=\"M872.697,-713.954C869.456,-712.555 866.172,-711.205 863,-710 807.573,-688.954 742.712,-669.761 696.548,-656.991\" fill=\"none\" stroke=\"black\"/>\n",
       "<polygon fill=\"black\" points=\"697.269,-653.56 686.699,-654.286 695.415,-660.31 697.269,-653.56\" stroke=\"black\"/>\n",
       "<text font-family=\"Times,serif\" font-size=\"14.00\" text-anchor=\"middle\" x=\"811.5\" y=\"-680.3\">3</text>\n",
       "</g>\n",
       "<!-- 140590122326928 -->\n",
       "<g class=\"node\" id=\"node13\"><title>140590122326928</title>\n",
       "<polygon fill=\"green\" points=\"1158.5,-746 945.5,-746 945.5,-710 1158.5,-710 1158.5,-746\" stroke=\"black\"/>\n",
       "<text font-family=\"Times,serif\" font-size=\"14.00\" text-anchor=\"middle\" x=\"1052\" y=\"-724.3\">val=0.0 TensorType(float32, scalar)</text>\n",
       "</g>\n",
       "<!-- 140590122326928&#45;&gt;140590079392144 -->\n",
       "<g class=\"edge\" id=\"edge11\"><title>140590122326928-&gt;140590079392144</title>\n",
       "<path d=\"M976.555,-709.955C930.995,-699.795 871.735,-686.812 819,-676 781.94,-668.401 740.547,-660.441 706.515,-654.035\" fill=\"none\" stroke=\"black\"/>\n",
       "<polygon fill=\"black\" points=\"707.137,-650.59 696.663,-652.185 705.846,-657.47 707.137,-650.59\" stroke=\"black\"/>\n",
       "<text font-family=\"Times,serif\" font-size=\"14.00\" text-anchor=\"middle\" x=\"893.5\" y=\"-680.3\">4</text>\n",
       "</g>\n",
       "<!-- 140590122479888 -->\n",
       "<g class=\"node\" id=\"node15\"><title>140590122479888</title>\n",
       "<ellipse cx=\"273\" cy=\"-464\" fill=\"#ffaabb\" rx=\"232.044\" ry=\"18\" stroke=\"black\"/>\n",
       "<text font-family=\"Times,serif\" font-size=\"14.00\" text-anchor=\"middle\" x=\"273\" y=\"-460.3\">GpuElemwise{Composite{scalar_softplus((-i0))},no_inplace}</text>\n",
       "</g>\n",
       "<!-- 140590123273744&#45;&gt;140590122479888 -->\n",
       "<g class=\"edge\" id=\"edge14\"><title>140590123273744-&gt;140590122479888</title>\n",
       "<path d=\"M434.989,-536.684C414.769,-531.05 392.116,-524.003 372,-516 351.348,-507.784 329.279,-496.662 311.232,-486.902\" fill=\"none\" stroke=\"black\"/>\n",
       "<polygon fill=\"black\" points=\"312.641,-483.682 302.189,-481.944 309.275,-489.82 312.641,-483.682\" stroke=\"black\"/>\n",
       "<text font-family=\"Times,serif\" font-size=\"14.00\" text-anchor=\"middle\" x=\"467\" y=\"-504.3\">CudaNdarrayType(float32, vector)</text>\n",
       "</g>\n",
       "<!-- 140590123272720 -->\n",
       "<g class=\"node\" id=\"node16\"><title>140590123272720</title>\n",
       "<ellipse cx=\"669\" cy=\"-464\" fill=\"#ffaabb\" rx=\"146.356\" ry=\"18\" stroke=\"black\"/>\n",
       "<text font-family=\"Times,serif\" font-size=\"14.00\" text-anchor=\"middle\" x=\"669\" y=\"-460.3\">GpuElemwise{ScalarSoftplus}[(0, 0)]</text>\n",
       "</g>\n",
       "<!-- 140590123273744&#45;&gt;140590123272720 -->\n",
       "<g class=\"edge\" id=\"edge15\"><title>140590123273744-&gt;140590123272720</title>\n",
       "<path d=\"M526.104,-534.824C554.35,-521.022 595.158,-501.082 625.939,-486.041\" fill=\"none\" stroke=\"red\"/>\n",
       "<polygon fill=\"red\" points=\"627.697,-489.078 635.145,-481.543 624.624,-482.788 627.697,-489.078\" stroke=\"red\"/>\n",
       "<text font-family=\"Times,serif\" font-size=\"14.00\" text-anchor=\"middle\" x=\"692\" y=\"-504.3\">CudaNdarrayType(float32, vector)</text>\n",
       "</g>\n",
       "<!-- 140590122112208 -->\n",
       "<g class=\"node\" id=\"node17\"><title>140590122112208</title>\n",
       "<ellipse cx=\"429\" cy=\"-376\" fill=\"red\" rx=\"61.6163\" ry=\"18\" stroke=\"black\"/>\n",
       "<text font-family=\"Times,serif\" font-size=\"14.00\" text-anchor=\"middle\" x=\"429\" y=\"-372.3\">HostFromGpu</text>\n",
       "</g>\n",
       "<!-- 140590122479888&#45;&gt;140590122112208 -->\n",
       "<g class=\"edge\" id=\"edge16\"><title>140590122479888-&gt;140590122112208</title>\n",
       "<path d=\"M303.821,-446.009C329.238,-431.997 365.362,-412.082 392.277,-397.245\" fill=\"none\" stroke=\"black\"/>\n",
       "<polygon fill=\"black\" points=\"394.312,-400.119 401.38,-392.227 390.933,-393.989 394.312,-400.119\" stroke=\"black\"/>\n",
       "<text font-family=\"Times,serif\" font-size=\"14.00\" text-anchor=\"middle\" x=\"460\" y=\"-416.3\">CudaNdarrayType(float32, vector)</text>\n",
       "</g>\n",
       "<!-- 140590079657808 -->\n",
       "<g class=\"node\" id=\"node18\"><title>140590079657808</title>\n",
       "<ellipse cx=\"605\" cy=\"-376\" fill=\"red\" rx=\"85.2138\" ry=\"18\" stroke=\"black\"/>\n",
       "<text font-family=\"Times,serif\" font-size=\"14.00\" text-anchor=\"middle\" x=\"605\" y=\"-372.3\">HostFromGpu id=11</text>\n",
       "</g>\n",
       "<!-- 140590123272720&#45;&gt;140590079657808 -->\n",
       "<g class=\"edge\" id=\"edge17\"><title>140590123272720-&gt;140590079657808</title>\n",
       "<path d=\"M656.356,-446.009C647.064,-433.524 634.285,-416.352 623.799,-402.261\" fill=\"none\" stroke=\"black\"/>\n",
       "<polygon fill=\"black\" points=\"626.396,-399.888 617.618,-393.956 620.78,-404.067 626.396,-399.888\" stroke=\"black\"/>\n",
       "<text font-family=\"Times,serif\" font-size=\"14.00\" text-anchor=\"middle\" x=\"738\" y=\"-416.3\">CudaNdarrayType(float32, vector)</text>\n",
       "</g>\n",
       "<!-- 140590122112208&#45;&gt;140590079392976 -->\n",
       "<g class=\"edge\" id=\"edge19\"><title>140590122112208-&gt;140590079392976</title>\n",
       "<path d=\"M427.836,-357.631C428.077,-346.562 430.359,-332.713 439,-324 446.691,-316.245 463.609,-310.083 483.947,-305.23\" fill=\"none\" stroke=\"black\"/>\n",
       "<polygon fill=\"black\" points=\"484.846,-308.616 493.845,-303.022 483.322,-301.784 484.846,-308.616\" stroke=\"black\"/>\n",
       "<text font-family=\"Times,serif\" font-size=\"14.00\" text-anchor=\"middle\" x=\"521.5\" y=\"-328.3\">1 TensorType(float32, vector)</text>\n",
       "</g>\n",
       "<!-- 140590079657808&#45;&gt;140590079392976 -->\n",
       "<g class=\"edge\" id=\"edge22\"><title>140590079657808-&gt;140590079392976</title>\n",
       "<path d=\"M606.012,-357.597C606.701,-345.746 607.627,-329.817 608.413,-316.292\" fill=\"none\" stroke=\"black\"/>\n",
       "<polygon fill=\"black\" points=\"611.92,-316.27 609.007,-306.084 604.932,-315.864 611.92,-316.27\" stroke=\"black\"/>\n",
       "<text font-family=\"Times,serif\" font-size=\"14.00\" text-anchor=\"middle\" x=\"690.5\" y=\"-328.3\">4 TensorType(float32, vector)</text>\n",
       "</g>\n",
       "<!-- 140590035619088 -->\n",
       "<g class=\"node\" id=\"node22\"><title>140590035619088</title>\n",
       "<ellipse cx=\"608\" cy=\"-180\" fill=\"none\" rx=\"102.061\" ry=\"18\" stroke=\"black\"/>\n",
       "<text font-family=\"Times,serif\" font-size=\"14.00\" text-anchor=\"middle\" x=\"608\" y=\"-176.3\">Sum{acc_dtype=float64}</text>\n",
       "</g>\n",
       "<!-- 140590079392976&#45;&gt;140590035619088 -->\n",
       "<g class=\"edge\" id=\"edge23\"><title>140590079392976-&gt;140590035619088</title>\n",
       "<path d=\"M609.679,-269.969C609.366,-253.378 608.885,-227.883 608.518,-208.431\" fill=\"none\" stroke=\"black\"/>\n",
       "<polygon fill=\"black\" points=\"612.015,-208.273 608.327,-198.341 605.017,-208.405 612.015,-208.273\" stroke=\"black\"/>\n",
       "<text font-family=\"Times,serif\" font-size=\"14.00\" text-anchor=\"middle\" x=\"687\" y=\"-230.3\">TensorType(float64, vector)</text>\n",
       "</g>\n",
       "<!-- 140590166699600 -->\n",
       "<g class=\"node\" id=\"node20\"><title>140590166699600</title>\n",
       "<polygon fill=\"green\" points=\"935.25,-394 708.75,-394 708.75,-358 935.25,-358 935.25,-394\" stroke=\"black\"/>\n",
       "<text font-family=\"Times,serif\" font-size=\"14.00\" text-anchor=\"middle\" x=\"822\" y=\"-372.3\">val=[-1.] TensorType(float64, (True,))</text>\n",
       "</g>\n",
       "<!-- 140590166699600&#45;&gt;140590079392976 -->\n",
       "<g class=\"edge\" id=\"edge20\"><title>140590166699600-&gt;140590079392976</title>\n",
       "<path d=\"M811.107,-357.708C803.059,-346.378 791.083,-332.198 777,-324 764.085,-316.481 749.774,-310.566 735.12,-305.916\" fill=\"none\" stroke=\"black\"/>\n",
       "<polygon fill=\"black\" points=\"736.035,-302.536 725.452,-303.038 734.038,-309.245 736.035,-302.536\" stroke=\"black\"/>\n",
       "<text font-family=\"Times,serif\" font-size=\"14.00\" text-anchor=\"middle\" x=\"799.5\" y=\"-328.3\">2</text>\n",
       "</g>\n",
       "<!-- 140590122611472 -->\n",
       "<g class=\"node\" id=\"node21\"><title>140590122611472</title>\n",
       "<polygon fill=\"green\" points=\"1162.25,-394 953.75,-394 953.75,-358 1162.25,-358 1162.25,-394\" stroke=\"black\"/>\n",
       "<text font-family=\"Times,serif\" font-size=\"14.00\" text-anchor=\"middle\" x=\"1058\" y=\"-372.3\">val=[1] TensorType(int32, (True,))</text>\n",
       "</g>\n",
       "<!-- 140590122611472&#45;&gt;140590079392976 -->\n",
       "<g class=\"edge\" id=\"edge21\"><title>140590122611472-&gt;140590079392976</title>\n",
       "<path d=\"M976.711,-357.955C927.626,-347.795 863.787,-334.812 807,-324 775.131,-317.932 740.296,-311.634 708.9,-306.08\" fill=\"none\" stroke=\"black\"/>\n",
       "<polygon fill=\"black\" points=\"709.292,-302.595 698.836,-304.304 708.075,-309.489 709.292,-302.595\" stroke=\"black\"/>\n",
       "<text font-family=\"Times,serif\" font-size=\"14.00\" text-anchor=\"middle\" x=\"887.5\" y=\"-328.3\">3</text>\n",
       "</g>\n",
       "<!-- 140590035619088&#45;&gt;140590123270224 -->\n",
       "<g class=\"edge\" id=\"edge24\"><title>140590035619088-&gt;140590123270224</title>\n",
       "<path d=\"M571.593,-163.026C540.021,-149.173 494.106,-129.026 459.621,-113.895\" fill=\"none\" stroke=\"red\"/>\n",
       "<polygon fill=\"red\" points=\"460.783,-110.583 450.22,-109.77 457.971,-116.993 460.783,-110.583\" stroke=\"red\"/>\n",
       "<text font-family=\"Times,serif\" font-size=\"14.00\" text-anchor=\"middle\" x=\"609.5\" y=\"-132.3\">0 TensorType(float64, scalar)</text>\n",
       "</g>\n",
       "<!-- 140590123270352 -->\n",
       "<g class=\"node\" id=\"node24\"><title>140590123270352</title>\n",
       "<polygon fill=\"blue\" points=\"439,-36 385,-36 385,-0 439,-0 439,-36\" stroke=\"black\"/>\n",
       "<text font-family=\"Times,serif\" font-size=\"14.00\" text-anchor=\"middle\" x=\"412\" y=\"-14.3\">mean</text>\n",
       "</g>\n",
       "<!-- 140590123270224&#45;&gt;140590123270352 -->\n",
       "<g class=\"edge\" id=\"edge26\"><title>140590123270224-&gt;140590123270352</title>\n",
       "<path d=\"M412,-73.937C412,-65.8072 412,-55.8761 412,-46.7047\" fill=\"none\" stroke=\"black\"/>\n",
       "<polygon fill=\"black\" points=\"415.5,-46.4406 412,-36.4407 408.5,-46.4407 415.5,-46.4406\" stroke=\"black\"/>\n",
       "</g>\n",
       "</g>\n",
       "</svg>"
      ],
      "text/plain": [
       "<IPython.core.display.SVG object>"
      ]
     },
     "execution_count": 55,
     "metadata": {},
     "output_type": "execute_result"
    }
   ],
   "source": [
    "forward_prop = theano.function([x, target], cost)\n",
    "\n",
    "SVG(theano.printing.pydotprint(forward_prop, var_with_name_simple=True, compact=True, return_image=True, format='svg'))"
   ]
  },
  {
   "cell_type": "markdown",
   "metadata": {},
   "source": [
    "This is the *optimized* computational graph that Theano has constructed for our `forward_prop` function. We can also get a textual description:"
   ]
  },
  {
   "cell_type": "code",
   "execution_count": 56,
   "metadata": {
    "ExecuteTime": {
     "end_time": "2016-07-12T07:20:27.596240",
     "start_time": "2016-07-12T07:20:27.589266"
    },
    "collapsed": false
   },
   "outputs": [
    {
     "name": "stdout",
     "output_type": "stream",
     "text": [
      "Elemwise{Composite{(i0 / Cast{float64}(i1))}}[(0, 0)] [id A] 'mean'   14\n",
      " |Sum{acc_dtype=float64} [id B] ''   13\n",
      " | |Elemwise{Composite{((i0 * i1) - (i2 * (i3 - i0) * i4))}} [id C] ''   12\n",
      " |   |target [id D]\n",
      " |   |HostFromGpu [id E] ''   10\n",
      " |   | |GpuElemwise{Composite{scalar_softplus((-i0))},no_inplace} [id F] ''   8\n",
      " |   |   |GpuElemwise{Add}[(0, 0)] [id G] ''   7\n",
      " |   |     |GpuGemv{inplace} [id H] ''   6\n",
      " |   |     | |GpuAllocEmpty [id I] ''   5\n",
      " |   |     | | |Shape_i{0} [id J] ''   3\n",
      " |   |     | |   |x [id K]\n",
      " |   |     | |TensorConstant{1.0} [id L]\n",
      " |   |     | |GpuFromHost [id M] ''   2\n",
      " |   |     | | |x [id K]\n",
      " |   |     | |W [id N]\n",
      " |   |     | |TensorConstant{0.0} [id O]\n",
      " |   |     |GpuDimShuffle{x} [id P] ''   4\n",
      " |   |       |GpuFromHost [id Q] ''   1\n",
      " |   |         |b [id R]\n",
      " |   |TensorConstant{(1,) of -1.0} [id S]\n",
      " |   |TensorConstant{(1,) of 1} [id T]\n",
      " |   |HostFromGpu [id U] ''   11\n",
      " |     |GpuElemwise{ScalarSoftplus}[(0, 0)] [id V] ''   9\n",
      " |       |GpuElemwise{Add}[(0, 0)] [id G] ''   7\n",
      " |Shape_i{0} [id W] ''   0\n",
      "   |target [id D]\n"
     ]
    }
   ],
   "source": [
    "theano.printing.debugprint(forward_prop)"
   ]
  },
  {
   "cell_type": "markdown",
   "metadata": {},
   "source": [
    "### Checking expressions on the fly\n",
    "\n",
    "Theano allows us to define test values for each variable for which \n",
    "every expression is tested. Errors can thereby be identified immediately,\n",
    "instead of coming up only after compilation."
   ]
  },
  {
   "cell_type": "code",
   "execution_count": 57,
   "metadata": {
    "ExecuteTime": {
     "end_time": "2016-07-12T07:20:27.750726",
     "start_time": "2016-07-12T07:20:27.598479"
    },
    "collapsed": false
   },
   "outputs": [
    {
     "ename": "ValueError",
     "evalue": "shapes (2,) and (200,2) not aligned: 2 (dim 0) != 200 (dim 0)",
     "output_type": "error",
     "traceback": [
      "\u001b[1;31m\u001b[0m",
      "\u001b[1;31mValueError\u001b[0mTraceback (most recent call last)",
      "\u001b[1;32m<ipython-input-57-9ccebcdc60f3>\u001b[0m in \u001b[0;36m<module>\u001b[1;34m()\u001b[0m\n\u001b[0;32m      8\u001b[0m \u001b[1;31m# assign a test value with wrong shape to x\u001b[0m\u001b[1;33m\u001b[0m\u001b[1;33m\u001b[0m\u001b[0m\n\u001b[0;32m      9\u001b[0m \u001b[0mx\u001b[0m\u001b[1;33m.\u001b[0m\u001b[0mtag\u001b[0m\u001b[1;33m.\u001b[0m\u001b[0mtest_value\u001b[0m \u001b[1;33m=\u001b[0m \u001b[0mtrain_X\u001b[0m\u001b[1;33m.\u001b[0m\u001b[0mT\u001b[0m\u001b[1;33m\u001b[0m\u001b[0m\n\u001b[1;32m---> 10\u001b[1;33m \u001b[0mp\u001b[0m \u001b[1;33m=\u001b[0m \u001b[0mtheano\u001b[0m\u001b[1;33m.\u001b[0m\u001b[0mtensor\u001b[0m\u001b[1;33m.\u001b[0m\u001b[0mnnet\u001b[0m\u001b[1;33m.\u001b[0m\u001b[0msigmoid\u001b[0m\u001b[1;33m(\u001b[0m\u001b[0mW\u001b[0m\u001b[1;33m.\u001b[0m\u001b[0mdot\u001b[0m\u001b[1;33m(\u001b[0m\u001b[0mx\u001b[0m\u001b[1;33m.\u001b[0m\u001b[0mT\u001b[0m\u001b[1;33m)\u001b[0m \u001b[1;33m+\u001b[0m \u001b[0mb\u001b[0m\u001b[1;33m)\u001b[0m\u001b[1;33m\u001b[0m\u001b[0m\n\u001b[0m",
      "\u001b[1;32m/usr/local/lib/python2.7/dist-packages/theano/tensor/var.pyc\u001b[0m in \u001b[0;36m__dot__\u001b[1;34m(left, right)\u001b[0m\n\u001b[0;32m    587\u001b[0m     \u001b[1;31m# extra pseudo-operator symbols\u001b[0m\u001b[1;33m\u001b[0m\u001b[1;33m\u001b[0m\u001b[0m\n\u001b[0;32m    588\u001b[0m     \u001b[1;32mdef\u001b[0m \u001b[0m__dot__\u001b[0m\u001b[1;33m(\u001b[0m\u001b[0mleft\u001b[0m\u001b[1;33m,\u001b[0m \u001b[0mright\u001b[0m\u001b[1;33m)\u001b[0m\u001b[1;33m:\u001b[0m\u001b[1;33m\u001b[0m\u001b[0m\n\u001b[1;32m--> 589\u001b[1;33m         \u001b[1;32mreturn\u001b[0m \u001b[0mtheano\u001b[0m\u001b[1;33m.\u001b[0m\u001b[0mtensor\u001b[0m\u001b[1;33m.\u001b[0m\u001b[0mbasic\u001b[0m\u001b[1;33m.\u001b[0m\u001b[0mdot\u001b[0m\u001b[1;33m(\u001b[0m\u001b[0mleft\u001b[0m\u001b[1;33m,\u001b[0m \u001b[0mright\u001b[0m\u001b[1;33m)\u001b[0m\u001b[1;33m\u001b[0m\u001b[0m\n\u001b[0m\u001b[0;32m    590\u001b[0m \u001b[1;33m\u001b[0m\u001b[0m\n\u001b[0;32m    591\u001b[0m     \u001b[1;32mdef\u001b[0m \u001b[0m__rdot__\u001b[0m\u001b[1;33m(\u001b[0m\u001b[0mright\u001b[0m\u001b[1;33m,\u001b[0m \u001b[0mleft\u001b[0m\u001b[1;33m)\u001b[0m\u001b[1;33m:\u001b[0m\u001b[1;33m\u001b[0m\u001b[0m\n",
      "\u001b[1;32m/usr/local/lib/python2.7/dist-packages/theano/tensor/basic.pyc\u001b[0m in \u001b[0;36mdot\u001b[1;34m(a, b)\u001b[0m\n\u001b[0;32m   5643\u001b[0m         \u001b[1;32mreturn\u001b[0m \u001b[0mtensordot\u001b[0m\u001b[1;33m(\u001b[0m\u001b[0ma\u001b[0m\u001b[1;33m,\u001b[0m \u001b[0mb\u001b[0m\u001b[1;33m,\u001b[0m \u001b[1;33m[\u001b[0m\u001b[1;33m[\u001b[0m\u001b[0ma\u001b[0m\u001b[1;33m.\u001b[0m\u001b[0mndim\u001b[0m \u001b[1;33m-\u001b[0m \u001b[1;36m1\u001b[0m\u001b[1;33m]\u001b[0m\u001b[1;33m,\u001b[0m \u001b[1;33m[\u001b[0m\u001b[0mnumpy\u001b[0m\u001b[1;33m.\u001b[0m\u001b[0mmaximum\u001b[0m\u001b[1;33m(\u001b[0m\u001b[1;36m0\u001b[0m\u001b[1;33m,\u001b[0m \u001b[0mb\u001b[0m\u001b[1;33m.\u001b[0m\u001b[0mndim\u001b[0m \u001b[1;33m-\u001b[0m \u001b[1;36m2\u001b[0m\u001b[1;33m)\u001b[0m\u001b[1;33m]\u001b[0m\u001b[1;33m]\u001b[0m\u001b[1;33m)\u001b[0m\u001b[1;33m\u001b[0m\u001b[0m\n\u001b[0;32m   5644\u001b[0m     \u001b[1;32melse\u001b[0m\u001b[1;33m:\u001b[0m\u001b[1;33m\u001b[0m\u001b[0m\n\u001b[1;32m-> 5645\u001b[1;33m         \u001b[1;32mreturn\u001b[0m \u001b[0m_dot\u001b[0m\u001b[1;33m(\u001b[0m\u001b[0ma\u001b[0m\u001b[1;33m,\u001b[0m \u001b[0mb\u001b[0m\u001b[1;33m)\u001b[0m\u001b[1;33m\u001b[0m\u001b[0m\n\u001b[0m\u001b[0;32m   5646\u001b[0m \u001b[1;33m\u001b[0m\u001b[0m\n\u001b[0;32m   5647\u001b[0m \u001b[1;33m\u001b[0m\u001b[0m\n",
      "\u001b[1;32m/usr/local/lib/python2.7/dist-packages/theano/gof/op.pyc\u001b[0m in \u001b[0;36m__call__\u001b[1;34m(self, *inputs, **kwargs)\u001b[0m\n\u001b[0;32m    659\u001b[0m                 \u001b[0mthunk\u001b[0m\u001b[1;33m.\u001b[0m\u001b[0moutputs\u001b[0m \u001b[1;33m=\u001b[0m \u001b[1;33m[\u001b[0m\u001b[0mstorage_map\u001b[0m\u001b[1;33m[\u001b[0m\u001b[0mv\u001b[0m\u001b[1;33m]\u001b[0m \u001b[1;32mfor\u001b[0m \u001b[0mv\u001b[0m \u001b[1;32min\u001b[0m \u001b[0mnode\u001b[0m\u001b[1;33m.\u001b[0m\u001b[0moutputs\u001b[0m\u001b[1;33m]\u001b[0m\u001b[1;33m\u001b[0m\u001b[0m\n\u001b[0;32m    660\u001b[0m \u001b[1;33m\u001b[0m\u001b[0m\n\u001b[1;32m--> 661\u001b[1;33m                 \u001b[0mrequired\u001b[0m \u001b[1;33m=\u001b[0m \u001b[0mthunk\u001b[0m\u001b[1;33m(\u001b[0m\u001b[1;33m)\u001b[0m\u001b[1;33m\u001b[0m\u001b[0m\n\u001b[0m\u001b[0;32m    662\u001b[0m                 \u001b[1;32massert\u001b[0m \u001b[1;32mnot\u001b[0m \u001b[0mrequired\u001b[0m  \u001b[1;31m# We provided all inputs\u001b[0m\u001b[1;33m\u001b[0m\u001b[0m\n\u001b[0;32m    663\u001b[0m \u001b[1;33m\u001b[0m\u001b[0m\n",
      "\u001b[1;32m/usr/local/lib/python2.7/dist-packages/theano/gof/op.pyc\u001b[0m in \u001b[0;36mrval\u001b[1;34m(p, i, o, n)\u001b[0m\n\u001b[0;32m    906\u001b[0m             \u001b[1;31m# default arguments are stored in the closure of `rval`\u001b[0m\u001b[1;33m\u001b[0m\u001b[1;33m\u001b[0m\u001b[0m\n\u001b[0;32m    907\u001b[0m             \u001b[1;32mdef\u001b[0m \u001b[0mrval\u001b[0m\u001b[1;33m(\u001b[0m\u001b[0mp\u001b[0m\u001b[1;33m=\u001b[0m\u001b[0mp\u001b[0m\u001b[1;33m,\u001b[0m \u001b[0mi\u001b[0m\u001b[1;33m=\u001b[0m\u001b[0mnode_input_storage\u001b[0m\u001b[1;33m,\u001b[0m \u001b[0mo\u001b[0m\u001b[1;33m=\u001b[0m\u001b[0mnode_output_storage\u001b[0m\u001b[1;33m,\u001b[0m \u001b[0mn\u001b[0m\u001b[1;33m=\u001b[0m\u001b[0mnode\u001b[0m\u001b[1;33m)\u001b[0m\u001b[1;33m:\u001b[0m\u001b[1;33m\u001b[0m\u001b[0m\n\u001b[1;32m--> 908\u001b[1;33m                 \u001b[0mr\u001b[0m \u001b[1;33m=\u001b[0m \u001b[0mp\u001b[0m\u001b[1;33m(\u001b[0m\u001b[0mn\u001b[0m\u001b[1;33m,\u001b[0m \u001b[1;33m[\u001b[0m\u001b[0mx\u001b[0m\u001b[1;33m[\u001b[0m\u001b[1;36m0\u001b[0m\u001b[1;33m]\u001b[0m \u001b[1;32mfor\u001b[0m \u001b[0mx\u001b[0m \u001b[1;32min\u001b[0m \u001b[0mi\u001b[0m\u001b[1;33m]\u001b[0m\u001b[1;33m,\u001b[0m \u001b[0mo\u001b[0m\u001b[1;33m)\u001b[0m\u001b[1;33m\u001b[0m\u001b[0m\n\u001b[0m\u001b[0;32m    909\u001b[0m                 \u001b[1;32mfor\u001b[0m \u001b[0mo\u001b[0m \u001b[1;32min\u001b[0m \u001b[0mnode\u001b[0m\u001b[1;33m.\u001b[0m\u001b[0moutputs\u001b[0m\u001b[1;33m:\u001b[0m\u001b[1;33m\u001b[0m\u001b[0m\n\u001b[0;32m    910\u001b[0m                     \u001b[0mcompute_map\u001b[0m\u001b[1;33m[\u001b[0m\u001b[0mo\u001b[0m\u001b[1;33m]\u001b[0m\u001b[1;33m[\u001b[0m\u001b[1;36m0\u001b[0m\u001b[1;33m]\u001b[0m \u001b[1;33m=\u001b[0m \u001b[0mTrue\u001b[0m\u001b[1;33m\u001b[0m\u001b[0m\n",
      "\u001b[1;32m/usr/local/lib/python2.7/dist-packages/theano/tensor/basic.pyc\u001b[0m in \u001b[0;36mperform\u001b[1;34m(self, node, inp, out)\u001b[0m\n\u001b[0;32m   5461\u001b[0m         \u001b[1;31m# gives a numpy float object but we need to return a 0d\u001b[0m\u001b[1;33m\u001b[0m\u001b[1;33m\u001b[0m\u001b[0m\n\u001b[0;32m   5462\u001b[0m         \u001b[1;31m# ndarray\u001b[0m\u001b[1;33m\u001b[0m\u001b[1;33m\u001b[0m\u001b[0m\n\u001b[1;32m-> 5463\u001b[1;33m         \u001b[0mz\u001b[0m\u001b[1;33m[\u001b[0m\u001b[1;36m0\u001b[0m\u001b[1;33m]\u001b[0m \u001b[1;33m=\u001b[0m \u001b[0mnumpy\u001b[0m\u001b[1;33m.\u001b[0m\u001b[0masarray\u001b[0m\u001b[1;33m(\u001b[0m\u001b[0mnumpy\u001b[0m\u001b[1;33m.\u001b[0m\u001b[0mdot\u001b[0m\u001b[1;33m(\u001b[0m\u001b[0mx\u001b[0m\u001b[1;33m,\u001b[0m \u001b[0my\u001b[0m\u001b[1;33m)\u001b[0m\u001b[1;33m)\u001b[0m\u001b[1;33m\u001b[0m\u001b[0m\n\u001b[0m\u001b[0;32m   5464\u001b[0m \u001b[1;33m\u001b[0m\u001b[0m\n\u001b[0;32m   5465\u001b[0m     \u001b[1;32mdef\u001b[0m \u001b[0mgrad\u001b[0m\u001b[1;33m(\u001b[0m\u001b[0mself\u001b[0m\u001b[1;33m,\u001b[0m \u001b[0minp\u001b[0m\u001b[1;33m,\u001b[0m \u001b[0mgrads\u001b[0m\u001b[1;33m)\u001b[0m\u001b[1;33m:\u001b[0m\u001b[1;33m\u001b[0m\u001b[0m\n",
      "\u001b[1;31mValueError\u001b[0m: shapes (2,) and (200,2) not aligned: 2 (dim 0) != 200 (dim 0)"
     ]
    }
   ],
   "source": [
    "# assign a test value to x (in this case the correct one)\n",
    "x.tag.test_value = train_X\n",
    "p = theano.tensor.nnet.sigmoid(W.dot(x.T) + b)\n",
    "\n",
    "# enable on-the-fly graph computations\n",
    "theano.config.compute_test_value = 'warn'\n",
    "\n",
    "# assign a test value with wrong shape to x\n",
    "x.tag.test_value = train_X.T\n",
    "p = theano.tensor.nnet.sigmoid(W.dot(x.T) + b)"
   ]
  },
  {
   "cell_type": "code",
   "execution_count": 63,
   "metadata": {
    "ExecuteTime": {
     "end_time": "2016-07-12T07:20:51.588283",
     "start_time": "2016-07-12T07:20:51.585086"
    },
    "collapsed": true
   },
   "outputs": [],
   "source": [
    "# turn warnings off again for the rest of this notebook\n",
    "theano.config.compute_test_value = 'off'"
   ]
  },
  {
   "cell_type": "markdown",
   "metadata": {},
   "source": [
    "### Print intermediate values\n",
    "\n",
    "Theano has the ability to print intermediate values to stdout during execution\n",
    "of a function."
   ]
  },
  {
   "cell_type": "code",
   "execution_count": 64,
   "metadata": {
    "ExecuteTime": {
     "end_time": "2016-07-12T07:20:53.430592",
     "start_time": "2016-07-12T07:20:53.183667"
    },
    "collapsed": false
   },
   "outputs": [
    {
     "data": {
      "text/plain": [
       "array(0.3723951578140259, dtype=float32)"
      ]
     },
     "execution_count": 64,
     "metadata": {},
     "output_type": "execute_result"
    }
   ],
   "source": [
    "x_mean         = T.mean(x)\n",
    "x_mean_printed = theano.printing.Print('This is the mean of x')(x_mean)\n",
    "\n",
    "# add print to symbolic graph (without it doing anyting)\n",
    "x_print        = x + 0 * x_mean_printed\n",
    "\n",
    "# evaluate\n",
    "T.mean(x_print).eval({x : train_X})"
   ]
  },
  {
   "cell_type": "markdown",
   "metadata": {
    "ExecuteTime": {
     "end_time": "2016-07-10T08:12:09.256210",
     "start_time": "2016-07-10T08:12:09.251974"
    }
   },
   "source": [
    "### Profile your function\n",
    "\n",
    "In order to profile the runtime of your function, use profile=True during\n",
    "compilation."
   ]
  },
  {
   "cell_type": "code",
   "execution_count": 65,
   "metadata": {
    "ExecuteTime": {
     "end_time": "2016-07-12T07:20:54.858280",
     "start_time": "2016-07-12T07:20:54.407340"
    },
    "collapsed": false
   },
   "outputs": [],
   "source": [
    "# compile the function\n",
    "f = theano.function([x, target], cost, updates=updates, profile=True)\n",
    "\n",
    "# run the function multiple times\n",
    "for _ in range(10):\n",
    "    f(train_X, train_y)"
   ]
  },
  {
   "cell_type": "code",
   "execution_count": 66,
   "metadata": {
    "ExecuteTime": {
     "end_time": "2016-07-12T07:20:55.415835",
     "start_time": "2016-07-12T07:20:55.406930"
    },
    "collapsed": false
   },
   "outputs": [
    {
     "name": "stderr",
     "output_type": "stream",
     "text": [
      "Function profiling\n",
      "==================\n",
      "  Message: <ipython-input-65-cc7719d603b5>:2\n",
      "  Time in 10 calls to Function.__call__: 1.227045e-02s\n",
      "  Time in Function.fn.__call__: 1.190996e-02s (97.062%)\n",
      "  Time in thunks: 7.454634e-03s (60.753%)\n",
      "  Total compile time: 4.295568e-01s\n",
      "    Number of Apply nodes: 28\n",
      "    Theano Optimizer time: 2.507410e-01s\n",
      "       Theano validate time: 6.445646e-03s\n",
      "    Theano Linker time (includes C, CUDA code generation/compiling): 4.157209e-02s\n",
      "       Import time 0.000000e+00s\n",
      "\n",
      "Time in all call to theano.grad() 4.544401e-02s\n",
      "Time since theano import 390.519s\n",
      "Class\n",
      "---\n",
      "<% time> <sum %> <apply time> <time per call> <type> <#call> <#apply> <Class name>\n",
      "  51.0%    51.0%       0.004s       9.51e-05s     C       40       4   theano.sandbox.cuda.basic_ops.GpuFromHost\n",
      "  18.6%    69.6%       0.001s       2.77e-05s     C       50       5   theano.sandbox.cuda.basic_ops.GpuElemwise\n",
      "   9.4%    79.0%       0.001s       2.33e-05s     C       30       3   theano.sandbox.cuda.basic_ops.HostFromGpu\n",
      "   9.2%    88.2%       0.001s       3.43e-05s     C       20       2   theano.sandbox.cuda.blas.GpuGemv\n",
      "   6.6%    94.8%       0.000s       4.93e-05s     C       10       1   theano.sandbox.cuda.basic_ops.GpuCAReduce\n",
      "   2.7%    97.5%       0.000s       2.01e-05s     C       10       1   theano.sandbox.cuda.basic_ops.GpuAllocEmpty\n",
      "   1.4%    98.9%       0.000s       1.73e-06s     C       60       6   theano.tensor.elemwise.Elemwise\n",
      "   0.5%    99.4%       0.000s       1.90e-06s     C       20       2   theano.compile.ops.Shape_i\n",
      "   0.3%    99.7%       0.000s       1.17e-06s     C       20       2   theano.sandbox.cuda.basic_ops.GpuDimShuffle\n",
      "   0.2%    99.9%       0.000s       1.12e-06s     C       10       1   theano.tensor.elemwise.Sum\n",
      "   0.1%   100.0%       0.000s       9.30e-07s     C       10       1   theano.tensor.elemwise.DimShuffle\n",
      "   ... (remaining 0 Classes account for   0.00%(0.00s) of the runtime)\n",
      "\n",
      "Ops\n",
      "---\n",
      "<% time> <sum %> <apply time> <time per call> <type> <#call> <#apply> <Op name>\n",
      "  51.0%    51.0%       0.004s       9.51e-05s     C       40        4   GpuFromHost\n",
      "   9.4%    60.4%       0.001s       2.33e-05s     C       30        3   HostFromGpu\n",
      "   9.2%    69.6%       0.001s       3.43e-05s     C       20        2   GpuGemv{inplace}\n",
      "   6.6%    76.2%       0.000s       4.93e-05s     C       10        1   GpuCAReduce{add}{1}\n",
      "   5.2%    81.4%       0.000s       3.84e-05s     C       10        1   GpuElemwise{Composite{scalar_softplus((-i0))},no_inplace}\n",
      "   3.5%    84.9%       0.000s       2.63e-05s     C       10        1   GpuElemwise{Add}[(0, 0)]\n",
      "   3.5%    88.4%       0.000s       2.63e-05s     C       10        1   GpuElemwise{Composite{((i0 * (i1 - scalar_sigmoid(i2))) - (i3 * scalar_sigmoid(i2)))}}[(0, 0)]\n",
      "   3.3%    91.7%       0.000s       2.48e-05s     C       10        1   GpuElemwise{ScalarSoftplus}[(0, 0)]\n",
      "   3.1%    94.8%       0.000s       2.29e-05s     C       10        1   GpuElemwise{Composite{(i0 - (i1 * i2))}}[(0, 0)]\n",
      "   2.7%    97.5%       0.000s       2.01e-05s     C       10        1   GpuAllocEmpty\n",
      "   0.7%    98.2%       0.000s       4.98e-06s     C       10        1   Elemwise{Composite{((i0 * i1) - (i2 * i3 * i4))}}\n",
      "   0.5%    98.7%       0.000s       1.90e-06s     C       20        2   Shape_i{0}\n",
      "   0.4%    99.1%       0.000s       1.39e-06s     C       20        2   Elemwise{Composite{Cast{float32}((Cast{float64}((-i0)) / i1))}}\n",
      "   0.2%    99.3%       0.000s       1.53e-06s     C       10        1   Elemwise{sub,no_inplace}\n",
      "   0.2%    99.4%       0.000s       1.24e-06s     C       10        1   GpuDimShuffle{1,0}\n",
      "   0.2%    99.6%       0.000s       1.12e-06s     C       10        1   Sum{acc_dtype=float64}\n",
      "   0.1%    99.7%       0.000s       1.10e-06s     C       10        1   GpuDimShuffle{x}\n",
      "   0.1%    99.9%       0.000s       9.30e-07s     C       10        1   InplaceDimShuffle{x}\n",
      "   0.1%   100.0%       0.000s       7.87e-07s     C       10        1   Elemwise{Cast{float64}}\n",
      "   0.0%   100.0%       0.000s       2.86e-07s     C       10        1   Elemwise{TrueDiv}[(0, 0)]\n",
      "   ... (remaining 0 Ops account for   0.00%(0.00s) of the runtime)\n",
      "\n",
      "Apply\n",
      "------\n",
      "<% time> <sum %> <apply time> <time per call> <#call> <id> <Apply name>\n",
      "  41.1%    41.1%       0.003s       3.06e-04s     10     1   GpuFromHost(x)\n",
      "   6.6%    47.7%       0.000s       4.93e-05s     10    20   GpuCAReduce{add}{1}(GpuElemwise{Composite{((i0 * (i1 - scalar_sigmoid(i2))) - (i3 * scalar_sigmoid(i2)))}}[(0, 0)].0)\n",
      "   5.2%    52.8%       0.000s       3.84e-05s     10    14   GpuElemwise{Composite{scalar_softplus((-i0))},no_inplace}(GpuElemwise{Add}[(0, 0)].0)\n",
      "   4.6%    57.4%       0.000s       3.43e-05s     10    21   GpuGemv{inplace}(W, TensorConstant{-0.00999999977648}, GpuDimShuffle{1,0}.0, GpuElemwise{Composite{((i0 * (i1 - scalar_sigmoid(i2))) - (i3 * scalar_sigmoid(i2)))}}[(0, 0)].0, TensorConstant{1.0})\n",
      "   4.6%    62.0%       0.000s       3.42e-05s     10     9   GpuGemv{inplace}(GpuAllocEmpty.0, TensorConstant{1.0}, GpuFromHost.0, W, TensorConstant{0.0})\n",
      "   3.7%    65.7%       0.000s       2.73e-05s     10    16   GpuFromHost(Elemwise{Composite{Cast{float32}((Cast{float64}((-i0)) / i1))}}.0)\n",
      "   3.6%    69.3%       0.000s       2.69e-05s     10     0   GpuFromHost(b)\n",
      "   3.5%    72.8%       0.000s       2.63e-05s     10    18   GpuElemwise{Composite{((i0 * (i1 - scalar_sigmoid(i2))) - (i3 * scalar_sigmoid(i2)))}}[(0, 0)](GpuFromHost.0, CudaNdarrayConstant{[ 1.]}, GpuElemwise{Add}[(0, 0)].0, GpuFromHost.0)\n",
      "   3.5%    76.4%       0.000s       2.63e-05s     10    11   GpuElemwise{Add}[(0, 0)](GpuGemv{inplace}.0, GpuDimShuffle{x}.0)\n",
      "   3.3%    79.7%       0.000s       2.48e-05s     10    19   GpuElemwise{ScalarSoftplus}[(0, 0)](GpuElemwise{Add}[(0, 0)].0)\n",
      "   3.2%    82.9%       0.000s       2.40e-05s     10    25   HostFromGpu(GpuElemwise{Composite{(i0 - (i1 * i2))}}[(0, 0)].0)\n",
      "   3.2%    86.1%       0.000s       2.39e-05s     10    17   HostFromGpu(GpuElemwise{Composite{scalar_softplus((-i0))},no_inplace}.0)\n",
      "   3.1%    89.2%       0.000s       2.29e-05s     10    23   GpuElemwise{Composite{(i0 - (i1 * i2))}}[(0, 0)](GpuFromHost.0, CudaNdarrayConstant{0.00999999977648}, GpuCAReduce{add}{1}.0)\n",
      "   3.0%    92.1%       0.000s       2.21e-05s     10    22   HostFromGpu(GpuElemwise{ScalarSoftplus}[(0, 0)].0)\n",
      "   2.7%    94.8%       0.000s       2.01e-05s     10     7   GpuAllocEmpty(Shape_i{0}.0)\n",
      "   2.7%    97.5%       0.000s       1.99e-05s     10    15   GpuFromHost(Elemwise{Composite{Cast{float32}((Cast{float64}((-i0)) / i1))}}.0)\n",
      "   0.7%    98.2%       0.000s       4.98e-06s     10    24   Elemwise{Composite{((i0 * i1) - (i2 * i3 * i4))}}(target, HostFromGpu.0, TensorConstant{(1,) of -1.0}, Elemwise{sub,no_inplace}.0, HostFromGpu.0)\n",
      "   0.4%    98.6%       0.000s       3.05e-06s     10     2   Shape_i{0}(x)\n",
      "   0.2%    98.8%       0.000s       1.72e-06s     10    13   Elemwise{Composite{Cast{float32}((Cast{float64}((-i0)) / i1))}}(target, InplaceDimShuffle{x}.0)\n",
      "   0.2%    99.0%       0.000s       1.53e-06s     10     4   Elemwise{sub,no_inplace}(TensorConstant{(1,) of 1}, target)\n",
      "   ... (remaining 8 Apply instances account for 0.98%(0.00s) of the runtime)\n",
      "\n",
      "Here are tips to potentially make your code run faster\n",
      "                 (if you think of new ones, suggest them on the mailing list).\n",
      "                 Test them first, as they are not guaranteed to always provide a speedup.\n",
      "  Sorry, no tip for today.\n"
     ]
    }
   ],
   "source": [
    "f.profile.summary()"
   ]
  },
  {
   "cell_type": "markdown",
   "metadata": {},
   "source": [
    "### Using Lasagne\n",
    "\n",
    "Lasagne helps with building neural networks capsulating the repetetive parts that occur when coding deeper architectures in Theano. E.g. the simple sigmoidal network above (for logistic regression) could be written in two lines:"
   ]
  },
  {
   "cell_type": "code",
   "execution_count": 67,
   "metadata": {
    "ExecuteTime": {
     "end_time": "2016-07-12T07:20:56.931579",
     "start_time": "2016-07-12T07:20:56.925602"
    },
    "collapsed": false
   },
   "outputs": [],
   "source": [
    "import lasagne\n",
    "import lasagne.layers as ll\n",
    "\n",
    "# define the input of the network, i.e. its shape (where None stands for a \n",
    "# variable number, in this case the number of samples per batch is not fixed)\n",
    "# and the theano variable that represents the input (optional)\n",
    "net = ll.InputLayer(shape=(None,2), input_var=x)\n",
    "\n",
    "# define a dense layer that takes the output x of the input layer and performs\n",
    "# a dense affine transformation W*x + b together with a sigmoid nonlinearity\n",
    "# num_units specifies the number of output units of that layer, which in turn\n",
    "# (together with the input dimension) specifies the shape of W and b\n",
    "net = ll.DenseLayer(net, num_units=1, nonlinearity=lasagne.nonlinearities.sigmoid)"
   ]
  },
  {
   "cell_type": "markdown",
   "metadata": {},
   "source": [
    "The layers provide a high-level way of building your network architecture in Theano. The layers themselves are **not** Theano variables or expressions. Instead, they are used to build Theano expressions. To get the prediction of the network (i.e. the output after the dense layer) we need to call the helper function ll.get_output:"
   ]
  },
  {
   "cell_type": "code",
   "execution_count": 68,
   "metadata": {
    "ExecuteTime": {
     "end_time": "2016-07-12T07:20:57.839847",
     "start_time": "2016-07-12T07:20:57.833695"
    },
    "collapsed": false
   },
   "outputs": [
    {
     "name": "stdout",
     "output_type": "stream",
     "text": [
      "<class 'lasagne.layers.dense.DenseLayer'>\n",
      "<class 'theano.tensor.var.TensorVariable'>\n"
     ]
    }
   ],
   "source": [
    "# prediction\n",
    "p = ll.get_output(net)\n",
    "\n",
    "# look at the types:\n",
    "print type(net)\n",
    "print type(p)"
   ]
  },
  {
   "cell_type": "markdown",
   "metadata": {},
   "source": [
    "Lasagne implements different cost terms (see the - very readable! - [documentation](http://lasagne.readthedocs.io/en/latest/modules/objectives.html)), among them a binary cross_entropy cost:"
   ]
  },
  {
   "cell_type": "code",
   "execution_count": 69,
   "metadata": {
    "ExecuteTime": {
     "end_time": "2016-07-12T07:20:59.329708",
     "start_time": "2016-07-12T07:20:59.319464"
    },
    "collapsed": false
   },
   "outputs": [],
   "source": [
    "cost = lasagne.objectives.binary_crossentropy(p.flatten(), target).mean()\n",
    "\n",
    "# there is also a very simple way to compute the accuracy of the prediction\n",
    "acc  = lasagne.objectives.binary_accuracy(p.flatten(), target).mean()"
   ]
  },
  {
   "cell_type": "markdown",
   "metadata": {},
   "source": [
    "In order to compute the gradients we need the list of the parameters of the network:"
   ]
  },
  {
   "cell_type": "code",
   "execution_count": 70,
   "metadata": {
    "ExecuteTime": {
     "end_time": "2016-07-12T07:21:00.575221",
     "start_time": "2016-07-12T07:21:00.570561"
    },
    "collapsed": false
   },
   "outputs": [
    {
     "name": "stdout",
     "output_type": "stream",
     "text": [
      "[W, b]\n"
     ]
    }
   ],
   "source": [
    "params = ll.get_all_params(net)\n",
    "print params"
   ]
  },
  {
   "cell_type": "markdown",
   "metadata": {},
   "source": [
    "Finally, Lasagne also provides some convenience functions to compute the update expressions of the parameters for different update rules (e.g. plain stochastic gradient descent (SGD), Nesterov Momentum, Adagrad, Adam, etc.):"
   ]
  },
  {
   "cell_type": "code",
   "execution_count": 71,
   "metadata": {
    "ExecuteTime": {
     "end_time": "2016-07-12T07:21:18.564646",
     "start_time": "2016-07-12T07:21:01.539234"
    },
    "collapsed": false
   },
   "outputs": [],
   "source": [
    "updates = lasagne.updates.momentum(cost, params, learning_rate=0.01)\n",
    "\n",
    "# compile training function in the standard way\n",
    "train_fn = theano.function([x, target], [cost, acc], updates=updates)"
   ]
  },
  {
   "cell_type": "code",
   "execution_count": 72,
   "metadata": {
    "ExecuteTime": {
     "end_time": "2016-07-12T07:21:32.283678",
     "start_time": "2016-07-12T07:21:18.566937"
    },
    "collapsed": false
   },
   "outputs": [
    {
     "name": "stdout",
     "output_type": "stream",
     "text": [
      "0.79\n",
      "0.845\n",
      "0.855\n",
      "0.85\n",
      "0.845\n",
      "0.845\n",
      "0.845\n",
      "0.845\n",
      "0.845\n",
      "0.845\n"
     ]
    }
   ],
   "source": [
    "# training\n",
    "for i in xrange(10000):\n",
    "    vCost, vAcc = train_fn(train_X, train_y)\n",
    "    if i%1000==0:\n",
    "        print vAcc"
   ]
  },
  {
   "cell_type": "code",
   "execution_count": 73,
   "metadata": {
    "ExecuteTime": {
     "end_time": "2016-07-12T07:21:33.411365",
     "start_time": "2016-07-12T07:21:32.285038"
    },
    "collapsed": false
   },
   "outputs": [
    {
     "data": {
      "image/png": "[encoded data removed]",
      "text/plain": [
       "<matplotlib.figure.Figure at 0x7fdda897b790>"
      ]
     },
     "metadata": {},
     "output_type": "display_data"
    }
   ],
   "source": [
    "predict = theano.function([x], p > 0.5)\n",
    "\n",
    "# Plot the decision boundary\n",
    "plot_decision_boundary(lambda x: predict(x))\n",
    "plt.title(\"Logistic Regression\")\n",
    "plt.show()"
   ]
  },
  {
   "cell_type": "markdown",
   "metadata": {},
   "source": [
    "### Excercise 2\n",
    "\n",
    "* Add additional layers to the network and observe the decision boundary\n",
    "* Split the dataset into train and test set\n",
    "* Evaluate training and test performance during training"
   ]
  },
  {
   "cell_type": "markdown",
   "metadata": {},
   "source": [
    "### Solution\n",
    "\n",
    "*\n",
    "\n",
    "*\n",
    "\n",
    "*\n",
    "\n",
    "*\n",
    "\n",
    "*\n",
    "\n",
    "*\n",
    "\n",
    "*\n",
    "\n",
    "*\n",
    "\n",
    "*\n",
    "\n",
    "*\n",
    "\n",
    "*\n",
    "\n",
    "*\n",
    "\n",
    "*\n",
    "\n",
    "*\n",
    "\n",
    "*\n",
    "\n",
    "*\n",
    "\n",
    "*\n",
    "\n",
    "*\n",
    "\n",
    "*\n",
    "\n",
    "*\n",
    "\n",
    "*\n",
    "\n",
    "*\n",
    "\n",
    "*\n",
    "\n",
    "*\n",
    "\n",
    "*\n",
    "\n",
    "*\n",
    "\n",
    "*\n",
    "\n",
    "*\n",
    "\n",
    "*\n",
    "\n",
    "*"
   ]
  },
  {
   "cell_type": "code",
   "execution_count": 74,
   "metadata": {
    "ExecuteTime": {
     "end_time": "2016-07-12T07:22:02.925632",
     "start_time": "2016-07-12T07:21:36.685299"
    },
    "collapsed": false
   },
   "outputs": [],
   "source": [
    "# split dataset\n",
    "X_train, X_test = train_X[:150], train_X[150:]\n",
    "y_train, y_test = train_y[:150], train_y[150:]\n",
    "\n",
    "# define more flexible network\n",
    "net = ll.InputLayer(shape=(None,2), input_var=x)\n",
    "# the default nonlinearity is ReLU\n",
    "net = ll.DenseLayer(net, num_units=10)\n",
    "net = ll.DenseLayer(net, num_units=1, nonlinearity=lasagne.nonlinearities.sigmoid)\n",
    "\n",
    "p = ll.get_output(net)\n",
    "\n",
    "cost = lasagne.objectives.binary_crossentropy(p.flatten(), target).mean()\n",
    "acc  = lasagne.objectives.binary_accuracy(p.flatten(), target).mean()\n",
    "\n",
    "params = ll.get_all_params(net)\n",
    "updates = lasagne.updates.momentum(cost, params, learning_rate=0.01)\n",
    "\n",
    "# compile training function in the standard way\n",
    "train_fn = theano.function([x, target], [cost, acc], updates=updates)\n",
    "\n",
    "# compile separate test function that does not update parameters\n",
    "test_fn = theano.function([x, target], [cost, acc])"
   ]
  },
  {
   "cell_type": "code",
   "execution_count": 75,
   "metadata": {
    "ExecuteTime": {
     "end_time": "2016-07-12T07:22:27.043177",
     "start_time": "2016-07-12T07:22:02.927902"
    },
    "collapsed": false
   },
   "outputs": [],
   "source": [
    "data = {}\n",
    "data['train_cost'] = []\n",
    "data['test_cost'] = []\n",
    "data['train_acc'] = []\n",
    "data['test_acc'] = []\n",
    "\n",
    "# training\n",
    "for i in xrange(10000):\n",
    "    vCost, vAcc = train_fn(X_train, y_train)\n",
    "    if i%10==0:\n",
    "        tCost, tAcc = test_fn(X_test, y_test)\n",
    "        data['train_cost'].append(vCost)\n",
    "        data['test_cost'].append(tCost)\n",
    "        data['train_acc'].append(vAcc)\n",
    "        data['test_acc'].append(tAcc)"
   ]
  },
  {
   "cell_type": "code",
   "execution_count": 76,
   "metadata": {
    "ExecuteTime": {
     "end_time": "2016-07-12T07:22:27.384022",
     "start_time": "2016-07-12T07:22:27.044465"
    },
    "collapsed": false
   },
   "outputs": [
    {
     "data": {
      "image/png": "[encoded data removed]",
      "text/plain": [
       "<matplotlib.figure.Figure at 0x7fdda86ad8d0>"
      ]
     },
     "metadata": {},
     "output_type": "display_data"
    }
   ],
   "source": [
    "fig = plt.figure(figsize=(16,7))\n",
    "\n",
    "plt.subplot(121)\n",
    "plt.plot(data['train_cost'], label='train')\n",
    "plt.plot(data['test_cost'], label='test')\n",
    "plt.legend()\n",
    "\n",
    "plt.subplot(122)\n",
    "plt.plot(data['train_acc'], label='train')\n",
    "plt.plot(data['test_acc'], label='test')\n",
    "plt.legend()\n",
    "\n",
    "plt.show()"
   ]
  },
  {
   "cell_type": "code",
   "execution_count": 77,
   "metadata": {
    "ExecuteTime": {
     "end_time": "2016-07-12T07:22:27.638657",
     "start_time": "2016-07-12T07:22:27.386013"
    },
    "collapsed": false
   },
   "outputs": [
    {
     "data": {
      "image/png": "[encoded data removed]",
      "text/plain": [
       "<matplotlib.figure.Figure at 0x7fdd758070d0>"
      ]
     },
     "metadata": {},
     "output_type": "display_data"
    }
   ],
   "source": [
    "predict = theano.function([x], p > 0.5)\n",
    "\n",
    "# Plot the decision boundary\n",
    "plot_decision_boundary(lambda x: predict(x))\n",
    "plt.title(\"Logistic Regression\")\n",
    "plt.show()"
   ]
  },
  {
   "cell_type": "markdown",
   "metadata": {
    "ExecuteTime": {
     "end_time": "2016-07-10T09:00:10.208854",
     "start_time": "2016-07-10T09:00:10.206034"
    }
   },
   "source": [
    "### Lasagne Hints\n",
    "\n",
    "Lasagne has a very, very readable [documentation](http://lasagne.readthedocs.io/) and - even better - very readable and well organized source code! You should absolutely take a look.\n",
    "\n",
    "**Initialization**\n",
    "\n",
    "To specify how parameters should be initialized, use lasagne.init in the parameter definition of the layers:\n",
    "\n",
    "> l = lasagne.layers.DenseLayer(l_in, num_units=100, W=lasagne.init.Normal(0.01))\n",
    "\n",
    "You can also give a numpy array, a Theano shared variable or even a Theano expression! The latter can be useful if you want layers with shared parameters, or low-rank parameters.\n",
    "\n",
    "**Network Parameters**\n",
    "\n",
    "To save a network and its parameters you have two options: either pickle and save the whole network, or use ll.get_all_params(net) to get a list of numpy arrays with all parameters in it. To apply the list of parameters to another network, use ll.set_all_params(net).\n",
    "\n",
    "**Deterministic Forward pass**\n",
    "\n",
    "Some layers, like Dropout, induce randomness in the computations in order to regularize the training of the network. During test-time, however, we commonly want the computations to be deterministic, in which case we have to specify the output of the network to be deterministic:\n",
    "\n",
    "> p = ll.get_output(net, deterministic=True)\n",
    "\n",
    "**Traversing through the layers**\n",
    "\n",
    "One way of \"hopping\" from one layer to its upstream layer is by calling net.input_layer.\n",
    "\n",
    "**Output shape**\n",
    "\n",
    "To see the shape of the output of a layer, call net.output_shape.\n",
    "\n",
    "**Getting multiple expressions**\n",
    "\n",
    "Sometimes one wants to get multiple output expressions. In this case, the most efficient way is to call ll.get_output on a list of layers:\n",
    "\n",
    "> p, i = ll.get_output([net, net.input_layer])"
   ]
  },
  {
   "cell_type": "code",
   "execution_count": null,
   "metadata": {
    "collapsed": true
   },
   "outputs": [],
   "source": []
  }
 ],
 "metadata": {
  "kernelspec": {
   "display_name": "Python 2",
   "language": "python",
   "name": "python2"
  },
  "language_info": {
   "codemirror_mode": {
    "name": "ipython",
    "version": 2
   },
   "file_extension": ".py",
   "mimetype": "text/x-python",
   "name": "python",
   "nbconvert_exporter": "python",
   "pygments_lexer": "ipython2",
   "version": "2.7.6"
  },
  "latex_envs": {
   "bibliofile": "biblio.bib",
   "cite_by": "apalike",
   "current_citInitial": 1,
   "eqLabelWithNumbers": true,
   "eqNumInitial": 0
  }
 },
 "nbformat": 4,
 "nbformat_minor": 0
}
