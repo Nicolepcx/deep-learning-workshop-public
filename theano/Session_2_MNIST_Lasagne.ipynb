{
 "cells": [
  {
   "cell_type": "markdown",
   "metadata": {
    "ExecuteTime": {
     "end_time": "2016-07-10T09:13:02.303485",
     "start_time": "2016-07-10T09:13:02.299095"
    }
   },
   "source": [
    "In this notebook we use Lasagne to train a classifier for handwritten digit\n",
    "recognition (MNIST)"
   ]
  },
  {
   "cell_type": "code",
   "execution_count": 11,
   "metadata": {
    "ExecuteTime": {
     "end_time": "2016-07-10T09:23:08.780661",
     "start_time": "2016-07-10T09:23:08.736120"
    },
    "collapsed": false
   },
   "outputs": [],
   "source": [
    "import os\n",
    "\n",
    "os.environ['THEANO_FLAGS'] = 'device=gpu1, floatX=float32'\n",
    "\n",
    "import matplotlib.pyplot as plt\n",
    "import numpy as np\n",
    "import sklearn\n",
    "import sklearn.datasets\n",
    "import matplotlib\n",
    "import theano\n",
    "import theano.tensor as T\n",
    "\n",
    "import pydot\n",
    "from IPython.display import Image\n",
    "from IPython.display import SVG\n",
    "import timeit\n",
    "\n",
    "import lasagne\n",
    "import lasagne.layers as ll\n",
    "\n",
    "# Display plots inline and change default figure size\n",
    "%matplotlib inline\n",
    "matplotlib.rcParams['figure.figsize'] = (10.0, 8.0)"
   ]
  },
  {
   "cell_type": "code",
   "execution_count": 3,
   "metadata": {
    "ExecuteTime": {
     "end_time": "2016-07-10T09:15:51.019793",
     "start_time": "2016-07-10T09:15:45.047510"
    },
    "collapsed": true
   },
   "outputs": [],
   "source": [
    "# load MNIST data\n",
    "from sklearn.datasets import fetch_mldata\n",
    "mnist = fetch_mldata('MNIST original')"
   ]
  },
  {
   "cell_type": "code",
   "execution_count": 36,
   "metadata": {
    "ExecuteTime": {
     "end_time": "2016-07-10T09:39:11.221446",
     "start_time": "2016-07-10T09:38:52.251645"
    },
    "collapsed": true
   },
   "outputs": [],
   "source": [
    "# extract & reshape data\n",
    "X_data, y_data = mnist['data'].reshape((-1,1,28,28)).astype(np.float32), mnist['target'].astype(np.int32)\n",
    "\n",
    "# shuffle data\n",
    "idx = np.arange(y_data.shape[0])\n",
    "np.random.shuffle(idx)\n",
    "\n",
    "X_data, y_data = X_data[idx], y_data[idx]\n",
    "\n",
    "# split the dataset\n",
    "X_train, X_test = X_data[:60000], X_data[60000:]\n",
    "y_train, y_test = y_data[:60000], y_data[60000:]"
   ]
  },
  {
   "cell_type": "markdown",
   "metadata": {},
   "source": [
    "**Excercise 1:** Draw a couple of sample from the training set and check that the\n",
    "labels are correct."
   ]
  },
  {
   "cell_type": "code",
   "execution_count": null,
   "metadata": {
    "collapsed": true
   },
   "outputs": [],
   "source": []
  },
  {
   "cell_type": "markdown",
   "metadata": {},
   "source": [
    "**Excercise 2**: Build a three-layer network (2 convolutions, 1 dense layer) in Lasagne.\n",
    "\n",
    "**Solution**\n",
    "\n",
    "*\n",
    "\n",
    "*\n",
    "\n",
    "*\n",
    "\n",
    "*\n",
    "\n",
    "*\n",
    "\n",
    "*\n",
    "\n",
    "*\n",
    "\n",
    "*\n",
    "\n",
    "*\n",
    "\n",
    "*\n",
    "\n",
    "*\n",
    "\n",
    "*\n",
    "\n",
    "*\n",
    "\n",
    "*\n",
    "\n",
    "*\n",
    "\n",
    "*\n",
    "\n",
    "*\n",
    "\n",
    "*\n",
    "\n",
    "*\n",
    "\n",
    "*\n",
    "\n",
    "*\n",
    "\n",
    "*\n",
    "\n",
    "*\n",
    "\n",
    "*\n",
    "\n",
    "*\n",
    "\n",
    "*\n",
    "\n",
    "*\n",
    "\n",
    "*\n",
    "\n",
    "*\n",
    "\n",
    "*\n",
    "\n",
    "*\n",
    "\n",
    "*\n",
    "\n",
    "*\n",
    "\n",
    "*\n",
    "\n",
    "*"
   ]
  },
  {
   "cell_type": "code",
   "execution_count": 85,
   "metadata": {
    "ExecuteTime": {
     "end_time": "2016-07-10T09:54:28.800523",
     "start_time": "2016-07-10T09:54:28.787914"
    },
    "collapsed": false
   },
   "outputs": [],
   "source": [
    "input_var = T.ftensor4('x')\n",
    "target_var = T.ivector('y')\n",
    "\n",
    "net = {}\n",
    "\n",
    "net['input'] = ll.InputLayer((None,1,28,28), input_var)\n",
    "net['conv1'] = ll.Conv2DLayer(net['input'], num_filters=16, filter_size=7)\n",
    "net['pool1'] = ll.MaxPool2DLayer(net['conv1'], pool_size=2)\n",
    "net['conv2'] = ll.Conv2DLayer(net['pool1'], num_filters=32, filter_size=7)\n",
    "net['pool2'] = ll.MaxPool2DLayer(net['conv2'], pool_size=2)\n",
    "net['predict'] = ll.DenseLayer(net['pool2'], num_units=10, nonlinearity=lasagne.nonlinearities.softmax)"
   ]
  },
  {
   "cell_type": "markdown",
   "metadata": {},
   "source": [
    "**Excercise 2a: ** Define the cost function and compile a training and test function.\n",
    "\n",
    "**Excercise 2b: ** Plot the histogram over the prediction and check that you are not in a saturating regime (i.e. only 0 or 1).\n",
    "\n",
    "**Excercise 2c: ** If you are in a saturating regime, decrease the variance of the weights by adapting the initializiation.\n",
    "\n",
    "**Solution**\n",
    "\n",
    "*\n",
    "\n",
    "*\n",
    "\n",
    "*\n",
    "\n",
    "*\n",
    "\n",
    "*\n",
    "\n",
    "*\n",
    "\n",
    "*\n",
    "\n",
    "*\n",
    "\n",
    "*\n",
    "\n",
    "*\n",
    "\n",
    "*\n",
    "\n",
    "*\n",
    "\n",
    "*\n",
    "\n",
    "*\n",
    "\n",
    "*\n",
    "\n",
    "*\n",
    "\n",
    "*\n",
    "\n",
    "*\n",
    "\n",
    "*\n",
    "\n",
    "*\n",
    "\n",
    "*\n",
    "\n",
    "*\n",
    "\n",
    "*\n",
    "\n",
    "*\n",
    "\n",
    "*\n",
    "\n",
    "*\n",
    "\n",
    "*\n",
    "\n",
    "*\n",
    "\n",
    "*\n",
    "\n",
    "*\n",
    "\n",
    "*\n",
    "\n",
    "*\n",
    "\n",
    "*\n",
    "\n",
    "*\n",
    "\n",
    "*"
   ]
  },
  {
   "cell_type": "code",
   "execution_count": 86,
   "metadata": {
    "ExecuteTime": {
     "end_time": "2016-07-10T09:54:31.460220",
     "start_time": "2016-07-10T09:54:29.838151"
    },
    "collapsed": false
   },
   "outputs": [],
   "source": [
    "p = ll.get_output(net['predict'])\n",
    "\n",
    "cost = lasagne.objectives.categorical_crossentropy(p, target_var).mean()\n",
    "acc  = lasagne.objectives.categorical_accuracy(p, target_var).mean()\n",
    "\n",
    "params = ll.get_all_params(net['predict'])\n",
    "updates = lasagne.updates.momentum(cost, params, learning_rate=0.01)\n",
    "\n",
    "# compile training function in the standard way\n",
    "train_fn = theano.function([input_var, target_var], [cost, acc], updates=updates)\n",
    "\n",
    "# compile separate test function that does not update parameters\n",
    "test_fn = theano.function([input_var, target_var], [cost, acc])"
   ]
  },
  {
   "cell_type": "code",
   "execution_count": 87,
   "metadata": {
    "ExecuteTime": {
     "end_time": "2016-07-10T09:54:32.033665",
     "start_time": "2016-07-10T09:54:31.462329"
    },
    "collapsed": false
   },
   "outputs": [
    {
     "data": {
      "image/png": "[encoded data removed]",
      "text/plain": [
       "<matplotlib.figure.Figure at 0x7f2db673b8d0>"
      ]
     },
     "metadata": {},
     "output_type": "display_data"
    }
   ],
   "source": [
    "# output predictions before adapting the initial weight distribution\n",
    "plt.hist(p.eval({input_var : X_test}).flatten())\n",
    "plt.show()"
   ]
  },
  {
   "cell_type": "code",
   "execution_count": 88,
   "metadata": {
    "ExecuteTime": {
     "end_time": "2016-07-10T09:54:34.331352",
     "start_time": "2016-07-10T09:54:34.319043"
    },
    "collapsed": false
   },
   "outputs": [],
   "source": [
    "# adapt initialization\n",
    "net = {}\n",
    "\n",
    "gain = 0.3\n",
    "\n",
    "net['input'] = ll.InputLayer((None,1,28,28), input_var)\n",
    "net['conv1'] = ll.Conv2DLayer(net['input'], num_filters=16, filter_size=7, \n",
    "                              W=lasagne.init.GlorotUniform(gain=gain))\n",
    "net['pool1'] = ll.MaxPool2DLayer(net['conv1'], pool_size=2)\n",
    "net['conv2'] = ll.Conv2DLayer(net['pool1'], num_filters=32, filter_size=7, \n",
    "                              W=lasagne.init.GlorotUniform(gain=gain))\n",
    "net['pool2'] = ll.MaxPool2DLayer(net['conv2'], pool_size=2)\n",
    "net['predict'] = ll.DenseLayer(net['pool2'], num_units=10, nonlinearity=lasagne.nonlinearities.softmax, \n",
    "                               W=lasagne.init.GlorotUniform(gain=gain))"
   ]
  },
  {
   "cell_type": "code",
   "execution_count": 89,
   "metadata": {
    "ExecuteTime": {
     "end_time": "2016-07-10T09:54:36.363975",
     "start_time": "2016-07-10T09:54:34.848887"
    },
    "collapsed": true
   },
   "outputs": [],
   "source": [
    "p = ll.get_output(net['predict'])\n",
    "\n",
    "cost = lasagne.objectives.categorical_crossentropy(p, target_var).mean()\n",
    "acc  = lasagne.objectives.categorical_accuracy(p, target_var).mean()\n",
    "\n",
    "params = ll.get_all_params(net['predict'])\n",
    "updates = lasagne.updates.momentum(cost, params, learning_rate=0.001)\n",
    "\n",
    "# compile training function in the standard way\n",
    "train_fn = theano.function([input_var, target_var], [cost, acc], updates=updates)\n",
    "\n",
    "# compile separate test function that does not update parameters\n",
    "test_fn = theano.function([input_var, target_var], [cost, acc])"
   ]
  },
  {
   "cell_type": "code",
   "execution_count": 90,
   "metadata": {
    "ExecuteTime": {
     "end_time": "2016-07-10T09:54:37.151733",
     "start_time": "2016-07-10T09:54:36.367114"
    },
    "collapsed": false
   },
   "outputs": [
    {
     "data": {
      "image/png": "[encoded data removed]",
      "text/plain": [
       "<matplotlib.figure.Figure at 0x7f2dbc44a690>"
      ]
     },
     "metadata": {},
     "output_type": "display_data"
    }
   ],
   "source": [
    "# output predictions before adapting the initial weight distribution\n",
    "plt.hist(p.eval({input_var : X_test}).flatten())\n",
    "plt.show()"
   ]
  },
  {
   "cell_type": "markdown",
   "metadata": {},
   "source": [
    "**Excercise 3:** Train the network on **mini-batches** of size 100.\n",
    "\n",
    "**Solution**\n",
    "\n",
    "*\n",
    "\n",
    "*\n",
    "\n",
    "*\n",
    "\n",
    "*\n",
    "\n",
    "*\n",
    "\n",
    "*\n",
    "\n",
    "*\n",
    "\n",
    "*\n",
    "\n",
    "*\n",
    "\n",
    "*\n",
    "\n",
    "*\n",
    "\n",
    "*\n",
    "\n",
    "*\n",
    "\n",
    "*\n",
    "\n",
    "*\n",
    "\n",
    "*\n",
    "\n",
    "*\n",
    "\n",
    "*\n",
    "\n",
    "*\n",
    "\n",
    "*\n",
    "\n",
    "*\n",
    "\n",
    "*\n",
    "\n",
    "*\n",
    "\n",
    "*\n",
    "\n",
    "*\n",
    "\n",
    "*\n",
    "\n",
    "*\n",
    "\n",
    "*\n",
    "\n",
    "*\n",
    "\n",
    "*\n",
    "\n",
    "*\n",
    "\n",
    "*\n",
    "\n",
    "*\n",
    "\n",
    "*\n",
    "\n",
    "*"
   ]
  },
  {
   "cell_type": "code",
   "execution_count": 94,
   "metadata": {
    "ExecuteTime": {
     "end_time": "2016-07-10T09:57:26.371661",
     "start_time": "2016-07-10T09:57:11.353749"
    },
    "collapsed": false
   },
   "outputs": [
    {
     "name": "stdout",
     "output_type": "stream",
     "text": [
      "Epoch  0\n",
      "Training performance:  0.000103646208147 1.0\n",
      "Validation performance:  0.0613833069801 0.9909\n",
      "Epoch  1\n",
      "Training performance:  8.48476765818e-05 1.0\n",
      "Validation performance:  0.0617880858481 0.9907\n",
      "Epoch  2\n",
      "Training performance:  7.49056907838e-05 1.0\n",
      "Validation performance:  0.062119923532 0.9906\n"
     ]
    },
    {
     "ename": "KeyboardInterrupt",
     "evalue": "",
     "output_type": "error",
     "traceback": [
      "\u001b[1;31m\u001b[0m",
      "\u001b[1;31mKeyboardInterrupt\u001b[0mTraceback (most recent call last)",
      "\u001b[1;32m<ipython-input-94-40a2412ac3c0>\u001b[0m in \u001b[0;36m<module>\u001b[1;34m()\u001b[0m\n\u001b[0;32m      3\u001b[0m     \u001b[1;31m# iterate over batch_index\u001b[0m\u001b[1;33m\u001b[0m\u001b[1;33m\u001b[0m\u001b[0m\n\u001b[0;32m      4\u001b[0m     \u001b[1;32mfor\u001b[0m \u001b[0mbidx\u001b[0m \u001b[1;32min\u001b[0m \u001b[0mrange\u001b[0m\u001b[1;33m(\u001b[0m\u001b[1;36m60000\u001b[0m\u001b[1;33m/\u001b[0m\u001b[1;36m100\u001b[0m\u001b[1;33m)\u001b[0m\u001b[1;33m:\u001b[0m\u001b[1;33m\u001b[0m\u001b[0m\n\u001b[1;32m----> 5\u001b[1;33m         \u001b[0mcost\u001b[0m\u001b[1;33m,\u001b[0m \u001b[0macc\u001b[0m \u001b[1;33m=\u001b[0m \u001b[0mtrain_fn\u001b[0m\u001b[1;33m(\u001b[0m\u001b[0mX_train\u001b[0m\u001b[1;33m[\u001b[0m\u001b[0mbidx\u001b[0m\u001b[1;33m*\u001b[0m\u001b[1;36m100\u001b[0m\u001b[1;33m:\u001b[0m\u001b[1;33m(\u001b[0m\u001b[0mbidx\u001b[0m\u001b[1;33m+\u001b[0m\u001b[1;36m1\u001b[0m\u001b[1;33m)\u001b[0m\u001b[1;33m*\u001b[0m\u001b[1;36m100\u001b[0m\u001b[1;33m]\u001b[0m\u001b[1;33m,\u001b[0m \u001b[0my_train\u001b[0m\u001b[1;33m[\u001b[0m\u001b[0mbidx\u001b[0m\u001b[1;33m*\u001b[0m\u001b[1;36m100\u001b[0m\u001b[1;33m:\u001b[0m\u001b[1;33m(\u001b[0m\u001b[0mbidx\u001b[0m\u001b[1;33m+\u001b[0m\u001b[1;36m1\u001b[0m\u001b[1;33m)\u001b[0m\u001b[1;33m*\u001b[0m\u001b[1;36m100\u001b[0m\u001b[1;33m]\u001b[0m\u001b[1;33m)\u001b[0m\u001b[1;33m\u001b[0m\u001b[0m\n\u001b[0m\u001b[0;32m      6\u001b[0m         \u001b[0mepoch_cost\u001b[0m \u001b[1;33m+=\u001b[0m \u001b[0mcost\u001b[0m\u001b[1;33m\u001b[0m\u001b[0m\n\u001b[0;32m      7\u001b[0m         \u001b[0mepoch_acc\u001b[0m  \u001b[1;33m+=\u001b[0m \u001b[0macc\u001b[0m\u001b[1;33m\u001b[0m\u001b[0m\n",
      "\u001b[1;32m/usr/local/lib/python2.7/dist-packages/theano/compile/function_module.pyc\u001b[0m in \u001b[0;36m__call__\u001b[1;34m(self, *args, **kwargs)\u001b[0m\n\u001b[0;32m    860\u001b[0m         \u001b[1;32mtry\u001b[0m\u001b[1;33m:\u001b[0m\u001b[1;33m\u001b[0m\u001b[0m\n\u001b[0;32m    861\u001b[0m             \u001b[0moutputs\u001b[0m \u001b[1;33m=\u001b[0m\u001b[0;31m\\\u001b[0m\u001b[1;33m\u001b[0m\u001b[0m\n\u001b[1;32m--> 862\u001b[1;33m                 \u001b[0mself\u001b[0m\u001b[1;33m.\u001b[0m\u001b[0mfn\u001b[0m\u001b[1;33m(\u001b[0m\u001b[1;33m)\u001b[0m \u001b[1;32mif\u001b[0m \u001b[0moutput_subset\u001b[0m \u001b[1;32mis\u001b[0m \u001b[0mNone\u001b[0m \u001b[1;32melse\u001b[0m\u001b[0;31m\\\u001b[0m\u001b[1;33m\u001b[0m\u001b[0m\n\u001b[0m\u001b[0;32m    863\u001b[0m                 \u001b[0mself\u001b[0m\u001b[1;33m.\u001b[0m\u001b[0mfn\u001b[0m\u001b[1;33m(\u001b[0m\u001b[0moutput_subset\u001b[0m\u001b[1;33m=\u001b[0m\u001b[0moutput_subset\u001b[0m\u001b[1;33m)\u001b[0m\u001b[1;33m\u001b[0m\u001b[0m\n\u001b[0;32m    864\u001b[0m         \u001b[1;32mexcept\u001b[0m \u001b[0mException\u001b[0m\u001b[1;33m:\u001b[0m\u001b[1;33m\u001b[0m\u001b[0m\n",
      "\u001b[1;31mKeyboardInterrupt\u001b[0m: "
     ]
    }
   ],
   "source": [
    "for epoch in range(25):\n",
    "    epoch_cost, epoch_acc, k = 0, 0, 0\n",
    "    # iterate over batch_index\n",
    "    for bidx in range(60000/100):\n",
    "        cost, acc = train_fn(X_train[bidx*100:(bidx+1)*100], y_train[bidx*100:(bidx+1)*100])\n",
    "        epoch_cost += cost\n",
    "        epoch_acc  += acc\n",
    "        k += 1\n",
    "        \n",
    "    epoch_cost /= k\n",
    "    epoch_acc  /= k\n",
    "    \n",
    "    print \"Epoch \", str(epoch)\n",
    "    print \"Training performance: \", epoch_cost, epoch_acc\n",
    "    \n",
    "    test_cost, test_acc = test_fn(X_test, y_test)\n",
    "    print \"Validation performance: \", test_cost, test_acc"
   ]
  },
  {
   "cell_type": "markdown",
   "metadata": {},
   "source": [
    "**Excercise 3**: Play around with learning rates, update rules (e.g. Adam), regularizations (e.g. dropout) \n",
    "and different architectures. What is the best test performance you can get?"
   ]
  },
  {
   "cell_type": "markdown",
   "metadata": {},
   "source": [
    "### Write your own Lasagne Layer\n",
    "\n",
    "A big advantage of Lasagne is that you can easily write your own Lasagne Layers.\n",
    "\n",
    "**Excercise 3**: Go through the [quick tutorial](http://lasagne.readthedocs.io/en/latest/user/custom_layers.html) in the Lasagne documentation on how to write your own Layers."
   ]
  },
  {
   "cell_type": "markdown",
   "metadata": {},
   "source": [
    "Take a look at the definition of the dense layer:"
   ]
  },
  {
   "cell_type": "code",
   "execution_count": 98,
   "metadata": {
    "ExecuteTime": {
     "end_time": "2016-07-10T10:02:12.333413",
     "start_time": "2016-07-10T10:02:12.297443"
    },
    "collapsed": false
   },
   "outputs": [],
   "source": [
    "from lasagne.layers.base import Layer\n",
    "from lasagne import init, nonlinearities\n",
    "\n",
    "class DenseLayer(Layer):\n",
    "    \"\"\"\n",
    "    lasagne.layers.DenseLayer(incoming, num_units,\n",
    "    W=lasagne.init.GlorotUniform(), b=lasagne.init.Constant(0.),\n",
    "    nonlinearity=lasagne.nonlinearities.rectify, **kwargs)\n",
    "    A fully connected layer.\n",
    "    Parameters\n",
    "    ----------\n",
    "    incoming : a :class:`Layer` instance or a tuple\n",
    "        The layer feeding into this layer, or the expected input shape\n",
    "    num_units : int\n",
    "        The number of units of the layer\n",
    "    W : Theano shared variable, expression, numpy array or callable\n",
    "        Initial value, expression or initializer for the weights.\n",
    "        These should be a matrix with shape ``(num_inputs, num_units)``.\n",
    "        See :func:`lasagne.utils.create_param` for more information.\n",
    "    b : Theano shared variable, expression, numpy array, callable or ``None``\n",
    "        Initial value, expression or initializer for the biases. If set to\n",
    "        ``None``, the layer will have no biases. Otherwise, biases should be\n",
    "        a 1D array with shape ``(num_units,)``.\n",
    "        See :func:`lasagne.utils.create_param` for more information.\n",
    "    nonlinearity : callable or None\n",
    "        The nonlinearity that is applied to the layer activations. If None\n",
    "        is provided, the layer will be linear.\n",
    "    Examples\n",
    "    --------\n",
    "    >>> from lasagne.layers import InputLayer, DenseLayer\n",
    "    >>> l_in = InputLayer((100, 20))\n",
    "    >>> l1 = DenseLayer(l_in, num_units=50)\n",
    "    Notes\n",
    "    -----\n",
    "    If the input to this layer has more than two axes, it will flatten the\n",
    "    trailing axes. This is useful for when a dense layer follows a\n",
    "    convolutional layer, for example. It is not necessary to insert a\n",
    "    :class:`FlattenLayer` in this case.\n",
    "    \"\"\"\n",
    "    def __init__(self, incoming, num_units, W=init.GlorotUniform(),\n",
    "                 b=init.Constant(0.), nonlinearity=nonlinearities.rectify,\n",
    "                 **kwargs):\n",
    "        super(DenseLayer, self).__init__(incoming, **kwargs)\n",
    "        self.nonlinearity = (nonlinearities.identity if nonlinearity is None\n",
    "                             else nonlinearity)\n",
    "\n",
    "        self.num_units = num_units\n",
    "\n",
    "        num_inputs = int(np.prod(self.input_shape[1:]))\n",
    "\n",
    "        self.W = self.add_param(W, (num_inputs, num_units), name=\"W\")\n",
    "        if b is None:\n",
    "            self.b = None\n",
    "        else:\n",
    "            self.b = self.add_param(b, (num_units,), name=\"b\",\n",
    "                                    regularizable=False)\n",
    "\n",
    "    def get_output_shape_for(self, input_shape):\n",
    "        return (input_shape[0], self.num_units)\n",
    "\n",
    "    def get_output_for(self, input, **kwargs):\n",
    "        if input.ndim > 2:\n",
    "            # if the input has more than two dimensions, flatten it into a\n",
    "            # batch of feature vectors.\n",
    "            input = input.flatten(2)\n",
    "\n",
    "        activation = T.dot(input, self.W)\n",
    "        if self.b is not None:\n",
    "            activation = activation + self.b.dimshuffle('x', 0)\n",
    "        return self.nonlinearity(activation)"
   ]
  },
  {
   "cell_type": "markdown",
   "metadata": {},
   "source": [
    "**Excercise 4a:** Implement a layer that keeps the length of each feature vector (i.e. the input weights to each unit)\n",
    "constant at 1.\n",
    "\n",
    "**Bonus Excercise:** Implement the length of each feature vector as its own parameter."
   ]
  },
  {
   "cell_type": "code",
   "execution_count": 99,
   "metadata": {
    "ExecuteTime": {
     "end_time": "2016-07-10T10:05:06.040187",
     "start_time": "2016-07-10T10:05:05.984911"
    },
    "collapsed": true
   },
   "outputs": [],
   "source": [
    "class NormedDenseLayer(Layer):\n",
    "    \"\"\"\n",
    "    lasagne.layers.DenseLayer(incoming, num_units,\n",
    "    W=lasagne.init.GlorotUniform(), b=lasagne.init.Constant(0.),\n",
    "    nonlinearity=lasagne.nonlinearities.rectify, **kwargs)\n",
    "    A fully connected layer.\n",
    "    Parameters\n",
    "    ----------\n",
    "    incoming : a :class:`Layer` instance or a tuple\n",
    "        The layer feeding into this layer, or the expected input shape\n",
    "    num_units : int\n",
    "        The number of units of the layer\n",
    "    W : Theano shared variable, expression, numpy array or callable\n",
    "        Initial value, expression or initializer for the weights.\n",
    "        These should be a matrix with shape ``(num_inputs, num_units)``.\n",
    "        See :func:`lasagne.utils.create_param` for more information.\n",
    "    b : Theano shared variable, expression, numpy array, callable or ``None``\n",
    "        Initial value, expression or initializer for the biases. If set to\n",
    "        ``None``, the layer will have no biases. Otherwise, biases should be\n",
    "        a 1D array with shape ``(num_units,)``.\n",
    "        See :func:`lasagne.utils.create_param` for more information.\n",
    "    nonlinearity : callable or None\n",
    "        The nonlinearity that is applied to the layer activations. If None\n",
    "        is provided, the layer will be linear.\n",
    "    Examples\n",
    "    --------\n",
    "    >>> from lasagne.layers import InputLayer, DenseLayer\n",
    "    >>> l_in = InputLayer((100, 20))\n",
    "    >>> l1 = DenseLayer(l_in, num_units=50)\n",
    "    Notes\n",
    "    -----\n",
    "    If the input to this layer has more than two axes, it will flatten the\n",
    "    trailing axes. This is useful for when a dense layer follows a\n",
    "    convolutional layer, for example. It is not necessary to insert a\n",
    "    :class:`FlattenLayer` in this case.\n",
    "    \"\"\"\n",
    "    def __init__(self, incoming, num_units, W=init.GlorotUniform(),\n",
    "                 b=init.Constant(0.), nonlinearity=nonlinearities.rectify,\n",
    "                 **kwargs):\n",
    "        super(NormedDenseLayer, self).__init__(incoming, **kwargs)\n",
    "        self.nonlinearity = (nonlinearities.identity if nonlinearity is None\n",
    "                             else nonlinearity)\n",
    "\n",
    "        self.num_units = num_units\n",
    "\n",
    "        num_inputs = int(np.prod(self.input_shape[1:]))\n",
    "\n",
    "        self.W = self.add_param(W, (num_inputs, num_units), name=\"W\")\n",
    "        if b is None:\n",
    "            self.b = None\n",
    "        else:\n",
    "            self.b = self.add_param(b, (num_units,), name=\"b\",\n",
    "                                    regularizable=False)\n",
    "\n",
    "    def get_output_shape_for(self, input_shape):\n",
    "        return (input_shape[0], self.num_units)\n",
    "\n",
    "    def get_output_for(self, input, **kwargs):\n",
    "        if input.ndim > 2:\n",
    "            # if the input has more than two dimensions, flatten it into a\n",
    "            # batch of feature vectors.\n",
    "            input = input.flatten(2)\n",
    "\n",
    "        W = self.W / T.sqrt((self.W**2).sum(1)).dimshuffle([0, 'x'])\n",
    "        activation = T.dot(input, W)\n",
    "        if self.b is not None:\n",
    "            activation = activation + self.b.dimshuffle('x', 0)\n",
    "        return self.nonlinearity(activation)"
   ]
  },
  {
   "cell_type": "code",
   "execution_count": 100,
   "metadata": {
    "ExecuteTime": {
     "end_time": "2016-07-10T10:05:48.908604",
     "start_time": "2016-07-10T10:05:48.897309"
    },
    "collapsed": true
   },
   "outputs": [],
   "source": [
    "# test\n",
    "# adapt initialization\n",
    "net = {}\n",
    "\n",
    "gain = 0.3\n",
    "\n",
    "net['input'] = ll.InputLayer((None,1,28,28), input_var)\n",
    "net['conv1'] = ll.Conv2DLayer(net['input'], num_filters=16, filter_size=7, \n",
    "                              W=lasagne.init.GlorotUniform(gain=gain))\n",
    "net['pool1'] = ll.MaxPool2DLayer(net['conv1'], pool_size=2)\n",
    "net['conv2'] = ll.Conv2DLayer(net['pool1'], num_filters=32, filter_size=7, \n",
    "                              W=lasagne.init.GlorotUniform(gain=gain))\n",
    "net['pool2'] = ll.MaxPool2DLayer(net['conv2'], pool_size=2)\n",
    "net['predict'] = NormedDenseLayer(net['pool2'], num_units=10, nonlinearity=lasagne.nonlinearities.softmax, \n",
    "                               W=lasagne.init.GlorotUniform(gain=gain))"
   ]
  },
  {
   "cell_type": "code",
   "execution_count": 101,
   "metadata": {
    "ExecuteTime": {
     "end_time": "2016-07-10T10:06:50.157900",
     "start_time": "2016-07-10T10:05:59.760658"
    },
    "collapsed": true
   },
   "outputs": [],
   "source": [
    "p = ll.get_output(net['predict'])\n",
    "\n",
    "cost = lasagne.objectives.categorical_crossentropy(p, target_var).mean()\n",
    "acc  = lasagne.objectives.categorical_accuracy(p, target_var).mean()\n",
    "\n",
    "params = ll.get_all_params(net['predict'])\n",
    "updates = lasagne.updates.momentum(cost, params, learning_rate=0.001)\n",
    "\n",
    "# compile training function in the standard way\n",
    "train_fn = theano.function([input_var, target_var], [cost, acc], updates=updates)\n",
    "\n",
    "# compile separate test function that does not update parameters\n",
    "test_fn = theano.function([input_var, target_var], [cost, acc])"
   ]
  },
  {
   "cell_type": "code",
   "execution_count": 102,
   "metadata": {
    "ExecuteTime": {
     "end_time": "2016-07-10T10:08:35.988041",
     "start_time": "2016-07-10T10:06:50.159966"
    },
    "collapsed": false
   },
   "outputs": [
    {
     "name": "stdout",
     "output_type": "stream",
     "text": [
      "Epoch  0\n",
      "Training performance:  0.614844428829 0.851983333333\n",
      "Validation performance:  0.240344464779 0.9281\n",
      "Epoch  1\n",
      "Training performance:  0.217815038146 0.937683333333\n",
      "Validation performance:  0.212990552187 0.9479\n",
      "Epoch  2\n",
      "Training performance:  0.179053503269 0.949466666667\n",
      "Validation performance:  0.187772169709 0.95\n",
      "Epoch  3\n",
      "Training performance:  0.160185345652 0.954616666667\n",
      "Validation performance:  0.14772477746 0.9602\n",
      "Epoch  4\n",
      "Training performance:  0.151376889832 0.956716666667\n",
      "Validation performance:  0.171485871077 0.9545\n",
      "Epoch  5\n",
      "Training performance:  0.142938228104 0.958966666667\n",
      "Validation performance:  0.176893934608 0.9572\n",
      "Epoch  6\n",
      "Training performance:  0.144608001243 0.960066666667\n",
      "Validation performance:  0.14722533524 0.9644\n",
      "Epoch  7\n",
      "Training performance:  0.14260520929 0.960366666667\n",
      "Validation performance:  0.148414209485 0.9639\n",
      "Epoch  8\n",
      "Training performance:  0.133126702275 0.963016666667\n",
      "Validation performance:  0.17935217917 0.9591\n",
      "Epoch  9\n",
      "Training performance:  0.124563701147 0.96565\n",
      "Validation performance:  0.160380229354 0.9645\n",
      "Epoch  10\n",
      "Training performance:  0.120537884072 0.96555\n",
      "Validation performance:  0.169511005282 0.9635\n",
      "Epoch  11\n",
      "Training performance:  0.122136352131 0.965883333333\n",
      "Validation performance:  0.165368929505 0.9617\n",
      "Epoch  12\n",
      "Training performance:  0.115808544795 0.96735\n",
      "Validation performance:  0.15153439343 0.9617\n",
      "Epoch  13\n",
      "Training performance:  0.116877553804 0.967366666667\n",
      "Validation performance:  0.159283772111 0.9643\n",
      "Epoch  14\n",
      "Training performance:  0.113376838304 0.9682\n",
      "Validation performance:  0.171649485826 0.9624\n",
      "Epoch  15\n",
      "Training performance:  0.110256526302 0.96955\n",
      "Validation performance:  0.132441923022 0.9672\n",
      "Epoch  16\n",
      "Training performance:  0.106707028413 0.969933333333\n",
      "Validation performance:  0.159649163485 0.965\n",
      "Epoch  17\n",
      "Training performance:  0.106368551903 0.9704\n",
      "Validation performance:  0.160732746124 0.9625\n",
      "Epoch  18\n",
      "Training performance:  0.103221871064 0.97075\n",
      "Validation performance:  0.139535844326 0.9672\n",
      "Epoch  19\n",
      "Training performance:  0.10400456264 0.970816666667\n",
      "Validation performance:  0.131938576698 0.9657\n",
      "Epoch  20\n",
      "Training performance:  0.103157015207 0.971016666667\n",
      "Validation performance:  0.169505000114 0.9651\n",
      "Epoch  21\n",
      "Training performance:  0.0986809612246 0.972216666667\n",
      "Validation performance:  0.175531536341 0.9623\n",
      "Epoch  22\n",
      "Training performance:  0.101370206613 0.971466666667\n",
      "Validation performance:  0.165171951056 0.9663\n",
      "Epoch  23\n",
      "Training performance:  0.106208840562 0.970883333333\n",
      "Validation performance:  0.166067242622 0.9635\n",
      "Epoch  24\n",
      "Training performance:  0.103557007309 0.97125\n",
      "Validation performance:  0.167204901576 0.9635\n"
     ]
    }
   ],
   "source": [
    "for epoch in range(25):\n",
    "    epoch_cost, epoch_acc, k = 0, 0, 0\n",
    "    # iterate over batch_index\n",
    "    for bidx in range(60000/100):\n",
    "        cost, acc = train_fn(X_train[bidx*100:(bidx+1)*100], y_train[bidx*100:(bidx+1)*100])\n",
    "        epoch_cost += cost\n",
    "        epoch_acc  += acc\n",
    "        k += 1\n",
    "        \n",
    "    epoch_cost /= k\n",
    "    epoch_acc  /= k\n",
    "    \n",
    "    print \"Epoch \", str(epoch)\n",
    "    print \"Training performance: \", epoch_cost, epoch_acc\n",
    "    \n",
    "    test_cost, test_acc = test_fn(X_test, y_test)\n",
    "    print \"Validation performance: \", test_cost, test_acc"
   ]
  },
  {
   "cell_type": "code",
   "execution_count": null,
   "metadata": {
    "collapsed": true
   },
   "outputs": [],
   "source": []
  }
 ],
 "metadata": {
  "kernelspec": {
   "display_name": "Python 2",
   "language": "python",
   "name": "python2"
  },
  "language_info": {
   "codemirror_mode": {
    "name": "ipython",
    "version": 2
   },
   "file_extension": ".py",
   "mimetype": "text/x-python",
   "name": "python",
   "nbconvert_exporter": "python",
   "pygments_lexer": "ipython2",
   "version": "2.7.6"
  },
  "latex_envs": {
   "bibliofile": "biblio.bib",
   "cite_by": "apalike",
   "current_citInitial": 1,
   "eqLabelWithNumbers": true,
   "eqNumInitial": 0
  }
 },
 "nbformat": 4,
 "nbformat_minor": 0
}
